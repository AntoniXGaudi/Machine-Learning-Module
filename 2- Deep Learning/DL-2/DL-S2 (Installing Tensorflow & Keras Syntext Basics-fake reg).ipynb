{
 "cells": [
  {
   "cell_type": "markdown",
   "metadata": {
    "id": "yQGQcaYcYF_5"
   },
   "source": [
    "___\n",
    "\n",
    "<p style=\"text-align: center;\"><img src=\"https://docs.google.com/uc?id=1lY0Uj5R04yMY3-ZppPWxqCr5pvBLYPnV\" class=\"img-fluid\" alt=\"CLRSWY\"></p>\n",
    "\n",
    "___"
   ]
  },
  {
   "cell_type": "markdown",
   "metadata": {
    "id": "bV_OY9eBYF_7"
   },
   "source": [
    "<h1 style=\"text-align: center;\">Deep Learning<br><br>Session - 2<br><br>Installing Tensorflow & Keras Syntax Basics<br><br>Fake Reg<br><h1>"
   ]
  },
  {
   "cell_type": "markdown",
   "metadata": {
    "id": "AVMFCWTuYF_7"
   },
   "source": [
    "# Installing Tensorflow"
   ]
  },
  {
   "cell_type": "markdown",
   "metadata": {},
   "source": [
    "If you are using python's package manager `pip`, you can install tensorflow by running:\n",
    "```bash\n",
    "!pip install tensorflow\n",
    "```\n",
    "However, this way of installing packages is discouraged. You should be using a more sophisticated package\n",
    "manager such as the one that comes with the `anaconda` distribution, which handles dependencies and version compatibility as well.\n",
    "If you are using `anaconda`, you can install tensorflow with:\n",
    "```bash\n",
    "!conda install tensorflow\n",
    "```\n",
    "In case you have access to a cuda-enabled gpu, you should instead install the gpu compatible version of tensorflow with:\n",
    "```bash\n",
    "!conda install tensorflow-gpu\n",
    "```\n",
    "If you are not sure if your gpu is cuda-enabled, you can visit [this link](https://developer.nvidia.com/cuda-gpus).\n",
    "Please note that, at the time of writing this, only nvidia gpus are cuda-enabled."
   ]
  },
  {
   "cell_type": "code",
   "execution_count": 1,
   "metadata": {},
   "outputs": [],
   "source": [
    "try:\n",
    "    import jupyter_black\n",
    "\n",
    "    jupyter_black.load()\n",
    "except ImportError:\n",
    "    pass"
   ]
  },
  {
   "cell_type": "code",
   "execution_count": 2,
   "metadata": {},
   "outputs": [],
   "source": [
    "import os\n",
    "\n",
    "# Set TF log level to ignore INFOs.\n",
    "os.environ[\"TF_CPP_MIN_LOG_LEVEL\"] = \"1\""
   ]
  },
  {
   "cell_type": "code",
   "execution_count": 3,
   "metadata": {
    "colab": {
     "base_uri": "https://localhost:8080/"
    },
    "executionInfo": {
     "elapsed": 11,
     "status": "ok",
     "timestamp": 1655407692762,
     "user": {
      "displayName": "Edward Williams",
      "userId": "15751998290745019023"
     },
     "user_tz": -120
    },
    "id": "LomvgaXNYF_8",
    "outputId": "dec7132a-4cff-4c0c-894d-e1d113ee59b9"
   },
   "outputs": [
    {
     "name": "stdout",
     "output_type": "stream",
     "text": [
      "Python 3.9.17\n"
     ]
    }
   ],
   "source": [
    "# Check python version\n",
    "!python --version"
   ]
  },
  {
   "cell_type": "code",
   "execution_count": 4,
   "metadata": {
    "id": "PJmTZvrkYF_-",
    "outputId": "bfd0a8a4-ba6a-4184-f74b-c30d80d54fda"
   },
   "outputs": [
    {
     "data": {
      "text/plain": [
       "'2.11.0'"
      ]
     },
     "execution_count": 4,
     "metadata": {},
     "output_type": "execute_result"
    }
   ],
   "source": [
    "# Check tensorflow version\n",
    "import tensorflow as tf\n",
    "\n",
    "tf.__version__"
   ]
  },
  {
   "cell_type": "code",
   "execution_count": 5,
   "metadata": {},
   "outputs": [
    {
     "name": "stdout",
     "output_type": "stream",
     "text": [
      "CPU will be used for this session\n"
     ]
    }
   ],
   "source": [
    "# List cuda-capable gpu's that are attached to this session\n",
    "if tf.config.list_physical_devices(\"GPU\"):\n",
    "    print(\"GPU support is enabled for this session\")\n",
    "else:\n",
    "    print(\"CPU will be used for this session\")"
   ]
  },
  {
   "cell_type": "code",
   "execution_count": 6,
   "metadata": {},
   "outputs": [],
   "source": [
    "# Get more information about the GPU\n",
    "if tf.config.list_physical_devices(\"GPU\"):\n",
    "    !nvidia-smi"
   ]
  },
  {
   "cell_type": "markdown",
   "metadata": {
    "id": "ID58GLICYF__"
   },
   "source": [
    "# Keras Syntax Basics"
   ]
  },
  {
   "cell_type": "code",
   "execution_count": 7,
   "metadata": {
    "id": "ltaJwcuGYF__"
   },
   "outputs": [],
   "source": [
    "import numpy as np\n",
    "import pandas as pd\n",
    "import matplotlib.pyplot as plt\n",
    "import seaborn as sns\n",
    "\n",
    "## Uncomment the following lines if you want to suppress warnings:\n",
    "# import warnings\n",
    "# warnings.filterwarnings(\"ignore\")\n",
    "# warnings.warn(\"this will not show\")\n",
    "\n",
    "plt.rcParams[\"figure.figsize\"] = (10, 6)\n",
    "\n",
    "sns.set_style(\"whitegrid\")\n",
    "pd.set_option(\"display.float_format\", lambda x: \"%.3f\" % x)\n",
    "\n",
    "## Set it to None to display all rows in the dataframe:\n",
    "# pd.set_option('display.max_rows', None)\n",
    "\n",
    "# Set it to None to display all columns in the dataframe:\n",
    "pd.set_option(\"display.max_columns\", None)"
   ]
  },
  {
   "cell_type": "code",
   "execution_count": 8,
   "metadata": {
    "id": "_ZmgVPfxYGAA"
   },
   "outputs": [],
   "source": [
    "## If importing data from google drive, import drive from google.colab and mount your drive to the session:\n",
    "# from google.colab import drive\n",
    "# drive.mount('/content/drive')"
   ]
  },
  {
   "cell_type": "code",
   "execution_count": 9,
   "metadata": {
    "id": "GpeUB7FNYGAA"
   },
   "outputs": [],
   "source": [
    "## Make sure to provide the correct path if drive is mounted:\n",
    "# df = pd.read_csv(\"drive/MyDrive/Colab_Files/data/fake_reg.csv\")"
   ]
  },
  {
   "cell_type": "code",
   "execution_count": 10,
   "metadata": {
    "id": "ZuOi0MyeYGAA"
   },
   "outputs": [],
   "source": [
    "df = pd.read_csv(\"fake_reg.csv\")"
   ]
  },
  {
   "cell_type": "markdown",
   "metadata": {
    "id": "kLE5OOGyYGAC"
   },
   "source": [
    "## Exploratory Data Analysis and Visualization"
   ]
  },
  {
   "cell_type": "code",
   "execution_count": 11,
   "metadata": {
    "id": "CaLCY4fmYGAC",
    "outputId": "03fc2465-6d6a-40d4-e602-5c6298c0f0d1"
   },
   "outputs": [
    {
     "data": {
      "text/html": [
       "<div>\n",
       "<style scoped>\n",
       "    .dataframe tbody tr th:only-of-type {\n",
       "        vertical-align: middle;\n",
       "    }\n",
       "\n",
       "    .dataframe tbody tr th {\n",
       "        vertical-align: top;\n",
       "    }\n",
       "\n",
       "    .dataframe thead th {\n",
       "        text-align: right;\n",
       "    }\n",
       "</style>\n",
       "<table border=\"1\" class=\"dataframe\">\n",
       "  <thead>\n",
       "    <tr style=\"text-align: right;\">\n",
       "      <th></th>\n",
       "      <th>price</th>\n",
       "      <th>feature1</th>\n",
       "      <th>feature2</th>\n",
       "    </tr>\n",
       "  </thead>\n",
       "  <tbody>\n",
       "    <tr>\n",
       "      <th>0</th>\n",
       "      <td>461.528</td>\n",
       "      <td>999.788</td>\n",
       "      <td>999.766</td>\n",
       "    </tr>\n",
       "    <tr>\n",
       "      <th>1</th>\n",
       "      <td>548.130</td>\n",
       "      <td>998.862</td>\n",
       "      <td>1001.042</td>\n",
       "    </tr>\n",
       "    <tr>\n",
       "      <th>2</th>\n",
       "      <td>410.297</td>\n",
       "      <td>1000.070</td>\n",
       "      <td>998.844</td>\n",
       "    </tr>\n",
       "    <tr>\n",
       "      <th>3</th>\n",
       "      <td>540.382</td>\n",
       "      <td>999.952</td>\n",
       "      <td>1000.441</td>\n",
       "    </tr>\n",
       "    <tr>\n",
       "      <th>4</th>\n",
       "      <td>546.025</td>\n",
       "      <td>1000.446</td>\n",
       "      <td>1000.339</td>\n",
       "    </tr>\n",
       "  </tbody>\n",
       "</table>\n",
       "</div>"
      ],
      "text/plain": [
       "    price  feature1  feature2\n",
       "0 461.528   999.788   999.766\n",
       "1 548.130   998.862  1001.042\n",
       "2 410.297  1000.070   998.844\n",
       "3 540.382   999.952  1000.441\n",
       "4 546.025  1000.446  1000.339"
      ]
     },
     "execution_count": 11,
     "metadata": {},
     "output_type": "execute_result"
    }
   ],
   "source": [
    "df.head()"
   ]
  },
  {
   "cell_type": "code",
   "execution_count": 12,
   "metadata": {
    "id": "j5NcInMDYGAD",
    "outputId": "2ba29901-3b23-47a6-9bdd-2a91bd01d0b6"
   },
   "outputs": [
    {
     "name": "stdout",
     "output_type": "stream",
     "text": [
      "<class 'pandas.core.frame.DataFrame'>\n",
      "RangeIndex: 1000 entries, 0 to 999\n",
      "Data columns (total 3 columns):\n",
      " #   Column    Non-Null Count  Dtype  \n",
      "---  ------    --------------  -----  \n",
      " 0   price     1000 non-null   float64\n",
      " 1   feature1  1000 non-null   float64\n",
      " 2   feature2  1000 non-null   float64\n",
      "dtypes: float64(3)\n",
      "memory usage: 23.6 KB\n"
     ]
    }
   ],
   "source": [
    "df.info()"
   ]
  },
  {
   "cell_type": "code",
   "execution_count": 13,
   "metadata": {
    "id": "Gy5QaohhYGAD",
    "outputId": "10c2589c-5583-45ef-82e6-6fd9e435dba3"
   },
   "outputs": [
    {
     "data": {
      "text/html": [
       "<div>\n",
       "<style scoped>\n",
       "    .dataframe tbody tr th:only-of-type {\n",
       "        vertical-align: middle;\n",
       "    }\n",
       "\n",
       "    .dataframe tbody tr th {\n",
       "        vertical-align: top;\n",
       "    }\n",
       "\n",
       "    .dataframe thead th {\n",
       "        text-align: right;\n",
       "    }\n",
       "</style>\n",
       "<table border=\"1\" class=\"dataframe\">\n",
       "  <thead>\n",
       "    <tr style=\"text-align: right;\">\n",
       "      <th></th>\n",
       "      <th>count</th>\n",
       "      <th>mean</th>\n",
       "      <th>std</th>\n",
       "      <th>min</th>\n",
       "      <th>25%</th>\n",
       "      <th>50%</th>\n",
       "      <th>75%</th>\n",
       "      <th>max</th>\n",
       "    </tr>\n",
       "  </thead>\n",
       "  <tbody>\n",
       "    <tr>\n",
       "      <th>price</th>\n",
       "      <td>1000.000</td>\n",
       "      <td>498.673</td>\n",
       "      <td>93.785</td>\n",
       "      <td>223.347</td>\n",
       "      <td>433.026</td>\n",
       "      <td>502.382</td>\n",
       "      <td>564.922</td>\n",
       "      <td>774.408</td>\n",
       "    </tr>\n",
       "    <tr>\n",
       "      <th>feature1</th>\n",
       "      <td>1000.000</td>\n",
       "      <td>1000.014</td>\n",
       "      <td>0.974</td>\n",
       "      <td>997.058</td>\n",
       "      <td>999.332</td>\n",
       "      <td>1000.010</td>\n",
       "      <td>1000.638</td>\n",
       "      <td>1003.208</td>\n",
       "    </tr>\n",
       "    <tr>\n",
       "      <th>feature2</th>\n",
       "      <td>1000.000</td>\n",
       "      <td>999.980</td>\n",
       "      <td>0.948</td>\n",
       "      <td>996.996</td>\n",
       "      <td>999.316</td>\n",
       "      <td>1000.002</td>\n",
       "      <td>1000.645</td>\n",
       "      <td>1002.666</td>\n",
       "    </tr>\n",
       "  </tbody>\n",
       "</table>\n",
       "</div>"
      ],
      "text/plain": [
       "            count     mean    std     min     25%      50%      75%      max\n",
       "price    1000.000  498.673 93.785 223.347 433.026  502.382  564.922  774.408\n",
       "feature1 1000.000 1000.014  0.974 997.058 999.332 1000.010 1000.638 1003.208\n",
       "feature2 1000.000  999.980  0.948 996.996 999.316 1000.002 1000.645 1002.666"
      ]
     },
     "execution_count": 13,
     "metadata": {},
     "output_type": "execute_result"
    }
   ],
   "source": [
    "df.describe().T"
   ]
  },
  {
   "cell_type": "code",
   "execution_count": 14,
   "metadata": {
    "id": "-Ebw6uXDYGAE",
    "outputId": "df70872e-46b8-4ff5-8193-3ec36d7849a3"
   },
   "outputs": [
    {
     "data": {
      "image/png": "[encoded data removed]",
      "text/plain": [
       "<Figure size 750x750 with 12 Axes>"
      ]
     },
     "metadata": {},
     "output_type": "display_data"
    }
   ],
   "source": [
    "sns.pairplot(df)\n",
    "plt.show()"
   ]
  },
  {
   "cell_type": "code",
   "execution_count": 15,
   "metadata": {
    "id": "R-MKjPmNYGAE",
    "outputId": "090a6046-c267-40dc-cd4e-40b812b71bb0"
   },
   "outputs": [
    {
     "data": {
      "text/html": [
       "<div>\n",
       "<style scoped>\n",
       "    .dataframe tbody tr th:only-of-type {\n",
       "        vertical-align: middle;\n",
       "    }\n",
       "\n",
       "    .dataframe tbody tr th {\n",
       "        vertical-align: top;\n",
       "    }\n",
       "\n",
       "    .dataframe thead th {\n",
       "        text-align: right;\n",
       "    }\n",
       "</style>\n",
       "<table border=\"1\" class=\"dataframe\">\n",
       "  <thead>\n",
       "    <tr style=\"text-align: right;\">\n",
       "      <th></th>\n",
       "      <th>price</th>\n",
       "      <th>feature1</th>\n",
       "      <th>feature2</th>\n",
       "    </tr>\n",
       "  </thead>\n",
       "  <tbody>\n",
       "    <tr>\n",
       "      <th>price</th>\n",
       "      <td>1.000</td>\n",
       "      <td>0.444</td>\n",
       "      <td>0.908</td>\n",
       "    </tr>\n",
       "    <tr>\n",
       "      <th>feature1</th>\n",
       "      <td>0.444</td>\n",
       "      <td>1.000</td>\n",
       "      <td>0.031</td>\n",
       "    </tr>\n",
       "    <tr>\n",
       "      <th>feature2</th>\n",
       "      <td>0.908</td>\n",
       "      <td>0.031</td>\n",
       "      <td>1.000</td>\n",
       "    </tr>\n",
       "  </tbody>\n",
       "</table>\n",
       "</div>"
      ],
      "text/plain": [
       "          price  feature1  feature2\n",
       "price     1.000     0.444     0.908\n",
       "feature1  0.444     1.000     0.031\n",
       "feature2  0.908     0.031     1.000"
      ]
     },
     "execution_count": 15,
     "metadata": {},
     "output_type": "execute_result"
    }
   ],
   "source": [
    "df.corr()"
   ]
  },
  {
   "cell_type": "markdown",
   "metadata": {
    "id": "O3Ku2VSEYGAF"
   },
   "source": [
    "## Preprocessing of Data\n",
    "1. Split the data into train and test sets\n",
    "2. Scale the dataset\n",
    "\n",
    "**Note:** *Neural networks are extremely sensitive to the scale of your data, as they are using gradient descent as the optimisation algorithm which may not converge if the data has columns of different scales.*"
   ]
  },
  {
   "cell_type": "code",
   "execution_count": 16,
   "metadata": {
    "id": "QRWJczjFYGAF"
   },
   "outputs": [],
   "source": [
    "from sklearn.model_selection import train_test_split"
   ]
  },
  {
   "cell_type": "code",
   "execution_count": 17,
   "metadata": {
    "id": "isOKQsJUYGAG"
   },
   "outputs": [],
   "source": [
    "X = df[[\"feature1\", \"feature2\"]]\n",
    "y = df[\"price\"]"
   ]
  },
  {
   "cell_type": "code",
   "execution_count": 18,
   "metadata": {
    "id": "yUGOs7EKYGAG",
    "outputId": "1c466c61-b6f4-4dd3-8988-0d40df6e19ec"
   },
   "outputs": [
    {
     "data": {
      "text/html": [
       "<div>\n",
       "<style scoped>\n",
       "    .dataframe tbody tr th:only-of-type {\n",
       "        vertical-align: middle;\n",
       "    }\n",
       "\n",
       "    .dataframe tbody tr th {\n",
       "        vertical-align: top;\n",
       "    }\n",
       "\n",
       "    .dataframe thead th {\n",
       "        text-align: right;\n",
       "    }\n",
       "</style>\n",
       "<table border=\"1\" class=\"dataframe\">\n",
       "  <thead>\n",
       "    <tr style=\"text-align: right;\">\n",
       "      <th></th>\n",
       "      <th>feature1</th>\n",
       "      <th>feature2</th>\n",
       "    </tr>\n",
       "  </thead>\n",
       "  <tbody>\n",
       "    <tr>\n",
       "      <th>0</th>\n",
       "      <td>999.788</td>\n",
       "      <td>999.766</td>\n",
       "    </tr>\n",
       "    <tr>\n",
       "      <th>1</th>\n",
       "      <td>998.862</td>\n",
       "      <td>1001.042</td>\n",
       "    </tr>\n",
       "    <tr>\n",
       "      <th>2</th>\n",
       "      <td>1000.070</td>\n",
       "      <td>998.844</td>\n",
       "    </tr>\n",
       "    <tr>\n",
       "      <th>3</th>\n",
       "      <td>999.952</td>\n",
       "      <td>1000.441</td>\n",
       "    </tr>\n",
       "    <tr>\n",
       "      <th>4</th>\n",
       "      <td>1000.446</td>\n",
       "      <td>1000.339</td>\n",
       "    </tr>\n",
       "    <tr>\n",
       "      <th>...</th>\n",
       "      <td>...</td>\n",
       "      <td>...</td>\n",
       "    </tr>\n",
       "    <tr>\n",
       "      <th>995</th>\n",
       "      <td>1000.019</td>\n",
       "      <td>999.673</td>\n",
       "    </tr>\n",
       "    <tr>\n",
       "      <th>996</th>\n",
       "      <td>998.855</td>\n",
       "      <td>1000.020</td>\n",
       "    </tr>\n",
       "    <tr>\n",
       "      <th>997</th>\n",
       "      <td>1001.452</td>\n",
       "      <td>998.848</td>\n",
       "    </tr>\n",
       "    <tr>\n",
       "      <th>998</th>\n",
       "      <td>1000.771</td>\n",
       "      <td>998.563</td>\n",
       "    </tr>\n",
       "    <tr>\n",
       "      <th>999</th>\n",
       "      <td>999.232</td>\n",
       "      <td>1001.451</td>\n",
       "    </tr>\n",
       "  </tbody>\n",
       "</table>\n",
       "<p>1000 rows × 2 columns</p>\n",
       "</div>"
      ],
      "text/plain": [
       "     feature1  feature2\n",
       "0     999.788   999.766\n",
       "1     998.862  1001.042\n",
       "2    1000.070   998.844\n",
       "3     999.952  1000.441\n",
       "4    1000.446  1000.339\n",
       "..        ...       ...\n",
       "995  1000.019   999.673\n",
       "996   998.855  1000.020\n",
       "997  1001.452   998.848\n",
       "998  1000.771   998.563\n",
       "999   999.232  1001.451\n",
       "\n",
       "[1000 rows x 2 columns]"
      ]
     },
     "execution_count": 18,
     "metadata": {},
     "output_type": "execute_result"
    }
   ],
   "source": [
    "X"
   ]
  },
  {
   "cell_type": "code",
   "execution_count": 19,
   "metadata": {
    "id": "cSQQ1ZxAYGAG",
    "outputId": "252ef114-27e1-417a-c20e-bc454f820453"
   },
   "outputs": [
    {
     "data": {
      "text/plain": [
       "0     461.528\n",
       "1     548.130\n",
       "2     410.297\n",
       "3     540.382\n",
       "4     546.025\n",
       "        ...  \n",
       "995   476.526\n",
       "996   457.313\n",
       "997   456.721\n",
       "998   403.316\n",
       "999   599.367\n",
       "Name: price, Length: 1000, dtype: float64"
      ]
     },
     "execution_count": 19,
     "metadata": {},
     "output_type": "execute_result"
    }
   ],
   "source": [
    "y"
   ]
  },
  {
   "cell_type": "code",
   "execution_count": 20,
   "metadata": {},
   "outputs": [],
   "source": [
    "# Neural network leri array olarak alıyor.\n",
    "# Üstteki gösterimde .values ile alınınca array olarak alıyor.\n",
    "# İkinci gösterimde dataframe halinde x ve y yi oluşturmamıza rağmen aşağıda scale yapınca tekrar array forma dönüşecek."
   ]
  },
  {
   "cell_type": "code",
   "execution_count": 21,
   "metadata": {},
   "outputs": [],
   "source": [
    "# X = df[['feature1', 'feature2']].values  # convert to array\n",
    "# y = df['price'].values"
   ]
  },
  {
   "cell_type": "code",
   "execution_count": 22,
   "metadata": {
    "id": "9wrSrCGbYGAH"
   },
   "outputs": [],
   "source": [
    "X_train, X_test, y_train, y_test = train_test_split(X, \n",
    "                                                    y, \n",
    "                                                    test_size=0.3, \n",
    "                                                    random_state=42\n",
    "                                                   )"
   ]
  },
  {
   "cell_type": "code",
   "execution_count": 23,
   "metadata": {
    "id": "cofsZt3PYGAH",
    "outputId": "35d2786a-0b29-4132-d673-04e160ec4627"
   },
   "outputs": [
    {
     "data": {
      "text/plain": [
       "(700, 2)"
      ]
     },
     "execution_count": 23,
     "metadata": {},
     "output_type": "execute_result"
    }
   ],
   "source": [
    "X_train.shape"
   ]
  },
  {
   "cell_type": "code",
   "execution_count": 24,
   "metadata": {
    "id": "GpBVP5DUYGAI",
    "outputId": "9dbdc53b-bbf3-40a3-c2e8-95c3910843ad"
   },
   "outputs": [
    {
     "data": {
      "text/plain": [
       "(300, 2)"
      ]
     },
     "execution_count": 24,
     "metadata": {},
     "output_type": "execute_result"
    }
   ],
   "source": [
    "X_test.shape"
   ]
  },
  {
   "cell_type": "code",
   "execution_count": 25,
   "metadata": {
    "id": "orqAUW2pYGAI"
   },
   "outputs": [],
   "source": [
    "from sklearn.preprocessing import MinMaxScaler # büyük data setlerinde MinMaxScaler kullanmak daha iyi\n",
    "\n",
    "# X_std = (X - X.min(axis=0)) / (X.max(axis=0) - X.min(axis=0))\n",
    "# X_scaled = X_std * (max - min) + min\n",
    "\n",
    "# Özellikle dummy lenmiş data ile minmax kullanmak daha uygun."
   ]
  },
  {
   "cell_type": "raw",
   "metadata": {},
   "source": [
    "- minmaxscaler, minimum ve maksimum değerleri alıp diğer değerleri aralarına orantılı olarak dağıtıyordu.\n",
    "- test datasını minmaxscale etmedik. \n",
    "- sadece train datasını scale ettik. \n",
    "- min ve max değerlerini train datasındaki değerlerden seçip diğer değerleri onların arasına yerleştirdiği için test datasında 1'in biraz üzeri ve 0'ın biraz altında değerler çıkması normal."
   ]
  },
  {
   "cell_type": "code",
   "execution_count": 26,
   "metadata": {
    "id": "4yxVgMqWYGAI",
    "outputId": "8d3de8a6-0973-4301-fbab-167f0e496d6c"
   },
   "outputs": [
    {
     "name": "stdout",
     "output_type": "stream",
     "text": [
      "Help on class MinMaxScaler in module sklearn.preprocessing._data:\n",
      "\n",
      "class MinMaxScaler(sklearn.base.OneToOneFeatureMixin, sklearn.base.TransformerMixin, sklearn.base.BaseEstimator)\n",
      " |  MinMaxScaler(feature_range=(0, 1), *, copy=True, clip=False)\n",
      " |  \n",
      " |  Transform features by scaling each feature to a given range.\n",
      " |  \n",
      " |  This estimator scales and translates each feature individually such\n",
      " |  that it is in the given range on the training set, e.g. between\n",
      " |  zero and one.\n",
      " |  \n",
      " |  The transformation is given by::\n",
      " |  \n",
      " |      X_std = (X - X.min(axis=0)) / (X.max(axis=0) - X.min(axis=0))\n",
      " |      X_scaled = X_std * (max - min) + min\n",
      " |  \n",
      " |  where min, max = feature_range.\n",
      " |  \n",
      " |  This transformation is often used as an alternative to zero mean,\n",
      " |  unit variance scaling.\n",
      " |  \n",
      " |  Read more in the :ref:`User Guide <preprocessing_scaler>`.\n",
      " |  \n",
      " |  Parameters\n",
      " |  ----------\n",
      " |  feature_range : tuple (min, max), default=(0, 1)\n",
      " |      Desired range of transformed data.\n",
      " |  \n",
      " |  copy : bool, default=True\n",
      " |      Set to False to perform inplace row normalization and avoid a\n",
      " |      copy (if the input is already a numpy array).\n",
      " |  \n",
      " |  clip : bool, default=False\n",
      " |      Set to True to clip transformed values of held-out data to\n",
      " |      provided `feature range`.\n",
      " |  \n",
      " |      .. versionadded:: 0.24\n",
      " |  \n",
      " |  Attributes\n",
      " |  ----------\n",
      " |  min_ : ndarray of shape (n_features,)\n",
      " |      Per feature adjustment for minimum. Equivalent to\n",
      " |      ``min - X.min(axis=0) * self.scale_``\n",
      " |  \n",
      " |  scale_ : ndarray of shape (n_features,)\n",
      " |      Per feature relative scaling of the data. Equivalent to\n",
      " |      ``(max - min) / (X.max(axis=0) - X.min(axis=0))``\n",
      " |  \n",
      " |      .. versionadded:: 0.17\n",
      " |         *scale_* attribute.\n",
      " |  \n",
      " |  data_min_ : ndarray of shape (n_features,)\n",
      " |      Per feature minimum seen in the data\n",
      " |  \n",
      " |      .. versionadded:: 0.17\n",
      " |         *data_min_*\n",
      " |  \n",
      " |  data_max_ : ndarray of shape (n_features,)\n",
      " |      Per feature maximum seen in the data\n",
      " |  \n",
      " |      .. versionadded:: 0.17\n",
      " |         *data_max_*\n",
      " |  \n",
      " |  data_range_ : ndarray of shape (n_features,)\n",
      " |      Per feature range ``(data_max_ - data_min_)`` seen in the data\n",
      " |  \n",
      " |      .. versionadded:: 0.17\n",
      " |         *data_range_*\n",
      " |  \n",
      " |  n_features_in_ : int\n",
      " |      Number of features seen during :term:`fit`.\n",
      " |  \n",
      " |      .. versionadded:: 0.24\n",
      " |  \n",
      " |  n_samples_seen_ : int\n",
      " |      The number of samples processed by the estimator.\n",
      " |      It will be reset on new calls to fit, but increments across\n",
      " |      ``partial_fit`` calls.\n",
      " |  \n",
      " |  feature_names_in_ : ndarray of shape (`n_features_in_`,)\n",
      " |      Names of features seen during :term:`fit`. Defined only when `X`\n",
      " |      has feature names that are all strings.\n",
      " |  \n",
      " |      .. versionadded:: 1.0\n",
      " |  \n",
      " |  See Also\n",
      " |  --------\n",
      " |  minmax_scale : Equivalent function without the estimator API.\n",
      " |  \n",
      " |  Notes\n",
      " |  -----\n",
      " |  NaNs are treated as missing values: disregarded in fit, and maintained in\n",
      " |  transform.\n",
      " |  \n",
      " |  For a comparison of the different scalers, transformers, and normalizers,\n",
      " |  see :ref:`examples/preprocessing/plot_all_scaling.py\n",
      " |  <sphx_glr_auto_examples_preprocessing_plot_all_scaling.py>`.\n",
      " |  \n",
      " |  Examples\n",
      " |  --------\n",
      " |  >>> from sklearn.preprocessing import MinMaxScaler\n",
      " |  >>> data = [[-1, 2], [-0.5, 6], [0, 10], [1, 18]]\n",
      " |  >>> scaler = MinMaxScaler()\n",
      " |  >>> print(scaler.fit(data))\n",
      " |  MinMaxScaler()\n",
      " |  >>> print(scaler.data_max_)\n",
      " |  [ 1. 18.]\n",
      " |  >>> print(scaler.transform(data))\n",
      " |  [[0.   0.  ]\n",
      " |   [0.25 0.25]\n",
      " |   [0.5  0.5 ]\n",
      " |   [1.   1.  ]]\n",
      " |  >>> print(scaler.transform([[2, 2]]))\n",
      " |  [[1.5 0. ]]\n",
      " |  \n",
      " |  Method resolution order:\n",
      " |      MinMaxScaler\n",
      " |      sklearn.base.OneToOneFeatureMixin\n",
      " |      sklearn.base.TransformerMixin\n",
      " |      sklearn.utils._set_output._SetOutputMixin\n",
      " |      sklearn.base.BaseEstimator\n",
      " |      builtins.object\n",
      " |  \n",
      " |  Methods defined here:\n",
      " |  \n",
      " |  __init__(self, feature_range=(0, 1), *, copy=True, clip=False)\n",
      " |      Initialize self.  See help(type(self)) for accurate signature.\n",
      " |  \n",
      " |  fit(self, X, y=None)\n",
      " |      Compute the minimum and maximum to be used for later scaling.\n",
      " |      \n",
      " |      Parameters\n",
      " |      ----------\n",
      " |      X : array-like of shape (n_samples, n_features)\n",
      " |          The data used to compute the per-feature minimum and maximum\n",
      " |          used for later scaling along the features axis.\n",
      " |      \n",
      " |      y : None\n",
      " |          Ignored.\n",
      " |      \n",
      " |      Returns\n",
      " |      -------\n",
      " |      self : object\n",
      " |          Fitted scaler.\n",
      " |  \n",
      " |  inverse_transform(self, X)\n",
      " |      Undo the scaling of X according to feature_range.\n",
      " |      \n",
      " |      Parameters\n",
      " |      ----------\n",
      " |      X : array-like of shape (n_samples, n_features)\n",
      " |          Input data that will be transformed. It cannot be sparse.\n",
      " |      \n",
      " |      Returns\n",
      " |      -------\n",
      " |      Xt : ndarray of shape (n_samples, n_features)\n",
      " |          Transformed data.\n",
      " |  \n",
      " |  partial_fit(self, X, y=None)\n",
      " |      Online computation of min and max on X for later scaling.\n",
      " |      \n",
      " |      All of X is processed as a single batch. This is intended for cases\n",
      " |      when :meth:`fit` is not feasible due to very large number of\n",
      " |      `n_samples` or because X is read from a continuous stream.\n",
      " |      \n",
      " |      Parameters\n",
      " |      ----------\n",
      " |      X : array-like of shape (n_samples, n_features)\n",
      " |          The data used to compute the mean and standard deviation\n",
      " |          used for later scaling along the features axis.\n",
      " |      \n",
      " |      y : None\n",
      " |          Ignored.\n",
      " |      \n",
      " |      Returns\n",
      " |      -------\n",
      " |      self : object\n",
      " |          Fitted scaler.\n",
      " |  \n",
      " |  transform(self, X)\n",
      " |      Scale features of X according to feature_range.\n",
      " |      \n",
      " |      Parameters\n",
      " |      ----------\n",
      " |      X : array-like of shape (n_samples, n_features)\n",
      " |          Input data that will be transformed.\n",
      " |      \n",
      " |      Returns\n",
      " |      -------\n",
      " |      Xt : ndarray of shape (n_samples, n_features)\n",
      " |          Transformed data.\n",
      " |  \n",
      " |  ----------------------------------------------------------------------\n",
      " |  Data and other attributes defined here:\n",
      " |  \n",
      " |  __annotations__ = {'_parameter_constraints': <class 'dict'>}\n",
      " |  \n",
      " |  ----------------------------------------------------------------------\n",
      " |  Methods inherited from sklearn.base.OneToOneFeatureMixin:\n",
      " |  \n",
      " |  get_feature_names_out(self, input_features=None)\n",
      " |      Get output feature names for transformation.\n",
      " |      \n",
      " |      Parameters\n",
      " |      ----------\n",
      " |      input_features : array-like of str or None, default=None\n",
      " |          Input features.\n",
      " |      \n",
      " |          - If `input_features` is `None`, then `feature_names_in_` is\n",
      " |            used as feature names in. If `feature_names_in_` is not defined,\n",
      " |            then the following input feature names are generated:\n",
      " |            `[\"x0\", \"x1\", ..., \"x(n_features_in_ - 1)\"]`.\n",
      " |          - If `input_features` is an array-like, then `input_features` must\n",
      " |            match `feature_names_in_` if `feature_names_in_` is defined.\n",
      " |      \n",
      " |      Returns\n",
      " |      -------\n",
      " |      feature_names_out : ndarray of str objects\n",
      " |          Same as input features.\n",
      " |  \n",
      " |  ----------------------------------------------------------------------\n",
      " |  Data descriptors inherited from sklearn.base.OneToOneFeatureMixin:\n",
      " |  \n",
      " |  __dict__\n",
      " |      dictionary for instance variables (if defined)\n",
      " |  \n",
      " |  __weakref__\n",
      " |      list of weak references to the object (if defined)\n",
      " |  \n",
      " |  ----------------------------------------------------------------------\n",
      " |  Methods inherited from sklearn.base.TransformerMixin:\n",
      " |  \n",
      " |  fit_transform(self, X, y=None, **fit_params)\n",
      " |      Fit to data, then transform it.\n",
      " |      \n",
      " |      Fits transformer to `X` and `y` with optional parameters `fit_params`\n",
      " |      and returns a transformed version of `X`.\n",
      " |      \n",
      " |      Parameters\n",
      " |      ----------\n",
      " |      X : array-like of shape (n_samples, n_features)\n",
      " |          Input samples.\n",
      " |      \n",
      " |      y :  array-like of shape (n_samples,) or (n_samples, n_outputs),                 default=None\n",
      " |          Target values (None for unsupervised transformations).\n",
      " |      \n",
      " |      **fit_params : dict\n",
      " |          Additional fit parameters.\n",
      " |      \n",
      " |      Returns\n",
      " |      -------\n",
      " |      X_new : ndarray array of shape (n_samples, n_features_new)\n",
      " |          Transformed array.\n",
      " |  \n",
      " |  ----------------------------------------------------------------------\n",
      " |  Methods inherited from sklearn.utils._set_output._SetOutputMixin:\n",
      " |  \n",
      " |  set_output(self, *, transform=None)\n",
      " |      Set output container.\n",
      " |      \n",
      " |      See :ref:`sphx_glr_auto_examples_miscellaneous_plot_set_output.py`\n",
      " |      for an example on how to use the API.\n",
      " |      \n",
      " |      Parameters\n",
      " |      ----------\n",
      " |      transform : {\"default\", \"pandas\"}, default=None\n",
      " |          Configure output of `transform` and `fit_transform`.\n",
      " |      \n",
      " |          - `\"default\"`: Default output format of a transformer\n",
      " |          - `\"pandas\"`: DataFrame output\n",
      " |          - `None`: Transform configuration is unchanged\n",
      " |      \n",
      " |      Returns\n",
      " |      -------\n",
      " |      self : estimator instance\n",
      " |          Estimator instance.\n",
      " |  \n",
      " |  ----------------------------------------------------------------------\n",
      " |  Class methods inherited from sklearn.utils._set_output._SetOutputMixin:\n",
      " |  \n",
      " |  __init_subclass__(auto_wrap_output_keys=('transform',), **kwargs) from builtins.type\n",
      " |      This method is called when a class is subclassed.\n",
      " |      \n",
      " |      The default implementation does nothing. It may be\n",
      " |      overridden to extend subclasses.\n",
      " |  \n",
      " |  ----------------------------------------------------------------------\n",
      " |  Methods inherited from sklearn.base.BaseEstimator:\n",
      " |  \n",
      " |  __getstate__(self)\n",
      " |  \n",
      " |  __repr__(self, N_CHAR_MAX=700)\n",
      " |      Return repr(self).\n",
      " |  \n",
      " |  __setstate__(self, state)\n",
      " |  \n",
      " |  get_params(self, deep=True)\n",
      " |      Get parameters for this estimator.\n",
      " |      \n",
      " |      Parameters\n",
      " |      ----------\n",
      " |      deep : bool, default=True\n",
      " |          If True, will return the parameters for this estimator and\n",
      " |          contained subobjects that are estimators.\n",
      " |      \n",
      " |      Returns\n",
      " |      -------\n",
      " |      params : dict\n",
      " |          Parameter names mapped to their values.\n",
      " |  \n",
      " |  set_params(self, **params)\n",
      " |      Set the parameters of this estimator.\n",
      " |      \n",
      " |      The method works on simple estimators as well as on nested objects\n",
      " |      (such as :class:`~sklearn.pipeline.Pipeline`). The latter have\n",
      " |      parameters of the form ``<component>__<parameter>`` so that it's\n",
      " |      possible to update each component of a nested object.\n",
      " |      \n",
      " |      Parameters\n",
      " |      ----------\n",
      " |      **params : dict\n",
      " |          Estimator parameters.\n",
      " |      \n",
      " |      Returns\n",
      " |      -------\n",
      " |      self : estimator instance\n",
      " |          Estimator instance.\n",
      "\n"
     ]
    }
   ],
   "source": [
    "# Uncomment to see the documentation of MinMaxScaler taken from the docstring of the class:\n",
    "help(MinMaxScaler)"
   ]
  },
  {
   "cell_type": "code",
   "execution_count": 27,
   "metadata": {
    "id": "5TjLQgawYGAJ"
   },
   "outputs": [],
   "source": [
    "scaler = MinMaxScaler()"
   ]
  },
  {
   "cell_type": "code",
   "execution_count": 28,
   "metadata": {
    "id": "7ZxtfDOiYGAJ"
   },
   "outputs": [],
   "source": [
    "scaler.fit(X_train)\n",
    "X_train = scaler.transform(X_train)\n",
    "X_test = scaler.transform(X_test)"
   ]
  },
  {
   "cell_type": "markdown",
   "metadata": {
    "id": "OsAGjlP8YGAJ"
   },
   "source": [
    "## Modelling"
   ]
  },
  {
   "cell_type": "code",
   "execution_count": 29,
   "metadata": {
    "id": "q660_m04YGAJ"
   },
   "outputs": [],
   "source": [
    "import tensorflow as tf"
   ]
  },
  {
   "cell_type": "code",
   "execution_count": 30,
   "metadata": {
    "id": "nfNl-tmAYGAJ"
   },
   "outputs": [],
   "source": [
    "from tensorflow.keras.models import Sequential\n",
    "from tensorflow.keras.layers import Input, Dense, Activation\n",
    "\n",
    "# Sequential : model\n",
    "# Input ve Dense : layer lar"
   ]
  },
  {
   "cell_type": "code",
   "execution_count": 31,
   "metadata": {
    "id": "qBLOUTnFYGAJ",
    "outputId": "ffad1111-e952-4133-9ce6-7a6fa2b4ecab"
   },
   "outputs": [],
   "source": [
    "## Uncomment to see the docstring of the Sequential class\n",
    "# help(Sequential)"
   ]
  },
  {
   "cell_type": "code",
   "execution_count": 32,
   "metadata": {
    "id": "QN8IhxZQYGAK",
    "outputId": "58757bfb-d31d-49d8-9570-e622c5c16fc8"
   },
   "outputs": [],
   "source": [
    "## Uncomment to see the docstring of the Dense class.\n",
    "# help(Dense)"
   ]
  },
  {
   "cell_type": "code",
   "execution_count": 33,
   "metadata": {},
   "outputs": [],
   "source": [
    "# DENSE, bir önceki layer daki bir nöronun bir sonraki layer daki nöronlarla irtibatını sağlıyor."
   ]
  },
  {
   "cell_type": "code",
   "execution_count": 34,
   "metadata": {
    "id": "7OEp6qC5YGAK",
    "outputId": "f9d7a8e4-0a11-4c5a-8207-a5031204bac5"
   },
   "outputs": [
    {
     "data": {
      "text/plain": [
       "(700, 2)"
      ]
     },
     "execution_count": 34,
     "metadata": {},
     "output_type": "execute_result"
    }
   ],
   "source": [
    "X_train.shape"
   ]
  },
  {
   "cell_type": "code",
   "execution_count": 35,
   "metadata": {},
   "outputs": [],
   "source": [
    "# ek bilgi: keras ile model 3 şekilde oluşturulur. \n",
    "# Şu anda Sequential API ile oluşturmayı görüyoruz\n",
    "# 2. Functional API \n",
    "# 3. Model Subclassing"
   ]
  },
  {
   "cell_type": "code",
   "execution_count": 36,
   "metadata": {
    "id": "qckVKgVCYGAK"
   },
   "outputs": [],
   "source": [
    "# First way to create the model using the Sequential API\n",
    "\n",
    "model = Sequential(\n",
    "                   [Input(shape=X_train.shape[1]),\n",
    "                    Dense(units=4, activation=\"relu\"),\n",
    "                    Dense(units=4, activation=\"relu\"),\n",
    "                    Dense(units=4, activation=\"relu\"),\n",
    "                    Dense(units=1),\n",
    "                   ]\n",
    "                  )"
   ]
  },
  {
   "cell_type": "code",
   "execution_count": 37,
   "metadata": {},
   "outputs": [
    {
     "data": {
      "text/plain": [
       "2"
      ]
     },
     "execution_count": 37,
     "metadata": {},
     "output_type": "execute_result"
    }
   ],
   "source": [
    "X_train.shape[1]"
   ]
  },
  {
   "cell_type": "raw",
   "metadata": {},
   "source": [
    "- Sequential([Dense(units = 4, activation = \"relu\"),\n",
    "- unit ile : layerlarda kaç nöron olmasını istiyorum ve\n",
    "- activation ile : bu nöronda hangi aktivasyon fonksiyonu çalışsın bunları belirledim"
   ]
  },
  {
   "cell_type": "code",
   "execution_count": 38,
   "metadata": {
    "id": "nuCWh5vdYGAL"
   },
   "outputs": [],
   "source": [
    "# The recommended way of creating the model using the Sequential API\n",
    "\n",
    "model = Sequential()\n",
    "## Uncomment to explicitly add an input layer (not recommended).\n",
    "# model.add(Input(shape = X_train.shape[1]))  # --> input layer\n",
    "model.add(Dense(units=4,                      # Here the first hidden layer\n",
    "                activation=\"relu\",            # üstteki yapılırsa altta input layer a gerek yok\n",
    "                input_dim=X_train.shape[1])   # also behaves like the input layer as well,if provided with the input_dim parameter.\n",
    "          )  \n",
    "\n",
    "model.add(Dense(units=4, activation=\"relu\"))\n",
    "model.add(Dense(units=4, activation=\"relu\"))\n",
    "model.add(Dense(units=1))\n",
    "\n",
    "# units : neuron sayısı\n",
    "# dense : hidden layer\n",
    "# ınput : input layer\n",
    "# activation : kullanılacak activation function"
   ]
  },
  {
   "cell_type": "raw",
   "metadata": {},
   "source": [
    "How to determine the number of layers and nodes of a neural network\n",
    "\n",
    "As Yoshua Bengio, Head of Montreal Institute for Learning Algorithms remarks:\n",
    "\n",
    "\"Very simple. Just keep adding layers until the test error does not improve anymore.\"\n",
    "\n",
    "A method recommended by Geoff Hinton is to add layers until you start to overfit your training set. Then you add dropout or another regularization method."
   ]
  },
  {
   "cell_type": "raw",
   "metadata": {},
   "source": [
    "The Number of Neurons in the Hidden Layers :\n",
    "The number of Neurons in the Hidden Layers should be between the size of the input layer and the size of the output layer.\n",
    "The number of Neurons in the Hidden Layers should be 2/3 the size of the input layer, plus the size of the output layer."
   ]
  },
  {
   "cell_type": "code",
   "execution_count": 39,
   "metadata": {},
   "outputs": [],
   "source": [
    "# burada modelimin yapısını belirliyorum. belirliyorum.\n",
    "\n",
    "# input layer oluşturmak için\n",
    "# input_dim = X_train.shape[1] or input_shape = X_train.shape\n",
    "\n",
    "# input_shape girildiği zaman satır ve sütun istiyor\n",
    "# input_dim girildiği zaman sadece sütun istiyor\n",
    "# 2 sinide girmez isek o anlıyor ne alacağını\n",
    "\n",
    "# Hocalar 2 nci yöntemin kullanılmasını öneriyor. \n",
    "# kullanım kolaylığı ve esneklik açısından .add() kullanarak layerları oluşturuyoruz."
   ]
  },
  {
   "cell_type": "code",
   "execution_count": 40,
   "metadata": {
    "id": "Bj4tisKlYGAL",
    "outputId": "dc03782f-ec70-48e3-dd3c-2c810618630e"
   },
   "outputs": [
    {
     "name": "stdout",
     "output_type": "stream",
     "text": [
      "Model: \"sequential_1\"\n",
      "_________________________________________________________________\n",
      " Layer (type)                Output Shape              Param #   \n",
      "=================================================================\n",
      " dense_4 (Dense)             (None, 4)                 12        \n",
      "                                                                 \n",
      " dense_5 (Dense)             (None, 4)                 20        \n",
      "                                                                 \n",
      " dense_6 (Dense)             (None, 4)                 20        \n",
      "                                                                 \n",
      " dense_7 (Dense)             (None, 1)                 5         \n",
      "                                                                 \n",
      "=================================================================\n",
      "Total params: 57\n",
      "Trainable params: 57\n",
      "Non-trainable params: 0\n",
      "_________________________________________________________________\n"
     ]
    }
   ],
   "source": [
    "# If input_dim is not provided when the model was created, this will return an error\n",
    "# because input dimensions are needed to calculate the number of parameters.\n",
    "model.summary()"
   ]
  },
  {
   "cell_type": "code",
   "execution_count": 41,
   "metadata": {
    "id": "CwMFcvfgYGAM",
    "outputId": "e2f45f9a-d539-4832-f7c9-f32c8f5e0e39"
   },
   "outputs": [
    {
     "data": {
      "text/plain": [
       "[<tf.Variable 'dense_4/kernel:0' shape=(2, 4) dtype=float32, numpy=\n",
       " array([[-0.6979592 ,  0.721833  , -0.7633488 ,  0.23955107],\n",
       "        [-0.5501337 ,  0.80226207, -0.30374646, -0.3829069 ]],\n",
       "       dtype=float32)>,\n",
       " <tf.Variable 'dense_4/bias:0' shape=(4,) dtype=float32, numpy=array([0., 0., 0., 0.], dtype=float32)>,\n",
       " <tf.Variable 'dense_5/kernel:0' shape=(4, 4) dtype=float32, numpy=\n",
       " array([[ 0.3611551 , -0.0104636 , -0.2429564 ,  0.35023564],\n",
       "        [ 0.20655268, -0.1122095 , -0.75908744,  0.10315669],\n",
       "        [ 0.23436159,  0.77193505,  0.7079391 ,  0.22486597],\n",
       "        [-0.34385115, -0.54890716,  0.8244489 , -0.18218273]],\n",
       "       dtype=float32)>,\n",
       " <tf.Variable 'dense_5/bias:0' shape=(4,) dtype=float32, numpy=array([0., 0., 0., 0.], dtype=float32)>,\n",
       " <tf.Variable 'dense_6/kernel:0' shape=(4, 4) dtype=float32, numpy=\n",
       " array([[-0.69025767,  0.1712591 ,  0.67792875, -0.76309085],\n",
       "        [ 0.4704793 ,  0.33426946,  0.02062827,  0.36346143],\n",
       "        [-0.02136558, -0.47783297, -0.5434686 , -0.3092432 ],\n",
       "        [ 0.8228598 ,  0.6517108 , -0.5555247 ,  0.72586936]],\n",
       "       dtype=float32)>,\n",
       " <tf.Variable 'dense_6/bias:0' shape=(4,) dtype=float32, numpy=array([0., 0., 0., 0.], dtype=float32)>,\n",
       " <tf.Variable 'dense_7/kernel:0' shape=(4, 1) dtype=float32, numpy=\n",
       " array([[-0.6268585 ],\n",
       "        [-0.5603728 ],\n",
       "        [ 0.07129145],\n",
       "        [-0.86945975]], dtype=float32)>,\n",
       " <tf.Variable 'dense_7/bias:0' shape=(1,) dtype=float32, numpy=array([0.], dtype=float32)>]"
      ]
     },
     "execution_count": 41,
     "metadata": {},
     "output_type": "execute_result"
    }
   ],
   "source": [
    "model.weights"
   ]
  },
  {
   "cell_type": "markdown",
   "metadata": {
    "id": "kz14aXjQYGAM"
   },
   "source": [
    "### Choosing an optimizer and loss\n",
    "\n",
    "Keep in mind what kind of a problem you are trying to solve:\n",
    "\n",
    "- For a multi-class classification problem:\n",
    "```python\n",
    "    model.compile(optimizer='rmsprop',\n",
    "                  loss='categorical_crossentropy',\n",
    "                  metrics=['accuracy'])\n",
    "```\n",
    "- For a binary classification problem:\n",
    "```python\n",
    "    model.compile(optimizer='rmsprop',\n",
    "                  loss='binary_crossentropy',\n",
    "                  metrics=['accuracy'])\n",
    "```\n",
    "- For a regression problem with `mse` loss:\n",
    "```python\n",
    "    model.compile(optimizer='rmsprop',\n",
    "                  loss='mse')\n",
    "```\n",
    "\n",
    "**Note:** *The optimiser* `rmsprop` *was chosen as an example here. You can choose any optimiser you want that is suitable for the problem you have at hand.*"
   ]
  },
  {
   "cell_type": "code",
   "execution_count": 42,
   "metadata": {
    "id": "llcb_-x4YGAN"
   },
   "outputs": [],
   "source": [
    "model.compile(optimizer=\"rmsprop\", loss=\"mse\")\n",
    "\n",
    "# içerisinde çalışacak cost function ve optimizer parametresini belirliyorum."
   ]
  },
  {
   "cell_type": "code",
   "execution_count": 43,
   "metadata": {
    "id": "x5x1CSf0YGAN",
    "outputId": "41e77dce-6d1d-4946-fd1a-80ddd669ce91",
    "scrolled": true,
    "tags": []
   },
   "outputs": [
    {
     "name": "stdout",
     "output_type": "stream",
     "text": [
      "Epoch 1/250\n",
      "22/22 [==============================] - 1s 4ms/step - loss: 256725.8281\n",
      "Epoch 2/250\n",
      "22/22 [==============================] - 0s 4ms/step - loss: 256673.9688\n",
      "Epoch 3/250\n",
      "22/22 [==============================] - 0s 5ms/step - loss: 256635.6406\n",
      "Epoch 4/250\n",
      "22/22 [==============================] - 0s 3ms/step - loss: 256595.5625\n",
      "Epoch 5/250\n",
      "22/22 [==============================] - 0s 4ms/step - loss: 256552.1406\n",
      "Epoch 6/250\n",
      "22/22 [==============================] - 0s 4ms/step - loss: 256504.0938\n",
      "Epoch 7/250\n",
      "22/22 [==============================] - 0s 5ms/step - loss: 256451.4219\n",
      "Epoch 8/250\n",
      "22/22 [==============================] - 0s 3ms/step - loss: 256393.7812\n",
      "Epoch 9/250\n",
      "22/22 [==============================] - 0s 3ms/step - loss: 256330.9531\n",
      "Epoch 10/250\n",
      "22/22 [==============================] - 0s 3ms/step - loss: 256262.3281\n",
      "Epoch 11/250\n",
      "22/22 [==============================] - 0s 4ms/step - loss: 256188.2031\n",
      "Epoch 12/250\n",
      "22/22 [==============================] - 0s 4ms/step - loss: 256106.9688\n",
      "Epoch 13/250\n",
      "22/22 [==============================] - 0s 3ms/step - loss: 256019.0625\n",
      "Epoch 14/250\n",
      "22/22 [==============================] - 0s 3ms/step - loss: 255924.2969\n",
      "Epoch 15/250\n",
      "22/22 [==============================] - 0s 3ms/step - loss: 255821.2500\n",
      "Epoch 16/250\n",
      "22/22 [==============================] - 0s 3ms/step - loss: 255710.7656\n",
      "Epoch 17/250\n",
      "22/22 [==============================] - 0s 2ms/step - loss: 255591.7500\n",
      "Epoch 18/250\n",
      "22/22 [==============================] - 0s 2ms/step - loss: 255463.7969\n",
      "Epoch 19/250\n",
      "22/22 [==============================] - 0s 3ms/step - loss: 255326.4219\n",
      "Epoch 20/250\n",
      "22/22 [==============================] - 0s 3ms/step - loss: 255179.1250\n",
      "Epoch 21/250\n",
      "22/22 [==============================] - 0s 2ms/step - loss: 255021.5781\n",
      "Epoch 22/250\n",
      "22/22 [==============================] - 0s 2ms/step - loss: 254853.2500\n",
      "Epoch 23/250\n",
      "22/22 [==============================] - 0s 2ms/step - loss: 254673.6406\n",
      "Epoch 24/250\n",
      "22/22 [==============================] - 0s 2ms/step - loss: 254482.7656\n",
      "Epoch 25/250\n",
      "22/22 [==============================] - 0s 2ms/step - loss: 254279.1562\n",
      "Epoch 26/250\n",
      "22/22 [==============================] - 0s 2ms/step - loss: 254062.8594\n",
      "Epoch 27/250\n",
      "22/22 [==============================] - 0s 2ms/step - loss: 253833.1406\n",
      "Epoch 28/250\n",
      "22/22 [==============================] - 0s 4ms/step - loss: 253589.1719\n",
      "Epoch 29/250\n",
      "22/22 [==============================] - 0s 4ms/step - loss: 253330.6719\n",
      "Epoch 30/250\n",
      "22/22 [==============================] - 0s 2ms/step - loss: 253056.0625\n",
      "Epoch 31/250\n",
      "22/22 [==============================] - 0s 3ms/step - loss: 252767.8594\n",
      "Epoch 32/250\n",
      "22/22 [==============================] - 0s 3ms/step - loss: 252463.3594\n",
      "Epoch 33/250\n",
      "22/22 [==============================] - 0s 3ms/step - loss: 252140.8750\n",
      "Epoch 34/250\n",
      "22/22 [==============================] - 0s 3ms/step - loss: 251800.6875\n",
      "Epoch 35/250\n",
      "22/22 [==============================] - 0s 4ms/step - loss: 251443.5156\n",
      "Epoch 36/250\n",
      "22/22 [==============================] - 0s 3ms/step - loss: 251066.9062\n",
      "Epoch 37/250\n",
      "22/22 [==============================] - 0s 3ms/step - loss: 250672.4062\n",
      "Epoch 38/250\n",
      "22/22 [==============================] - 0s 3ms/step - loss: 250257.0938\n",
      "Epoch 39/250\n",
      "22/22 [==============================] - 0s 3ms/step - loss: 249822.9531\n",
      "Epoch 40/250\n",
      "22/22 [==============================] - 0s 3ms/step - loss: 249365.7656\n",
      "Epoch 41/250\n",
      "22/22 [==============================] - 0s 3ms/step - loss: 248884.5938\n",
      "Epoch 42/250\n",
      "22/22 [==============================] - 0s 3ms/step - loss: 248383.3438\n",
      "Epoch 43/250\n",
      "22/22 [==============================] - 0s 3ms/step - loss: 247860.3438\n",
      "Epoch 44/250\n",
      "22/22 [==============================] - 0s 4ms/step - loss: 247313.2969\n",
      "Epoch 45/250\n",
      "22/22 [==============================] - 0s 5ms/step - loss: 246741.8906\n",
      "Epoch 46/250\n",
      "22/22 [==============================] - 0s 3ms/step - loss: 246144.7500\n",
      "Epoch 47/250\n",
      "22/22 [==============================] - 0s 3ms/step - loss: 245520.2500\n",
      "Epoch 48/250\n",
      "22/22 [==============================] - 0s 3ms/step - loss: 244871.9375\n",
      "Epoch 49/250\n",
      "22/22 [==============================] - 0s 3ms/step - loss: 244193.9219\n",
      "Epoch 50/250\n",
      "22/22 [==============================] - 0s 3ms/step - loss: 243488.8438\n",
      "Epoch 51/250\n",
      "22/22 [==============================] - 0s 2ms/step - loss: 242757.6719\n",
      "Epoch 52/250\n",
      "22/22 [==============================] - 0s 3ms/step - loss: 241994.2812\n",
      "Epoch 53/250\n",
      "22/22 [==============================] - 0s 3ms/step - loss: 241203.2031\n",
      "Epoch 54/250\n",
      "22/22 [==============================] - 0s 3ms/step - loss: 240379.0469\n",
      "Epoch 55/250\n",
      "22/22 [==============================] - 0s 3ms/step - loss: 239527.6406\n",
      "Epoch 56/250\n",
      "22/22 [==============================] - 0s 3ms/step - loss: 238639.6875\n",
      "Epoch 57/250\n",
      "22/22 [==============================] - 0s 2ms/step - loss: 237722.3125\n",
      "Epoch 58/250\n",
      "22/22 [==============================] - 0s 2ms/step - loss: 236772.1875\n",
      "Epoch 59/250\n",
      "22/22 [==============================] - 0s 2ms/step - loss: 235785.1719\n",
      "Epoch 60/250\n",
      "22/22 [==============================] - 0s 2ms/step - loss: 234767.0625\n",
      "Epoch 61/250\n",
      "22/22 [==============================] - 0s 3ms/step - loss: 233713.7188\n",
      "Epoch 62/250\n",
      "22/22 [==============================] - 0s 2ms/step - loss: 232624.0625\n",
      "Epoch 63/250\n",
      "22/22 [==============================] - 0s 2ms/step - loss: 231491.1562\n",
      "Epoch 64/250\n",
      "22/22 [==============================] - 0s 2ms/step - loss: 230320.5938\n",
      "Epoch 65/250\n",
      "22/22 [==============================] - 0s 2ms/step - loss: 229123.0000\n",
      "Epoch 66/250\n",
      "22/22 [==============================] - 0s 2ms/step - loss: 227884.6875\n",
      "Epoch 67/250\n",
      "22/22 [==============================] - 0s 2ms/step - loss: 226603.9375\n",
      "Epoch 68/250\n",
      "22/22 [==============================] - 0s 3ms/step - loss: 225279.5000\n",
      "Epoch 69/250\n",
      "22/22 [==============================] - 0s 2ms/step - loss: 223920.0000\n",
      "Epoch 70/250\n",
      "22/22 [==============================] - 0s 3ms/step - loss: 222517.7812\n",
      "Epoch 71/250\n",
      "22/22 [==============================] - 0s 3ms/step - loss: 221078.5625\n",
      "Epoch 72/250\n",
      "22/22 [==============================] - 0s 3ms/step - loss: 219591.0469\n",
      "Epoch 73/250\n",
      "22/22 [==============================] - 0s 3ms/step - loss: 218060.8281\n",
      "Epoch 74/250\n",
      "22/22 [==============================] - 0s 3ms/step - loss: 216496.8750\n",
      "Epoch 75/250\n",
      "22/22 [==============================] - 0s 2ms/step - loss: 214879.9062\n",
      "Epoch 76/250\n",
      "22/22 [==============================] - 0s 2ms/step - loss: 213226.8594\n",
      "Epoch 77/250\n",
      "22/22 [==============================] - 0s 2ms/step - loss: 211528.0938\n",
      "Epoch 78/250\n",
      "22/22 [==============================] - 0s 2ms/step - loss: 209778.8281\n",
      "Epoch 79/250\n",
      "22/22 [==============================] - 0s 2ms/step - loss: 207986.7812\n",
      "Epoch 80/250\n",
      "22/22 [==============================] - 0s 3ms/step - loss: 206160.5938\n",
      "Epoch 81/250\n",
      "22/22 [==============================] - 0s 2ms/step - loss: 204281.4844\n",
      "Epoch 82/250\n",
      "22/22 [==============================] - 0s 3ms/step - loss: 202350.9062\n",
      "Epoch 83/250\n",
      "22/22 [==============================] - 0s 3ms/step - loss: 200378.0312\n",
      "Epoch 84/250\n",
      "22/22 [==============================] - 0s 2ms/step - loss: 198358.6719\n",
      "Epoch 85/250\n",
      "22/22 [==============================] - 0s 3ms/step - loss: 196290.9531\n",
      "Epoch 86/250\n",
      "22/22 [==============================] - 0s 4ms/step - loss: 194170.8281\n",
      "Epoch 87/250\n",
      "22/22 [==============================] - 0s 2ms/step - loss: 192010.9219\n",
      "Epoch 88/250\n",
      "22/22 [==============================] - 0s 3ms/step - loss: 189807.8281\n",
      "Epoch 89/250\n",
      "22/22 [==============================] - 0s 3ms/step - loss: 187543.3750\n",
      "Epoch 90/250\n",
      "22/22 [==============================] - 0s 3ms/step - loss: 185243.5938\n",
      "Epoch 91/250\n",
      "22/22 [==============================] - 0s 2ms/step - loss: 182906.9688\n",
      "Epoch 92/250\n",
      "22/22 [==============================] - 0s 2ms/step - loss: 180510.7969\n",
      "Epoch 93/250\n",
      "22/22 [==============================] - 0s 2ms/step - loss: 178064.1562\n",
      "Epoch 94/250\n",
      "22/22 [==============================] - 0s 3ms/step - loss: 175583.6719\n",
      "Epoch 95/250\n",
      "22/22 [==============================] - 0s 2ms/step - loss: 173048.4531\n",
      "Epoch 96/250\n"
     ]
    },
    {
     "name": "stdout",
     "output_type": "stream",
     "text": [
      "22/22 [==============================] - 0s 2ms/step - loss: 170453.5000\n",
      "Epoch 97/250\n",
      "22/22 [==============================] - 0s 3ms/step - loss: 167836.8281\n",
      "Epoch 98/250\n",
      "22/22 [==============================] - 0s 3ms/step - loss: 165175.8906\n",
      "Epoch 99/250\n",
      "22/22 [==============================] - 0s 3ms/step - loss: 162452.2812\n",
      "Epoch 100/250\n",
      "22/22 [==============================] - 0s 2ms/step - loss: 159694.5000\n",
      "Epoch 101/250\n",
      "22/22 [==============================] - 0s 2ms/step - loss: 156898.5625\n",
      "Epoch 102/250\n",
      "22/22 [==============================] - 0s 3ms/step - loss: 154057.9375\n",
      "Epoch 103/250\n",
      "22/22 [==============================] - 0s 3ms/step - loss: 151170.0469\n",
      "Epoch 104/250\n",
      "22/22 [==============================] - 0s 2ms/step - loss: 148272.1406\n",
      "Epoch 105/250\n",
      "22/22 [==============================] - 0s 2ms/step - loss: 145302.6562\n",
      "Epoch 106/250\n",
      "22/22 [==============================] - 0s 5ms/step - loss: 142273.0156\n",
      "Epoch 107/250\n",
      "22/22 [==============================] - 0s 3ms/step - loss: 139252.7031\n",
      "Epoch 108/250\n",
      "22/22 [==============================] - 0s 2ms/step - loss: 136179.1719\n",
      "Epoch 109/250\n",
      "22/22 [==============================] - 0s 2ms/step - loss: 133048.0781\n",
      "Epoch 110/250\n",
      "22/22 [==============================] - 0s 2ms/step - loss: 129913.7109\n",
      "Epoch 111/250\n",
      "22/22 [==============================] - 0s 2ms/step - loss: 126752.2188\n",
      "Epoch 112/250\n",
      "22/22 [==============================] - 0s 3ms/step - loss: 123547.6016\n",
      "Epoch 113/250\n",
      "22/22 [==============================] - 0s 3ms/step - loss: 120300.3984\n",
      "Epoch 114/250\n",
      "22/22 [==============================] - 0s 2ms/step - loss: 117055.8828\n",
      "Epoch 115/250\n",
      "22/22 [==============================] - 0s 2ms/step - loss: 113778.9453\n",
      "Epoch 116/250\n",
      "22/22 [==============================] - 0s 2ms/step - loss: 110470.0938\n",
      "Epoch 117/250\n",
      "22/22 [==============================] - 0s 2ms/step - loss: 107139.5547\n",
      "Epoch 118/250\n",
      "22/22 [==============================] - 0s 2ms/step - loss: 103793.4062\n",
      "Epoch 119/250\n",
      "22/22 [==============================] - 0s 2ms/step - loss: 100431.7969\n",
      "Epoch 120/250\n",
      "22/22 [==============================] - 0s 2ms/step - loss: 97065.1562\n",
      "Epoch 121/250\n",
      "22/22 [==============================] - 0s 2ms/step - loss: 93668.6484\n",
      "Epoch 122/250\n",
      "22/22 [==============================] - 0s 2ms/step - loss: 90280.2891\n",
      "Epoch 123/250\n",
      "22/22 [==============================] - 0s 2ms/step - loss: 86900.2422\n",
      "Epoch 124/250\n",
      "22/22 [==============================] - 0s 2ms/step - loss: 83497.9922\n",
      "Epoch 125/250\n",
      "22/22 [==============================] - 0s 2ms/step - loss: 80124.4531\n",
      "Epoch 126/250\n",
      "22/22 [==============================] - 0s 2ms/step - loss: 76734.3984\n",
      "Epoch 127/250\n",
      "22/22 [==============================] - 0s 2ms/step - loss: 73354.9219\n",
      "Epoch 128/250\n",
      "22/22 [==============================] - 0s 3ms/step - loss: 70005.7344\n",
      "Epoch 129/250\n",
      "22/22 [==============================] - 0s 2ms/step - loss: 66661.3281\n",
      "Epoch 130/250\n",
      "22/22 [==============================] - 0s 2ms/step - loss: 63340.3789\n",
      "Epoch 131/250\n",
      "22/22 [==============================] - 0s 2ms/step - loss: 60045.8242\n",
      "Epoch 132/250\n",
      "22/22 [==============================] - 0s 2ms/step - loss: 56785.7266\n",
      "Epoch 133/250\n",
      "22/22 [==============================] - 0s 2ms/step - loss: 53556.6562\n",
      "Epoch 134/250\n",
      "22/22 [==============================] - 0s 2ms/step - loss: 50379.3242\n",
      "Epoch 135/250\n",
      "22/22 [==============================] - 0s 2ms/step - loss: 47229.5039\n",
      "Epoch 136/250\n",
      "22/22 [==============================] - 0s 2ms/step - loss: 44137.9219\n",
      "Epoch 137/250\n",
      "22/22 [==============================] - 0s 2ms/step - loss: 41115.9141\n",
      "Epoch 138/250\n",
      "22/22 [==============================] - 0s 3ms/step - loss: 38142.3555\n",
      "Epoch 139/250\n",
      "22/22 [==============================] - 0s 3ms/step - loss: 35258.2109\n",
      "Epoch 140/250\n",
      "22/22 [==============================] - 0s 3ms/step - loss: 32410.4375\n",
      "Epoch 141/250\n",
      "22/22 [==============================] - 0s 2ms/step - loss: 29666.4336\n",
      "Epoch 142/250\n",
      "22/22 [==============================] - 0s 4ms/step - loss: 27012.3145\n",
      "Epoch 143/250\n",
      "22/22 [==============================] - 0s 3ms/step - loss: 24442.6914\n",
      "Epoch 144/250\n",
      "22/22 [==============================] - 0s 3ms/step - loss: 21972.8691\n",
      "Epoch 145/250\n",
      "22/22 [==============================] - 0s 3ms/step - loss: 19599.1426\n",
      "Epoch 146/250\n",
      "22/22 [==============================] - 0s 2ms/step - loss: 17370.1992\n",
      "Epoch 147/250\n",
      "22/22 [==============================] - 0s 3ms/step - loss: 15243.2773\n",
      "Epoch 148/250\n",
      "22/22 [==============================] - 0s 2ms/step - loss: 13252.9844\n",
      "Epoch 149/250\n",
      "22/22 [==============================] - 0s 2ms/step - loss: 11420.3350\n",
      "Epoch 150/250\n",
      "22/22 [==============================] - 0s 2ms/step - loss: 9711.4443\n",
      "Epoch 151/250\n",
      "22/22 [==============================] - 0s 2ms/step - loss: 8167.2515\n",
      "Epoch 152/250\n",
      "22/22 [==============================] - 0s 2ms/step - loss: 6766.6714\n",
      "Epoch 153/250\n",
      "22/22 [==============================] - 0s 3ms/step - loss: 5537.6113\n",
      "Epoch 154/250\n",
      "22/22 [==============================] - 0s 3ms/step - loss: 4492.2002\n",
      "Epoch 155/250\n",
      "22/22 [==============================] - 0s 2ms/step - loss: 3616.3303\n",
      "Epoch 156/250\n",
      "22/22 [==============================] - 0s 2ms/step - loss: 2936.4060\n",
      "Epoch 157/250\n",
      "22/22 [==============================] - 0s 2ms/step - loss: 2438.4192\n",
      "Epoch 158/250\n",
      "22/22 [==============================] - 0s 2ms/step - loss: 2126.0439\n",
      "Epoch 159/250\n",
      "22/22 [==============================] - 0s 3ms/step - loss: 1963.0491\n",
      "Epoch 160/250\n",
      "22/22 [==============================] - 0s 3ms/step - loss: 1908.2209\n",
      "Epoch 161/250\n",
      "22/22 [==============================] - 0s 3ms/step - loss: 1886.5698\n",
      "Epoch 162/250\n",
      "22/22 [==============================] - 0s 3ms/step - loss: 1869.7153\n",
      "Epoch 163/250\n",
      "22/22 [==============================] - 0s 3ms/step - loss: 1852.2352\n",
      "Epoch 164/250\n",
      "22/22 [==============================] - 0s 3ms/step - loss: 1835.1178\n",
      "Epoch 165/250\n",
      "22/22 [==============================] - 0s 3ms/step - loss: 1818.4911\n",
      "Epoch 166/250\n",
      "22/22 [==============================] - 0s 3ms/step - loss: 1803.7744\n",
      "Epoch 167/250\n",
      "22/22 [==============================] - 0s 3ms/step - loss: 1789.1466\n",
      "Epoch 168/250\n",
      "22/22 [==============================] - 0s 3ms/step - loss: 1773.7307\n",
      "Epoch 169/250\n",
      "22/22 [==============================] - 0s 3ms/step - loss: 1756.5170\n",
      "Epoch 170/250\n",
      "22/22 [==============================] - 0s 3ms/step - loss: 1742.2052\n",
      "Epoch 171/250\n",
      "22/22 [==============================] - 0s 4ms/step - loss: 1724.6316\n",
      "Epoch 172/250\n",
      "22/22 [==============================] - 0s 3ms/step - loss: 1708.0061\n",
      "Epoch 173/250\n",
      "22/22 [==============================] - 0s 3ms/step - loss: 1691.4221\n",
      "Epoch 174/250\n",
      "22/22 [==============================] - 0s 2ms/step - loss: 1674.2446\n",
      "Epoch 175/250\n",
      "22/22 [==============================] - 0s 2ms/step - loss: 1657.3502\n",
      "Epoch 176/250\n",
      "22/22 [==============================] - 0s 2ms/step - loss: 1640.1716\n",
      "Epoch 177/250\n",
      "22/22 [==============================] - 0s 2ms/step - loss: 1625.3280\n",
      "Epoch 178/250\n",
      "22/22 [==============================] - 0s 2ms/step - loss: 1609.7609\n",
      "Epoch 179/250\n",
      "22/22 [==============================] - 0s 2ms/step - loss: 1594.0460\n",
      "Epoch 180/250\n",
      "22/22 [==============================] - 0s 2ms/step - loss: 1577.9800\n",
      "Epoch 181/250\n",
      "22/22 [==============================] - 0s 3ms/step - loss: 1562.8871\n",
      "Epoch 182/250\n",
      "22/22 [==============================] - 0s 4ms/step - loss: 1547.6731\n",
      "Epoch 183/250\n",
      "22/22 [==============================] - 0s 3ms/step - loss: 1530.9745\n",
      "Epoch 184/250\n",
      "22/22 [==============================] - 0s 3ms/step - loss: 1514.8047\n",
      "Epoch 185/250\n",
      "22/22 [==============================] - 0s 3ms/step - loss: 1502.3221\n",
      "Epoch 186/250\n",
      "22/22 [==============================] - 0s 3ms/step - loss: 1485.8672\n",
      "Epoch 187/250\n",
      "22/22 [==============================] - 0s 2ms/step - loss: 1472.8989\n",
      "Epoch 188/250\n",
      "22/22 [==============================] - 0s 3ms/step - loss: 1457.1620\n",
      "Epoch 189/250\n",
      "22/22 [==============================] - 0s 3ms/step - loss: 1441.7513\n",
      "Epoch 190/250\n",
      "22/22 [==============================] - 0s 3ms/step - loss: 1425.8234\n",
      "Epoch 191/250\n"
     ]
    },
    {
     "name": "stdout",
     "output_type": "stream",
     "text": [
      "22/22 [==============================] - 0s 3ms/step - loss: 1412.3109\n",
      "Epoch 192/250\n",
      "22/22 [==============================] - 0s 2ms/step - loss: 1394.9001\n",
      "Epoch 193/250\n",
      "22/22 [==============================] - 0s 2ms/step - loss: 1381.4200\n",
      "Epoch 194/250\n",
      "22/22 [==============================] - 0s 4ms/step - loss: 1364.1650\n",
      "Epoch 195/250\n",
      "22/22 [==============================] - 0s 4ms/step - loss: 1347.9301\n",
      "Epoch 196/250\n",
      "22/22 [==============================] - 0s 2ms/step - loss: 1333.6405\n",
      "Epoch 197/250\n",
      "22/22 [==============================] - 0s 2ms/step - loss: 1315.9558\n",
      "Epoch 198/250\n",
      "22/22 [==============================] - 0s 2ms/step - loss: 1300.1793\n",
      "Epoch 199/250\n",
      "22/22 [==============================] - 0s 2ms/step - loss: 1283.9016\n",
      "Epoch 200/250\n",
      "22/22 [==============================] - 0s 2ms/step - loss: 1268.0009\n",
      "Epoch 201/250\n",
      "22/22 [==============================] - 0s 3ms/step - loss: 1252.9413\n",
      "Epoch 202/250\n",
      "22/22 [==============================] - 0s 3ms/step - loss: 1238.8802\n",
      "Epoch 203/250\n",
      "22/22 [==============================] - 0s 2ms/step - loss: 1225.2987\n",
      "Epoch 204/250\n",
      "22/22 [==============================] - 0s 2ms/step - loss: 1211.7529\n",
      "Epoch 205/250\n",
      "22/22 [==============================] - 0s 3ms/step - loss: 1198.8368\n",
      "Epoch 206/250\n",
      "22/22 [==============================] - 0s 2ms/step - loss: 1184.3566\n",
      "Epoch 207/250\n",
      "22/22 [==============================] - 0s 2ms/step - loss: 1171.3318\n",
      "Epoch 208/250\n",
      "22/22 [==============================] - 0s 2ms/step - loss: 1157.9902\n",
      "Epoch 209/250\n",
      "22/22 [==============================] - 0s 2ms/step - loss: 1144.1750\n",
      "Epoch 210/250\n",
      "22/22 [==============================] - 0s 3ms/step - loss: 1128.5647\n",
      "Epoch 211/250\n",
      "22/22 [==============================] - 0s 2ms/step - loss: 1114.0839\n",
      "Epoch 212/250\n",
      "22/22 [==============================] - 0s 3ms/step - loss: 1100.3365\n",
      "Epoch 213/250\n",
      "22/22 [==============================] - 0s 2ms/step - loss: 1085.9354\n",
      "Epoch 214/250\n",
      "22/22 [==============================] - 0s 3ms/step - loss: 1071.9369\n",
      "Epoch 215/250\n",
      "22/22 [==============================] - 0s 2ms/step - loss: 1056.6643\n",
      "Epoch 216/250\n",
      "22/22 [==============================] - 0s 2ms/step - loss: 1041.9916\n",
      "Epoch 217/250\n",
      "22/22 [==============================] - 0s 2ms/step - loss: 1027.6262\n",
      "Epoch 218/250\n",
      "22/22 [==============================] - 0s 2ms/step - loss: 1012.4788\n",
      "Epoch 219/250\n",
      "22/22 [==============================] - 0s 2ms/step - loss: 999.3047\n",
      "Epoch 220/250\n",
      "22/22 [==============================] - 0s 2ms/step - loss: 984.0579\n",
      "Epoch 221/250\n",
      "22/22 [==============================] - 0s 2ms/step - loss: 969.2656\n",
      "Epoch 222/250\n",
      "22/22 [==============================] - 0s 2ms/step - loss: 955.5405\n",
      "Epoch 223/250\n",
      "22/22 [==============================] - 0s 3ms/step - loss: 939.8084\n",
      "Epoch 224/250\n",
      "22/22 [==============================] - 0s 2ms/step - loss: 925.8680\n",
      "Epoch 225/250\n",
      "22/22 [==============================] - 0s 2ms/step - loss: 913.3773\n",
      "Epoch 226/250\n",
      "22/22 [==============================] - 0s 2ms/step - loss: 900.7994\n",
      "Epoch 227/250\n",
      "22/22 [==============================] - 0s 2ms/step - loss: 888.2489\n",
      "Epoch 228/250\n",
      "22/22 [==============================] - 0s 2ms/step - loss: 876.4205\n",
      "Epoch 229/250\n",
      "22/22 [==============================] - 0s 2ms/step - loss: 863.9674\n",
      "Epoch 230/250\n",
      "22/22 [==============================] - 0s 2ms/step - loss: 850.3617\n",
      "Epoch 231/250\n",
      "22/22 [==============================] - 0s 2ms/step - loss: 837.9655\n",
      "Epoch 232/250\n",
      "22/22 [==============================] - 0s 2ms/step - loss: 824.7473\n",
      "Epoch 233/250\n",
      "22/22 [==============================] - 0s 2ms/step - loss: 810.5218\n",
      "Epoch 234/250\n",
      "22/22 [==============================] - 0s 2ms/step - loss: 797.4006\n",
      "Epoch 235/250\n",
      "22/22 [==============================] - 0s 2ms/step - loss: 783.9730\n",
      "Epoch 236/250\n",
      "22/22 [==============================] - 0s 2ms/step - loss: 772.0234\n",
      "Epoch 237/250\n",
      "22/22 [==============================] - 0s 2ms/step - loss: 759.0275\n",
      "Epoch 238/250\n",
      "22/22 [==============================] - 0s 2ms/step - loss: 746.3848\n",
      "Epoch 239/250\n",
      "22/22 [==============================] - 0s 2ms/step - loss: 731.8553\n",
      "Epoch 240/250\n",
      "22/22 [==============================] - 0s 2ms/step - loss: 720.0967\n",
      "Epoch 241/250\n",
      "22/22 [==============================] - 0s 3ms/step - loss: 706.7050\n",
      "Epoch 242/250\n",
      "22/22 [==============================] - 0s 3ms/step - loss: 693.6293\n",
      "Epoch 243/250\n",
      "22/22 [==============================] - 0s 3ms/step - loss: 679.9647\n",
      "Epoch 244/250\n",
      "22/22 [==============================] - 0s 2ms/step - loss: 667.0107\n",
      "Epoch 245/250\n",
      "22/22 [==============================] - 0s 2ms/step - loss: 653.7019\n",
      "Epoch 246/250\n",
      "22/22 [==============================] - 0s 2ms/step - loss: 642.1277\n",
      "Epoch 247/250\n",
      "22/22 [==============================] - 0s 2ms/step - loss: 628.7980\n",
      "Epoch 248/250\n",
      "22/22 [==============================] - 0s 2ms/step - loss: 615.2722\n",
      "Epoch 249/250\n",
      "22/22 [==============================] - 0s 2ms/step - loss: 603.9191\n",
      "Epoch 250/250\n",
      "22/22 [==============================] - 0s 2ms/step - loss: 593.0942\n"
     ]
    },
    {
     "data": {
      "text/plain": [
       "<keras.callbacks.History at 0x24cbb0a8ac0>"
      ]
     },
     "execution_count": 43,
     "metadata": {},
     "output_type": "execute_result"
    }
   ],
   "source": [
    "model.fit(x=X_train, y=y_train, batch_size=32, epochs=250)\n",
    "\n",
    "# 700/32 = 21.875\n",
    "\n",
    "# 250x22 defa bu model 32 lik paketlerle fit edilecek\n",
    "\n",
    "# 1 Epoch = 1 Forward pass + 1 Backward pass for ALL training samples.\n",
    "\n",
    "# Batch Size = Number of training samples in 1 Forward/1 Backward pass. \n",
    "# (With increase in Batch size, required memory space increases.)\n",
    "\n",
    "# Number of iterations = Number of passes i.e. 1 Pass = 1 Forward pass + 1 Backward pass \n",
    "# (Forward pass and Backward pass are not counted differently.)\n",
    "\n",
    "# Example : If we have 1000 training samples and Batch size is set to 500, it will take 2 iterations to complete 1 Epoch."
   ]
  },
  {
   "cell_type": "code",
   "execution_count": 44,
   "metadata": {
    "id": "Ae4ruPDCYGAN",
    "outputId": "026c85d0-38f4-4142-f814-809dfceb4751"
   },
   "outputs": [
    {
     "name": "stdout",
     "output_type": "stream",
     "text": [
      "Model: \"sequential_1\"\n",
      "_________________________________________________________________\n",
      " Layer (type)                Output Shape              Param #   \n",
      "=================================================================\n",
      " dense_4 (Dense)             (None, 4)                 12        \n",
      "                                                                 \n",
      " dense_5 (Dense)             (None, 4)                 20        \n",
      "                                                                 \n",
      " dense_6 (Dense)             (None, 4)                 20        \n",
      "                                                                 \n",
      " dense_7 (Dense)             (None, 1)                 5         \n",
      "                                                                 \n",
      "=================================================================\n",
      "Total params: 57\n",
      "Trainable params: 57\n",
      "Non-trainable params: 0\n",
      "_________________________________________________________________\n"
     ]
    }
   ],
   "source": [
    "model.summary()"
   ]
  },
  {
   "cell_type": "code",
   "execution_count": 45,
   "metadata": {
    "id": "t0f8HUqqYGAO",
    "outputId": "3211a0fc-9b00-4e5d-8acd-4c1db199d305"
   },
   "outputs": [
    {
     "data": {
      "text/plain": [
       "[<tf.Variable 'dense_4/kernel:0' shape=(2, 4) dtype=float32, numpy=\n",
       " array([[-0.6979592 ,  3.5528488 , -0.7633488 ,  0.15741004],\n",
       "        [-0.5501337 ,  5.7434955 , -0.30374646, -0.4338562 ]],\n",
       "       dtype=float32)>,\n",
       " <tf.Variable 'dense_4/bias:0' shape=(4,) dtype=float32, numpy=array([ 0.        ,  2.479282  ,  0.        , -0.08924782], dtype=float32)>,\n",
       " <tf.Variable 'dense_5/kernel:0' shape=(4, 4) dtype=float32, numpy=\n",
       " array([[ 0.3611551 , -0.0104636 , -0.2429564 ,  0.35023564],\n",
       "        [ 3.9208539 , -0.1122095 , -0.75908744,  0.00825792],\n",
       "        [ 0.23436159,  0.77193505,  0.7079391 ,  0.22486597],\n",
       "        [-0.22422591, -0.54890716,  0.8244489 , -0.22094324]],\n",
       "       dtype=float32)>,\n",
       " <tf.Variable 'dense_5/bias:0' shape=(4,) dtype=float32, numpy=array([ 2.4902933 ,  0.        ,  0.        , -0.09030966], dtype=float32)>,\n",
       " <tf.Variable 'dense_6/kernel:0' shape=(4, 4) dtype=float32, numpy=\n",
       " array([[-6.9025767e-01,  1.7385692e-03,  4.3175254e+00, -7.6309085e-01],\n",
       "        [ 4.7047931e-01,  3.3426946e-01,  2.0628273e-02,  3.6346143e-01],\n",
       "        [-2.1365583e-02, -4.7783297e-01, -5.4346859e-01, -3.0924320e-01],\n",
       "        [ 8.2285982e-01,  6.1406589e-01, -4.7906235e-01,  7.2586936e-01]],\n",
       "       dtype=float32)>,\n",
       " <tf.Variable 'dense_6/bias:0' shape=(4,) dtype=float32, numpy=array([ 0.        , -0.15873632,  2.514205  ,  0.        ], dtype=float32)>,\n",
       " <tf.Variable 'dense_7/kernel:0' shape=(4, 1) dtype=float32, numpy=\n",
       " array([[-0.6268585 ],\n",
       "        [-0.44630834],\n",
       "        [ 3.6707718 ],\n",
       "        [-0.86945975]], dtype=float32)>,\n",
       " <tf.Variable 'dense_7/bias:0' shape=(1,) dtype=float32, numpy=array([2.4804587], dtype=float32)>]"
      ]
     },
     "execution_count": 45,
     "metadata": {},
     "output_type": "execute_result"
    }
   ],
   "source": [
    "model.weights"
   ]
  },
  {
   "cell_type": "code",
   "execution_count": 46,
   "metadata": {},
   "outputs": [
    {
     "data": {
      "text/plain": [
       "list"
      ]
     },
     "execution_count": 46,
     "metadata": {},
     "output_type": "execute_result"
    }
   ],
   "source": [
    "# Note that the weights attribute is a python list type.\n",
    "type(model.weights)"
   ]
  },
  {
   "cell_type": "code",
   "execution_count": 47,
   "metadata": {},
   "outputs": [
    {
     "data": {
      "text/plain": [
       "<tf.Variable 'dense_4/kernel:0' shape=(2, 4) dtype=float32, numpy=\n",
       "array([[-0.6979592 ,  3.5528488 , -0.7633488 ,  0.15741004],\n",
       "       [-0.5501337 ,  5.7434955 , -0.30374646, -0.4338562 ]],\n",
       "      dtype=float32)>"
      ]
     },
     "execution_count": 47,
     "metadata": {},
     "output_type": "execute_result"
    }
   ],
   "source": [
    "# Since it's a python list type, we can index it to get weight values for a layer at the specified index.\n",
    "# This returns the weight values for the first hidden layer.\n",
    "model.weights[0]"
   ]
  },
  {
   "cell_type": "code",
   "execution_count": 48,
   "metadata": {},
   "outputs": [
    {
     "data": {
      "text/plain": [
       "<tf.Variable 'dense_4/bias:0' shape=(4,) dtype=float32, numpy=array([ 0.        ,  2.479282  ,  0.        , -0.08924782], dtype=float32)>"
      ]
     },
     "execution_count": 48,
     "metadata": {},
     "output_type": "execute_result"
    }
   ],
   "source": [
    "# This returns the bias values for the first hidden layer.\n",
    "model.weights[1]"
   ]
  },
  {
   "cell_type": "code",
   "execution_count": 49,
   "metadata": {
    "id": "kh61BRDfYGAO",
    "outputId": "eb6b8fe2-2b81-4515-ad98-d0f4c536fe94",
    "scrolled": true,
    "tags": []
   },
   "outputs": [
    {
     "data": {
      "text/plain": [
       "{'loss': [256725.828125,\n",
       "  256673.96875,\n",
       "  256635.640625,\n",
       "  256595.5625,\n",
       "  256552.140625,\n",
       "  256504.09375,\n",
       "  256451.421875,\n",
       "  256393.78125,\n",
       "  256330.953125,\n",
       "  256262.328125,\n",
       "  256188.203125,\n",
       "  256106.96875,\n",
       "  256019.0625,\n",
       "  255924.296875,\n",
       "  255821.25,\n",
       "  255710.765625,\n",
       "  255591.75,\n",
       "  255463.796875,\n",
       "  255326.421875,\n",
       "  255179.125,\n",
       "  255021.578125,\n",
       "  254853.25,\n",
       "  254673.640625,\n",
       "  254482.765625,\n",
       "  254279.15625,\n",
       "  254062.859375,\n",
       "  253833.140625,\n",
       "  253589.171875,\n",
       "  253330.671875,\n",
       "  253056.0625,\n",
       "  252767.859375,\n",
       "  252463.359375,\n",
       "  252140.875,\n",
       "  251800.6875,\n",
       "  251443.515625,\n",
       "  251066.90625,\n",
       "  250672.40625,\n",
       "  250257.09375,\n",
       "  249822.953125,\n",
       "  249365.765625,\n",
       "  248884.59375,\n",
       "  248383.34375,\n",
       "  247860.34375,\n",
       "  247313.296875,\n",
       "  246741.890625,\n",
       "  246144.75,\n",
       "  245520.25,\n",
       "  244871.9375,\n",
       "  244193.921875,\n",
       "  243488.84375,\n",
       "  242757.671875,\n",
       "  241994.28125,\n",
       "  241203.203125,\n",
       "  240379.046875,\n",
       "  239527.640625,\n",
       "  238639.6875,\n",
       "  237722.3125,\n",
       "  236772.1875,\n",
       "  235785.171875,\n",
       "  234767.0625,\n",
       "  233713.71875,\n",
       "  232624.0625,\n",
       "  231491.15625,\n",
       "  230320.59375,\n",
       "  229123.0,\n",
       "  227884.6875,\n",
       "  226603.9375,\n",
       "  225279.5,\n",
       "  223920.0,\n",
       "  222517.78125,\n",
       "  221078.5625,\n",
       "  219591.046875,\n",
       "  218060.828125,\n",
       "  216496.875,\n",
       "  214879.90625,\n",
       "  213226.859375,\n",
       "  211528.09375,\n",
       "  209778.828125,\n",
       "  207986.78125,\n",
       "  206160.59375,\n",
       "  204281.484375,\n",
       "  202350.90625,\n",
       "  200378.03125,\n",
       "  198358.671875,\n",
       "  196290.953125,\n",
       "  194170.828125,\n",
       "  192010.921875,\n",
       "  189807.828125,\n",
       "  187543.375,\n",
       "  185243.59375,\n",
       "  182906.96875,\n",
       "  180510.796875,\n",
       "  178064.15625,\n",
       "  175583.671875,\n",
       "  173048.453125,\n",
       "  170453.5,\n",
       "  167836.828125,\n",
       "  165175.890625,\n",
       "  162452.28125,\n",
       "  159694.5,\n",
       "  156898.5625,\n",
       "  154057.9375,\n",
       "  151170.046875,\n",
       "  148272.140625,\n",
       "  145302.65625,\n",
       "  142273.015625,\n",
       "  139252.703125,\n",
       "  136179.171875,\n",
       "  133048.078125,\n",
       "  129913.7109375,\n",
       "  126752.21875,\n",
       "  123547.6015625,\n",
       "  120300.3984375,\n",
       "  117055.8828125,\n",
       "  113778.9453125,\n",
       "  110470.09375,\n",
       "  107139.5546875,\n",
       "  103793.40625,\n",
       "  100431.796875,\n",
       "  97065.15625,\n",
       "  93668.6484375,\n",
       "  90280.2890625,\n",
       "  86900.2421875,\n",
       "  83497.9921875,\n",
       "  80124.453125,\n",
       "  76734.3984375,\n",
       "  73354.921875,\n",
       "  70005.734375,\n",
       "  66661.328125,\n",
       "  63340.37890625,\n",
       "  60045.82421875,\n",
       "  56785.7265625,\n",
       "  53556.65625,\n",
       "  50379.32421875,\n",
       "  47229.50390625,\n",
       "  44137.921875,\n",
       "  41115.9140625,\n",
       "  38142.35546875,\n",
       "  35258.2109375,\n",
       "  32410.4375,\n",
       "  29666.43359375,\n",
       "  27012.314453125,\n",
       "  24442.69140625,\n",
       "  21972.869140625,\n",
       "  19599.142578125,\n",
       "  17370.19921875,\n",
       "  15243.27734375,\n",
       "  13252.984375,\n",
       "  11420.3349609375,\n",
       "  9711.4443359375,\n",
       "  8167.25146484375,\n",
       "  6766.67138671875,\n",
       "  5537.611328125,\n",
       "  4492.2001953125,\n",
       "  3616.330322265625,\n",
       "  2936.406005859375,\n",
       "  2438.419189453125,\n",
       "  2126.0439453125,\n",
       "  1963.049072265625,\n",
       "  1908.220947265625,\n",
       "  1886.56982421875,\n",
       "  1869.71533203125,\n",
       "  1852.2352294921875,\n",
       "  1835.1177978515625,\n",
       "  1818.4910888671875,\n",
       "  1803.7744140625,\n",
       "  1789.1466064453125,\n",
       "  1773.730712890625,\n",
       "  1756.5169677734375,\n",
       "  1742.2052001953125,\n",
       "  1724.631591796875,\n",
       "  1708.006103515625,\n",
       "  1691.422119140625,\n",
       "  1674.24462890625,\n",
       "  1657.3502197265625,\n",
       "  1640.171630859375,\n",
       "  1625.3280029296875,\n",
       "  1609.7608642578125,\n",
       "  1594.0460205078125,\n",
       "  1577.97998046875,\n",
       "  1562.8870849609375,\n",
       "  1547.673095703125,\n",
       "  1530.9744873046875,\n",
       "  1514.8046875,\n",
       "  1502.3221435546875,\n",
       "  1485.8671875,\n",
       "  1472.89892578125,\n",
       "  1457.1619873046875,\n",
       "  1441.7513427734375,\n",
       "  1425.8233642578125,\n",
       "  1412.3109130859375,\n",
       "  1394.900146484375,\n",
       "  1381.4200439453125,\n",
       "  1364.1650390625,\n",
       "  1347.9300537109375,\n",
       "  1333.6405029296875,\n",
       "  1315.955810546875,\n",
       "  1300.1793212890625,\n",
       "  1283.901611328125,\n",
       "  1268.0008544921875,\n",
       "  1252.9412841796875,\n",
       "  1238.8802490234375,\n",
       "  1225.2987060546875,\n",
       "  1211.7529296875,\n",
       "  1198.8367919921875,\n",
       "  1184.3565673828125,\n",
       "  1171.331787109375,\n",
       "  1157.990234375,\n",
       "  1144.175048828125,\n",
       "  1128.564697265625,\n",
       "  1114.0838623046875,\n",
       "  1100.3365478515625,\n",
       "  1085.9354248046875,\n",
       "  1071.9368896484375,\n",
       "  1056.664306640625,\n",
       "  1041.9915771484375,\n",
       "  1027.626220703125,\n",
       "  1012.4788208007812,\n",
       "  999.3047485351562,\n",
       "  984.057861328125,\n",
       "  969.2655639648438,\n",
       "  955.5404663085938,\n",
       "  939.8084106445312,\n",
       "  925.8680419921875,\n",
       "  913.3773193359375,\n",
       "  900.7994384765625,\n",
       "  888.2489013671875,\n",
       "  876.4205322265625,\n",
       "  863.9674072265625,\n",
       "  850.3616943359375,\n",
       "  837.9654541015625,\n",
       "  824.747314453125,\n",
       "  810.5217895507812,\n",
       "  797.400634765625,\n",
       "  783.9729614257812,\n",
       "  772.0233764648438,\n",
       "  759.0275268554688,\n",
       "  746.384765625,\n",
       "  731.8552856445312,\n",
       "  720.0966796875,\n",
       "  706.7050170898438,\n",
       "  693.6293334960938,\n",
       "  679.9647216796875,\n",
       "  667.0107421875,\n",
       "  653.701904296875,\n",
       "  642.1277465820312,\n",
       "  628.7979736328125,\n",
       "  615.2721557617188,\n",
       "  603.9191284179688,\n",
       "  593.0941772460938]}"
      ]
     },
     "execution_count": 49,
     "metadata": {},
     "output_type": "execute_result"
    }
   ],
   "source": [
    "# The training history can be accessed like so:\n",
    "model.history.history\n",
    "\n",
    " # model eğitilirken alınan LOSS değerlerini veriyor."
   ]
  },
  {
   "cell_type": "code",
   "execution_count": 50,
   "metadata": {
    "id": "nQo81WikYGAO",
    "outputId": "16d11279-189b-4f52-fe21-689b77fd5394"
   },
   "outputs": [
    {
     "data": {
      "text/plain": [
       "<Axes: >"
      ]
     },
     "execution_count": 50,
     "metadata": {},
     "output_type": "execute_result"
    },
    {
     "data": {
      "image/png": "[encoded data removed]",
      "text/plain": [
       "<Figure size 1000x600 with 1 Axes>"
      ]
     },
     "metadata": {},
     "output_type": "display_data"
    }
   ],
   "source": [
    "# We can easily turn that training history into a dataframe since it's a dict type.\n",
    "loss_df = pd.DataFrame(model.history.history)\n",
    "loss_df.plot()\n",
    "\n",
    " # model eğitilirken alınan LOSS değerlerini veriyor."
   ]
  },
  {
   "cell_type": "code",
   "execution_count": 51,
   "metadata": {
    "id": "I1m7YLuLYGAP",
    "outputId": "98edcebd-3b8f-47e7-fc84-5a90eeb40369"
   },
   "outputs": [
    {
     "data": {
      "text/plain": [
       "(0.0, 3000.0)"
      ]
     },
     "execution_count": 51,
     "metadata": {},
     "output_type": "execute_result"
    },
    {
     "data": {
      "image/png": "[encoded data removed]",
      "text/plain": [
       "<Figure size 1000x600 with 1 Axes>"
      ]
     },
     "metadata": {},
     "output_type": "display_data"
    }
   ],
   "source": [
    "fig, ax = plt.subplots()\n",
    "ax.plot(loss_df)\n",
    "ax.set_xlabel(\"epoch\")\n",
    "ax.set_ylabel(\"loss\")\n",
    "ax.set_title(\"loss - epoch graph\")\n",
    "ax.set_xlim([0, 250])  # focusing on the given x values\n",
    "ax.set_ylim([0, 3000])  # focusing on the given y values"
   ]
  },
  {
   "cell_type": "code",
   "execution_count": 52,
   "metadata": {},
   "outputs": [],
   "source": [
    "# Eğer input shape girerseniz\n",
    "# modelinizin ağırlık değerleri ilk fit yapmadan önce modelinizde bulunur.\n",
    "# input shape girmezseniz eğer, fitledikten sonra modeliniz tam anlamıyla kurulmuş oluyor.\n",
    "\n",
    "# Eğer input_shape başlangıçta girilirse; başlangıç ağırlık değerleri fit işleminden önce modele verilir ve modelin \n",
    "# history si alındığında görülür."
   ]
  },
  {
   "cell_type": "code",
   "execution_count": 53,
   "metadata": {},
   "outputs": [],
   "source": [
    "# Eğer input shape girerseniz modelinizin ağırlık değerleri ilk fit yapmadan önce modelinizde bulunur.\n",
    "# input shape girmezseniz eğer, fitledikten sonra modeliniz tam anlamıyla kurulmuş oluyor."
   ]
  },
  {
   "cell_type": "code",
   "execution_count": 54,
   "metadata": {},
   "outputs": [],
   "source": [
    "# modelin içerisine train setimizi verip skor alıyoruz\n",
    "# bu skor; compile a tanımladığımız LOSS değerleridir."
   ]
  },
  {
   "cell_type": "markdown",
   "metadata": {
    "id": "XjsrwTyCYGAP"
   },
   "source": [
    "## Model Performance"
   ]
  },
  {
   "cell_type": "code",
   "execution_count": 79,
   "metadata": {
    "id": "7ZtTz4geYGAQ"
   },
   "outputs": [],
   "source": [
    "from sklearn.metrics import mean_squared_error, mean_absolute_error, r2_score"
   ]
  },
  {
   "cell_type": "code",
   "execution_count": 80,
   "metadata": {
    "id": "vmFmyNveYGAQ",
    "outputId": "2f9c93a4-3ea7-4025-f36b-bbf9c417a646"
   },
   "outputs": [
    {
     "data": {
      "text/plain": [
       "205.8682861328125"
      ]
     },
     "execution_count": 80,
     "metadata": {},
     "output_type": "execute_result"
    }
   ],
   "source": [
    "model.evaluate(X_train, y_train, verbose=0)\n",
    "\n",
    "# buradaki değer train seti için LOSS değeri"
   ]
  },
  {
   "cell_type": "code",
   "execution_count": 81,
   "metadata": {
    "id": "JrSDNHtXYGAQ",
    "outputId": "cab1cbcc-de7a-4db4-9bef-5033a3618043"
   },
   "outputs": [
    {
     "data": {
      "text/plain": [
       "198.1604766845703"
      ]
     },
     "execution_count": 81,
     "metadata": {},
     "output_type": "execute_result"
    }
   ],
   "source": [
    "model.evaluate(X_test, y_test, verbose=0)"
   ]
  },
  {
   "cell_type": "code",
   "execution_count": 82,
   "metadata": {
    "id": "31BhQL3tYGAQ"
   },
   "outputs": [
    {
     "name": "stdout",
     "output_type": "stream",
     "text": [
      "10/10 [==============================] - 0s 1ms/step\n"
     ]
    }
   ],
   "source": [
    "y_pred = model.predict(X_test)"
   ]
  },
  {
   "cell_type": "code",
   "execution_count": 83,
   "metadata": {
    "id": "851iPS9eYGAR",
    "outputId": "c5b64a81-10b6-4c07-87d9-3bd3107f1991"
   },
   "outputs": [
    {
     "data": {
      "text/html": [
       "<div>\n",
       "<style scoped>\n",
       "    .dataframe tbody tr th:only-of-type {\n",
       "        vertical-align: middle;\n",
       "    }\n",
       "\n",
       "    .dataframe tbody tr th {\n",
       "        vertical-align: top;\n",
       "    }\n",
       "\n",
       "    .dataframe thead th {\n",
       "        text-align: right;\n",
       "    }\n",
       "</style>\n",
       "<table border=\"1\" class=\"dataframe\">\n",
       "  <thead>\n",
       "    <tr style=\"text-align: right;\">\n",
       "      <th></th>\n",
       "      <th>Actual</th>\n",
       "      <th>Pred</th>\n",
       "    </tr>\n",
       "  </thead>\n",
       "  <tbody>\n",
       "    <tr>\n",
       "      <th>902</th>\n",
       "      <td>656.655</td>\n",
       "      <td>632.519</td>\n",
       "    </tr>\n",
       "    <tr>\n",
       "      <th>481</th>\n",
       "      <td>595.854</td>\n",
       "      <td>585.018</td>\n",
       "    </tr>\n",
       "    <tr>\n",
       "      <th>946</th>\n",
       "      <td>594.840</td>\n",
       "      <td>585.099</td>\n",
       "    </tr>\n",
       "    <tr>\n",
       "      <th>355</th>\n",
       "      <td>411.184</td>\n",
       "      <td>432.160</td>\n",
       "    </tr>\n",
       "    <tr>\n",
       "      <th>621</th>\n",
       "      <td>448.519</td>\n",
       "      <td>449.096</td>\n",
       "    </tr>\n",
       "    <tr>\n",
       "      <th>298</th>\n",
       "      <td>511.367</td>\n",
       "      <td>519.022</td>\n",
       "    </tr>\n",
       "    <tr>\n",
       "      <th>429</th>\n",
       "      <td>526.448</td>\n",
       "      <td>523.179</td>\n",
       "    </tr>\n",
       "    <tr>\n",
       "      <th>249</th>\n",
       "      <td>599.924</td>\n",
       "      <td>584.835</td>\n",
       "    </tr>\n",
       "    <tr>\n",
       "      <th>589</th>\n",
       "      <td>549.291</td>\n",
       "      <td>538.132</td>\n",
       "    </tr>\n",
       "    <tr>\n",
       "      <th>526</th>\n",
       "      <td>556.832</td>\n",
       "      <td>552.934</td>\n",
       "    </tr>\n",
       "  </tbody>\n",
       "</table>\n",
       "</div>"
      ],
      "text/plain": [
       "     Actual    Pred\n",
       "902 656.655 632.519\n",
       "481 595.854 585.018\n",
       "946 594.840 585.099\n",
       "355 411.184 432.160\n",
       "621 448.519 449.096\n",
       "298 511.367 519.022\n",
       "429 526.448 523.179\n",
       "249 599.924 584.835\n",
       "589 549.291 538.132\n",
       "526 556.832 552.934"
      ]
     },
     "execution_count": 83,
     "metadata": {},
     "output_type": "execute_result"
    }
   ],
   "source": [
    "my_dict = {\n",
    "    \"Actual\": y_test,\n",
    "    \"Pred\": y_pred.reshape(\n",
    "        -1,\n",
    "    ),\n",
    "}\n",
    "compare = pd.DataFrame(my_dict)\n",
    "compare.sample(10)"
   ]
  },
  {
   "cell_type": "code",
   "execution_count": 84,
   "metadata": {
    "id": "6GXbje2BYGAR",
    "outputId": "59ebc06d-9cb8-4ab0-d031-8aae277529a8"
   },
   "outputs": [
    {
     "data": {
      "text/plain": [
       "<Axes: xlabel='Actual', ylabel='Pred'>"
      ]
     },
     "execution_count": 84,
     "metadata": {},
     "output_type": "execute_result"
    },
    {
     "data": {
      "image/png": "[encoded data removed]",
      "text/plain": [
       "<Figure size 1000x600 with 1 Axes>"
      ]
     },
     "metadata": {},
     "output_type": "display_data"
    }
   ],
   "source": [
    "sns.scatterplot(x=\"Actual\", y=\"Pred\", data=compare)"
   ]
  },
  {
   "cell_type": "code",
   "execution_count": 85,
   "metadata": {
    "id": "qhvwQBwkYGAR"
   },
   "outputs": [],
   "source": [
    "def eval_metric(actual, pred):\n",
    "    \"\"\"Prints regression metrics, calculated using the given\n",
    "    actual and predicted target values.\n",
    "    Args:\n",
    "        actual (list): Actual target values.\n",
    "        pred (list): Predicted target values.\n",
    "    Returns:\n",
    "        None\n",
    "    \"\"\"\n",
    "    mae = mean_absolute_error(actual, pred)\n",
    "    mse = mean_squared_error(actual, pred)\n",
    "    rmse = np.sqrt(mean_squared_error(actual, pred))\n",
    "    score = r2_score(actual, pred)\n",
    "    print(\"r2_score:\", score, \"\\nmae:\", mae, \"\\nmse:\", mse, \"\\nrmse:\", rmse)"
   ]
  },
  {
   "cell_type": "code",
   "execution_count": 86,
   "metadata": {
    "id": "ebkLLagIYGAR",
    "outputId": "966d5588-08ba-4d8a-e775-b3c423dc2751"
   },
   "outputs": [
    {
     "name": "stdout",
     "output_type": "stream",
     "text": [
      "r2_score: 0.977461354061328 \n",
      "mae: 11.121811781085603 \n",
      "mse: 198.16048878833004 \n",
      "rmse: 14.076948845127273\n"
     ]
    }
   ],
   "source": [
    "eval_metric(y_test, y_pred)"
   ]
  },
  {
   "cell_type": "markdown",
   "metadata": {
    "id": "oKEYU7AdYGAR"
   },
   "source": [
    "## Final Model and Model Deployment"
   ]
  },
  {
   "cell_type": "markdown",
   "metadata": {
    "id": "APF0TKXZYGAS"
   },
   "source": [
    "### Final Model Training"
   ]
  },
  {
   "cell_type": "code",
   "execution_count": 87,
   "metadata": {
    "id": "kIYJpUs8YGAS"
   },
   "outputs": [],
   "source": [
    "scaler = MinMaxScaler().fit(X)"
   ]
  },
  {
   "cell_type": "code",
   "execution_count": 88,
   "metadata": {
    "id": "4H_I5VSCYGAS"
   },
   "outputs": [],
   "source": [
    "import pickle\n",
    "\n",
    "pickle.dump(scaler, open(\"scaler_fake_reg\", \"wb\"))"
   ]
  },
  {
   "cell_type": "code",
   "execution_count": 89,
   "metadata": {
    "id": "4SFqBUE6YGAS"
   },
   "outputs": [],
   "source": [
    "X_scaled = scaler.transform(X)"
   ]
  },
  {
   "cell_type": "code",
   "execution_count": 90,
   "metadata": {
    "id": "D2PHOzS1YGAS",
    "outputId": "61ac518b-94cd-4107-a3d2-82d0dae144c9",
    "scrolled": true,
    "tags": []
   },
   "outputs": [
    {
     "name": "stdout",
     "output_type": "stream",
     "text": [
      "Epoch 1/250\n",
      "32/32 [==============================] - 1s 2ms/step - loss: 257439.4375\n",
      "Epoch 2/250\n",
      "32/32 [==============================] - 0s 2ms/step - loss: 257405.5156\n",
      "Epoch 3/250\n",
      "32/32 [==============================] - 0s 2ms/step - loss: 257356.6875\n",
      "Epoch 4/250\n",
      "32/32 [==============================] - 0s 2ms/step - loss: 257138.5781\n",
      "Epoch 5/250\n",
      "32/32 [==============================] - 0s 2ms/step - loss: 256867.1719\n",
      "Epoch 6/250\n",
      "32/32 [==============================] - 0s 2ms/step - loss: 256589.1562\n",
      "Epoch 7/250\n",
      "32/32 [==============================] - 0s 2ms/step - loss: 256262.3750\n",
      "Epoch 8/250\n",
      "32/32 [==============================] - 0s 2ms/step - loss: 255873.6875\n",
      "Epoch 9/250\n",
      "32/32 [==============================] - 0s 2ms/step - loss: 255416.0156\n",
      "Epoch 10/250\n",
      "32/32 [==============================] - 0s 2ms/step - loss: 254883.5781\n",
      "Epoch 11/250\n",
      "32/32 [==============================] - 0s 3ms/step - loss: 254271.7812\n",
      "Epoch 12/250\n",
      "32/32 [==============================] - 0s 2ms/step - loss: 253578.9062\n",
      "Epoch 13/250\n",
      "32/32 [==============================] - 0s 2ms/step - loss: 252802.2969\n",
      "Epoch 14/250\n",
      "32/32 [==============================] - 0s 2ms/step - loss: 251930.4375\n",
      "Epoch 15/250\n",
      "32/32 [==============================] - 0s 2ms/step - loss: 250954.3125\n",
      "Epoch 16/250\n",
      "32/32 [==============================] - 0s 1ms/step - loss: 249872.1562\n",
      "Epoch 17/250\n",
      "32/32 [==============================] - 0s 2ms/step - loss: 248661.1875\n",
      "Epoch 18/250\n",
      "32/32 [==============================] - 0s 2ms/step - loss: 247320.9844\n",
      "Epoch 19/250\n",
      "32/32 [==============================] - 0s 2ms/step - loss: 245841.1719\n",
      "Epoch 20/250\n",
      "32/32 [==============================] - 0s 1ms/step - loss: 244221.4375\n",
      "Epoch 21/250\n",
      "32/32 [==============================] - 0s 1ms/step - loss: 242443.1875\n",
      "Epoch 22/250\n",
      "32/32 [==============================] - 0s 2ms/step - loss: 240513.2656\n",
      "Epoch 23/250\n",
      "32/32 [==============================] - 0s 1ms/step - loss: 238402.4219\n",
      "Epoch 24/250\n",
      "32/32 [==============================] - 0s 2ms/step - loss: 236100.0000\n",
      "Epoch 25/250\n",
      "32/32 [==============================] - 0s 2ms/step - loss: 233628.0625\n",
      "Epoch 26/250\n",
      "32/32 [==============================] - 0s 1ms/step - loss: 230965.5625\n",
      "Epoch 27/250\n",
      "32/32 [==============================] - 0s 2ms/step - loss: 228077.5938\n",
      "Epoch 28/250\n",
      "32/32 [==============================] - 0s 2ms/step - loss: 224990.2969\n",
      "Epoch 29/250\n",
      "32/32 [==============================] - 0s 1ms/step - loss: 221691.0469\n",
      "Epoch 30/250\n",
      "32/32 [==============================] - 0s 2ms/step - loss: 218167.9844\n",
      "Epoch 31/250\n",
      "32/32 [==============================] - 0s 2ms/step - loss: 214426.8125\n",
      "Epoch 32/250\n",
      "32/32 [==============================] - 0s 2ms/step - loss: 210411.7969\n",
      "Epoch 33/250\n",
      "32/32 [==============================] - 0s 2ms/step - loss: 206203.6094\n",
      "Epoch 34/250\n",
      "32/32 [==============================] - 0s 1ms/step - loss: 201738.1719\n",
      "Epoch 35/250\n",
      "32/32 [==============================] - 0s 2ms/step - loss: 197012.0625\n",
      "Epoch 36/250\n",
      "32/32 [==============================] - 0s 1ms/step - loss: 192048.3906\n",
      "Epoch 37/250\n",
      "32/32 [==============================] - 0s 2ms/step - loss: 186850.9219\n",
      "Epoch 38/250\n",
      "32/32 [==============================] - 0s 2ms/step - loss: 181418.4844\n",
      "Epoch 39/250\n",
      "32/32 [==============================] - 0s 2ms/step - loss: 175711.7656\n",
      "Epoch 40/250\n",
      "32/32 [==============================] - 0s 2ms/step - loss: 169770.4219\n",
      "Epoch 41/250\n",
      "32/32 [==============================] - 0s 2ms/step - loss: 163578.0938\n",
      "Epoch 42/250\n",
      "32/32 [==============================] - 0s 1ms/step - loss: 157187.1719\n",
      "Epoch 43/250\n",
      "32/32 [==============================] - 0s 2ms/step - loss: 150555.3594\n",
      "Epoch 44/250\n",
      "32/32 [==============================] - 0s 2ms/step - loss: 143744.5000\n",
      "Epoch 45/250\n",
      "32/32 [==============================] - 0s 2ms/step - loss: 136749.5000\n",
      "Epoch 46/250\n",
      "32/32 [==============================] - 0s 2ms/step - loss: 129513.3125\n",
      "Epoch 47/250\n",
      "32/32 [==============================] - 0s 2ms/step - loss: 122137.7188\n",
      "Epoch 48/250\n",
      "32/32 [==============================] - 0s 1ms/step - loss: 114643.0703\n",
      "Epoch 49/250\n",
      "32/32 [==============================] - 0s 2ms/step - loss: 107025.9141\n",
      "Epoch 50/250\n",
      "32/32 [==============================] - 0s 2ms/step - loss: 99337.0391\n",
      "Epoch 51/250\n",
      "32/32 [==============================] - 0s 2ms/step - loss: 91573.5078\n",
      "Epoch 52/250\n",
      "32/32 [==============================] - 0s 2ms/step - loss: 83792.4141\n",
      "Epoch 53/250\n",
      "32/32 [==============================] - 0s 2ms/step - loss: 76035.8125\n",
      "Epoch 54/250\n",
      "32/32 [==============================] - 0s 2ms/step - loss: 68361.4609\n",
      "Epoch 55/250\n",
      "32/32 [==============================] - 0s 1ms/step - loss: 60811.8203\n",
      "Epoch 56/250\n",
      "32/32 [==============================] - 0s 1ms/step - loss: 53386.2070\n",
      "Epoch 57/250\n",
      "32/32 [==============================] - 0s 2ms/step - loss: 46288.1094\n",
      "Epoch 58/250\n",
      "32/32 [==============================] - 0s 2ms/step - loss: 39373.7812\n",
      "Epoch 59/250\n",
      "32/32 [==============================] - 0s 2ms/step - loss: 32836.5977\n",
      "Epoch 60/250\n",
      "32/32 [==============================] - 0s 2ms/step - loss: 26701.8535\n",
      "Epoch 61/250\n",
      "32/32 [==============================] - 0s 2ms/step - loss: 21201.7695\n",
      "Epoch 62/250\n",
      "32/32 [==============================] - 0s 2ms/step - loss: 16206.0439\n",
      "Epoch 63/250\n",
      "32/32 [==============================] - 0s 1ms/step - loss: 11839.9883\n",
      "Epoch 64/250\n",
      "32/32 [==============================] - 0s 2ms/step - loss: 8306.7109\n",
      "Epoch 65/250\n",
      "32/32 [==============================] - 0s 2ms/step - loss: 5568.8906\n",
      "Epoch 66/250\n",
      "32/32 [==============================] - 0s 2ms/step - loss: 3749.2634\n",
      "Epoch 67/250\n",
      "32/32 [==============================] - 0s 2ms/step - loss: 2802.3782\n",
      "Epoch 68/250\n",
      "32/32 [==============================] - 0s 1ms/step - loss: 2537.4502\n",
      "Epoch 69/250\n",
      "32/32 [==============================] - 0s 2ms/step - loss: 2475.3508\n",
      "Epoch 70/250\n",
      "32/32 [==============================] - 0s 2ms/step - loss: 2424.6982\n",
      "Epoch 71/250\n",
      "32/32 [==============================] - 0s 2ms/step - loss: 2379.7463\n",
      "Epoch 72/250\n",
      "32/32 [==============================] - 0s 2ms/step - loss: 2330.5120\n",
      "Epoch 73/250\n",
      "32/32 [==============================] - 0s 2ms/step - loss: 2278.4333\n",
      "Epoch 74/250\n",
      "32/32 [==============================] - 0s 2ms/step - loss: 2233.4082\n",
      "Epoch 75/250\n",
      "32/32 [==============================] - 0s 1ms/step - loss: 2187.3425\n",
      "Epoch 76/250\n",
      "32/32 [==============================] - 0s 2ms/step - loss: 2141.3679\n",
      "Epoch 77/250\n",
      "32/32 [==============================] - 0s 2ms/step - loss: 2096.8247\n",
      "Epoch 78/250\n",
      "32/32 [==============================] - 0s 2ms/step - loss: 2047.2615\n",
      "Epoch 79/250\n",
      "32/32 [==============================] - 0s 1ms/step - loss: 1997.4792\n",
      "Epoch 80/250\n",
      "32/32 [==============================] - 0s 2ms/step - loss: 1952.5771\n",
      "Epoch 81/250\n",
      "32/32 [==============================] - 0s 2ms/step - loss: 1906.9386\n",
      "Epoch 82/250\n",
      "32/32 [==============================] - 0s 1ms/step - loss: 1868.1420\n",
      "Epoch 83/250\n",
      "32/32 [==============================] - 0s 1ms/step - loss: 1825.2839\n",
      "Epoch 84/250\n",
      "32/32 [==============================] - 0s 2ms/step - loss: 1784.7153\n",
      "Epoch 85/250\n",
      "32/32 [==============================] - 0s 2ms/step - loss: 1741.4061\n",
      "Epoch 86/250\n",
      "32/32 [==============================] - 0s 2ms/step - loss: 1701.4858\n",
      "Epoch 87/250\n",
      "32/32 [==============================] - 0s 1ms/step - loss: 1660.2319\n",
      "Epoch 88/250\n",
      "32/32 [==============================] - 0s 1ms/step - loss: 1615.4873\n",
      "Epoch 89/250\n",
      "32/32 [==============================] - 0s 2ms/step - loss: 1570.4216\n",
      "Epoch 90/250\n",
      "32/32 [==============================] - 0s 1ms/step - loss: 1530.4227\n",
      "Epoch 91/250\n",
      "32/32 [==============================] - 0s 2ms/step - loss: 1490.2810\n",
      "Epoch 92/250\n",
      "32/32 [==============================] - 0s 1ms/step - loss: 1451.0648\n",
      "Epoch 93/250\n",
      "32/32 [==============================] - 0s 1ms/step - loss: 1409.7114\n",
      "Epoch 94/250\n",
      "32/32 [==============================] - 0s 2ms/step - loss: 1368.8209\n",
      "Epoch 95/250\n",
      "32/32 [==============================] - 0s 2ms/step - loss: 1333.7288\n",
      "Epoch 96/250\n",
      "32/32 [==============================] - 0s 2ms/step - loss: 1295.9255\n",
      "Epoch 97/250\n",
      "32/32 [==============================] - 0s 1ms/step - loss: 1256.0243\n",
      "Epoch 98/250\n",
      "32/32 [==============================] - 0s 1ms/step - loss: 1217.5204\n",
      "Epoch 99/250\n",
      "32/32 [==============================] - 0s 2ms/step - loss: 1177.6829\n",
      "Epoch 100/250\n",
      "32/32 [==============================] - 0s 2ms/step - loss: 1139.4360\n",
      "Epoch 101/250\n",
      "32/32 [==============================] - 0s 2ms/step - loss: 1101.8550\n",
      "Epoch 102/250\n",
      "32/32 [==============================] - 0s 1ms/step - loss: 1062.8492\n",
      "Epoch 103/250\n",
      "32/32 [==============================] - 0s 2ms/step - loss: 1025.3082\n",
      "Epoch 104/250\n",
      "32/32 [==============================] - 0s 2ms/step - loss: 990.8407\n",
      "Epoch 105/250\n",
      "32/32 [==============================] - 0s 2ms/step - loss: 958.5518\n",
      "Epoch 106/250\n",
      "32/32 [==============================] - 0s 2ms/step - loss: 926.1989\n",
      "Epoch 107/250\n",
      "32/32 [==============================] - 0s 2ms/step - loss: 892.8004\n",
      "Epoch 108/250\n",
      "32/32 [==============================] - 0s 2ms/step - loss: 854.7720\n",
      "Epoch 109/250\n",
      "32/32 [==============================] - 0s 2ms/step - loss: 819.9467\n",
      "Epoch 110/250\n",
      "32/32 [==============================] - 0s 2ms/step - loss: 787.8583\n",
      "Epoch 111/250\n",
      "32/32 [==============================] - 0s 2ms/step - loss: 755.7148\n",
      "Epoch 112/250\n",
      "32/32 [==============================] - 0s 2ms/step - loss: 723.2284\n",
      "Epoch 113/250\n",
      "32/32 [==============================] - 0s 1ms/step - loss: 693.4266\n",
      "Epoch 114/250\n",
      "32/32 [==============================] - 0s 1ms/step - loss: 661.8486\n",
      "Epoch 115/250\n",
      "32/32 [==============================] - 0s 2ms/step - loss: 628.9184\n",
      "Epoch 116/250\n",
      "32/32 [==============================] - 0s 2ms/step - loss: 598.3103\n",
      "Epoch 117/250\n",
      "32/32 [==============================] - 0s 2ms/step - loss: 569.6994\n",
      "Epoch 118/250\n",
      "32/32 [==============================] - 0s 2ms/step - loss: 542.1631\n",
      "Epoch 119/250\n",
      "32/32 [==============================] - 0s 1ms/step - loss: 515.2827\n",
      "Epoch 120/250\n",
      "32/32 [==============================] - 0s 2ms/step - loss: 489.5844\n",
      "Epoch 121/250\n",
      "32/32 [==============================] - 0s 1ms/step - loss: 463.7304\n",
      "Epoch 122/250\n",
      "32/32 [==============================] - 0s 2ms/step - loss: 437.1995\n",
      "Epoch 123/250\n",
      "32/32 [==============================] - 0s 2ms/step - loss: 415.0537\n",
      "Epoch 124/250\n",
      "32/32 [==============================] - 0s 2ms/step - loss: 393.0105\n",
      "Epoch 125/250\n",
      "32/32 [==============================] - 0s 2ms/step - loss: 369.5401\n",
      "Epoch 126/250\n",
      "32/32 [==============================] - 0s 2ms/step - loss: 345.4633\n",
      "Epoch 127/250\n",
      "32/32 [==============================] - 0s 2ms/step - loss: 320.5953\n",
      "Epoch 128/250\n",
      "32/32 [==============================] - 0s 2ms/step - loss: 297.3160\n",
      "Epoch 129/250\n",
      "32/32 [==============================] - 0s 2ms/step - loss: 273.7861\n",
      "Epoch 130/250\n",
      "32/32 [==============================] - 0s 2ms/step - loss: 254.2548\n",
      "Epoch 131/250\n",
      "32/32 [==============================] - 0s 2ms/step - loss: 236.2734\n",
      "Epoch 132/250\n",
      "32/32 [==============================] - 0s 2ms/step - loss: 220.0825\n",
      "Epoch 133/250\n",
      "32/32 [==============================] - 0s 2ms/step - loss: 202.7643\n",
      "Epoch 134/250\n",
      "32/32 [==============================] - 0s 2ms/step - loss: 184.6082\n",
      "Epoch 135/250\n",
      "32/32 [==============================] - 0s 2ms/step - loss: 168.9458\n",
      "Epoch 136/250\n",
      "32/32 [==============================] - 0s 1ms/step - loss: 155.7158\n",
      "Epoch 137/250\n",
      "32/32 [==============================] - 0s 2ms/step - loss: 143.3277\n",
      "Epoch 138/250\n",
      "32/32 [==============================] - 0s 1ms/step - loss: 130.5994\n",
      "Epoch 139/250\n",
      "32/32 [==============================] - 0s 2ms/step - loss: 118.5749\n",
      "Epoch 140/250\n",
      "32/32 [==============================] - 0s 2ms/step - loss: 107.8564\n",
      "Epoch 141/250\n",
      "32/32 [==============================] - 0s 2ms/step - loss: 98.1238\n",
      "Epoch 142/250\n",
      "32/32 [==============================] - 0s 2ms/step - loss: 88.9427\n",
      "Epoch 143/250\n",
      "32/32 [==============================] - 0s 1ms/step - loss: 80.3251\n",
      "Epoch 144/250\n",
      "32/32 [==============================] - 0s 2ms/step - loss: 72.4824\n",
      "Epoch 145/250\n",
      "32/32 [==============================] - 0s 2ms/step - loss: 65.8304\n",
      "Epoch 146/250\n",
      "32/32 [==============================] - 0s 2ms/step - loss: 59.6030\n",
      "Epoch 147/250\n",
      "32/32 [==============================] - 0s 2ms/step - loss: 53.7227\n",
      "Epoch 148/250\n",
      "32/32 [==============================] - 0s 1ms/step - loss: 48.7388\n",
      "Epoch 149/250\n",
      "32/32 [==============================] - 0s 2ms/step - loss: 44.6461\n",
      "Epoch 150/250\n",
      "32/32 [==============================] - 0s 2ms/step - loss: 41.0055\n",
      "Epoch 151/250\n",
      "32/32 [==============================] - 0s 2ms/step - loss: 38.1449\n",
      "Epoch 152/250\n",
      "32/32 [==============================] - 0s 2ms/step - loss: 35.6080\n",
      "Epoch 153/250\n",
      "32/32 [==============================] - 0s 1ms/step - loss: 33.4904\n",
      "Epoch 154/250\n",
      "32/32 [==============================] - 0s 2ms/step - loss: 31.9949\n",
      "Epoch 155/250\n",
      "32/32 [==============================] - 0s 1ms/step - loss: 30.5748\n",
      "Epoch 156/250\n",
      "32/32 [==============================] - 0s 2ms/step - loss: 29.2166\n",
      "Epoch 157/250\n",
      "32/32 [==============================] - 0s 2ms/step - loss: 28.1035\n",
      "Epoch 158/250\n",
      "32/32 [==============================] - 0s 2ms/step - loss: 27.1830\n",
      "Epoch 159/250\n",
      "32/32 [==============================] - 0s 2ms/step - loss: 26.7377\n",
      "Epoch 160/250\n",
      "32/32 [==============================] - 0s 2ms/step - loss: 26.0379\n",
      "Epoch 161/250\n",
      "32/32 [==============================] - 0s 2ms/step - loss: 25.8661\n",
      "Epoch 162/250\n",
      "32/32 [==============================] - 0s 2ms/step - loss: 25.4274\n",
      "Epoch 163/250\n",
      "32/32 [==============================] - 0s 2ms/step - loss: 25.4525\n",
      "Epoch 164/250\n",
      "32/32 [==============================] - 0s 1ms/step - loss: 25.1447\n",
      "Epoch 165/250\n",
      "32/32 [==============================] - 0s 1ms/step - loss: 25.1925\n",
      "Epoch 166/250\n",
      "32/32 [==============================] - 0s 2ms/step - loss: 25.1275\n",
      "Epoch 167/250\n",
      "32/32 [==============================] - 0s 2ms/step - loss: 24.7875\n",
      "Epoch 168/250\n",
      "32/32 [==============================] - 0s 2ms/step - loss: 25.1363\n",
      "Epoch 169/250\n",
      "32/32 [==============================] - 0s 2ms/step - loss: 24.7394\n",
      "Epoch 170/250\n",
      "32/32 [==============================] - 0s 2ms/step - loss: 24.7994\n",
      "Epoch 171/250\n",
      "32/32 [==============================] - 0s 1ms/step - loss: 24.9675\n",
      "Epoch 172/250\n",
      "32/32 [==============================] - 0s 2ms/step - loss: 24.6667\n",
      "Epoch 173/250\n",
      "32/32 [==============================] - 0s 2ms/step - loss: 24.3717\n",
      "Epoch 174/250\n",
      "32/32 [==============================] - 0s 2ms/step - loss: 24.9904\n",
      "Epoch 175/250\n",
      "32/32 [==============================] - 0s 2ms/step - loss: 24.8458\n",
      "Epoch 176/250\n",
      "32/32 [==============================] - 0s 1ms/step - loss: 24.6922\n",
      "Epoch 177/250\n",
      "32/32 [==============================] - 0s 2ms/step - loss: 24.6888\n",
      "Epoch 178/250\n",
      "32/32 [==============================] - 0s 2ms/step - loss: 24.3522\n",
      "Epoch 179/250\n",
      "32/32 [==============================] - 0s 2ms/step - loss: 24.6136\n",
      "Epoch 180/250\n",
      "32/32 [==============================] - 0s 2ms/step - loss: 24.6143\n",
      "Epoch 181/250\n",
      "32/32 [==============================] - 0s 2ms/step - loss: 24.5263\n",
      "Epoch 182/250\n",
      "32/32 [==============================] - 0s 2ms/step - loss: 24.4495\n",
      "Epoch 183/250\n",
      "32/32 [==============================] - 0s 2ms/step - loss: 24.5883\n",
      "Epoch 184/250\n",
      "32/32 [==============================] - 0s 2ms/step - loss: 24.6388\n",
      "Epoch 185/250\n",
      "32/32 [==============================] - 0s 2ms/step - loss: 24.4245\n",
      "Epoch 186/250\n",
      "32/32 [==============================] - 0s 2ms/step - loss: 24.2824\n",
      "Epoch 187/250\n",
      "32/32 [==============================] - 0s 2ms/step - loss: 24.5280\n",
      "Epoch 188/250\n",
      "32/32 [==============================] - 0s 1ms/step - loss: 24.4699\n",
      "Epoch 189/250\n",
      "32/32 [==============================] - 0s 2ms/step - loss: 24.4958\n",
      "Epoch 190/250\n",
      "32/32 [==============================] - 0s 2ms/step - loss: 24.5921\n",
      "Epoch 191/250\n",
      "32/32 [==============================] - 0s 2ms/step - loss: 24.7915\n",
      "Epoch 192/250\n",
      "32/32 [==============================] - 0s 2ms/step - loss: 24.4400\n",
      "Epoch 193/250\n",
      "32/32 [==============================] - 0s 2ms/step - loss: 24.4564\n",
      "Epoch 194/250\n",
      "32/32 [==============================] - 0s 2ms/step - loss: 24.6826\n",
      "Epoch 195/250\n"
     ]
    },
    {
     "name": "stdout",
     "output_type": "stream",
     "text": [
      "32/32 [==============================] - 0s 2ms/step - loss: 24.6215\n",
      "Epoch 196/250\n",
      "32/32 [==============================] - 0s 2ms/step - loss: 24.4601\n",
      "Epoch 197/250\n",
      "32/32 [==============================] - 0s 2ms/step - loss: 24.6228\n",
      "Epoch 198/250\n",
      "32/32 [==============================] - 0s 2ms/step - loss: 24.6275\n",
      "Epoch 199/250\n",
      "32/32 [==============================] - 0s 2ms/step - loss: 24.5153\n",
      "Epoch 200/250\n",
      "32/32 [==============================] - 0s 1ms/step - loss: 24.6214\n",
      "Epoch 201/250\n",
      "32/32 [==============================] - 0s 1ms/step - loss: 24.5351\n",
      "Epoch 202/250\n",
      "32/32 [==============================] - 0s 2ms/step - loss: 24.5697\n",
      "Epoch 203/250\n",
      "32/32 [==============================] - 0s 2ms/step - loss: 24.5329\n",
      "Epoch 204/250\n",
      "32/32 [==============================] - 0s 1ms/step - loss: 24.2789\n",
      "Epoch 205/250\n",
      "32/32 [==============================] - 0s 1ms/step - loss: 24.5269\n",
      "Epoch 206/250\n",
      "32/32 [==============================] - 0s 2ms/step - loss: 24.7368\n",
      "Epoch 207/250\n",
      "32/32 [==============================] - 0s 2ms/step - loss: 24.5731\n",
      "Epoch 208/250\n",
      "32/32 [==============================] - 0s 2ms/step - loss: 24.7166\n",
      "Epoch 209/250\n",
      "32/32 [==============================] - 0s 1ms/step - loss: 24.5414\n",
      "Epoch 210/250\n",
      "32/32 [==============================] - 0s 2ms/step - loss: 24.3958\n",
      "Epoch 211/250\n",
      "32/32 [==============================] - 0s 2ms/step - loss: 24.3967\n",
      "Epoch 212/250\n",
      "32/32 [==============================] - 0s 2ms/step - loss: 24.5900\n",
      "Epoch 213/250\n",
      "32/32 [==============================] - 0s 2ms/step - loss: 24.4908\n",
      "Epoch 214/250\n",
      "32/32 [==============================] - 0s 1ms/step - loss: 24.6584\n",
      "Epoch 215/250\n",
      "32/32 [==============================] - 0s 1ms/step - loss: 24.5884\n",
      "Epoch 216/250\n",
      "32/32 [==============================] - 0s 1ms/step - loss: 24.6179\n",
      "Epoch 217/250\n",
      "32/32 [==============================] - 0s 1ms/step - loss: 24.1530\n",
      "Epoch 218/250\n",
      "32/32 [==============================] - 0s 1ms/step - loss: 24.6341\n",
      "Epoch 219/250\n",
      "32/32 [==============================] - 0s 1ms/step - loss: 24.6800\n",
      "Epoch 220/250\n",
      "32/32 [==============================] - 0s 1ms/step - loss: 24.5735\n",
      "Epoch 221/250\n",
      "32/32 [==============================] - 0s 2ms/step - loss: 24.6779\n",
      "Epoch 222/250\n",
      "32/32 [==============================] - 0s 2ms/step - loss: 24.6045\n",
      "Epoch 223/250\n",
      "32/32 [==============================] - 0s 2ms/step - loss: 24.7634\n",
      "Epoch 224/250\n",
      "32/32 [==============================] - 0s 2ms/step - loss: 24.3000\n",
      "Epoch 225/250\n",
      "32/32 [==============================] - 0s 2ms/step - loss: 24.6084\n",
      "Epoch 226/250\n",
      "32/32 [==============================] - 0s 2ms/step - loss: 24.8305\n",
      "Epoch 227/250\n",
      "32/32 [==============================] - 0s 2ms/step - loss: 24.5610\n",
      "Epoch 228/250\n",
      "32/32 [==============================] - 0s 2ms/step - loss: 24.4879\n",
      "Epoch 229/250\n",
      "32/32 [==============================] - 0s 2ms/step - loss: 24.6128\n",
      "Epoch 230/250\n",
      "32/32 [==============================] - 0s 2ms/step - loss: 24.7167\n",
      "Epoch 231/250\n",
      "32/32 [==============================] - 0s 2ms/step - loss: 24.6294\n",
      "Epoch 232/250\n",
      "32/32 [==============================] - 0s 2ms/step - loss: 24.5232\n",
      "Epoch 233/250\n",
      "32/32 [==============================] - 0s 1ms/step - loss: 24.8253\n",
      "Epoch 234/250\n",
      "32/32 [==============================] - 0s 2ms/step - loss: 24.6338\n",
      "Epoch 235/250\n",
      "32/32 [==============================] - 0s 1ms/step - loss: 24.5156\n",
      "Epoch 236/250\n",
      "32/32 [==============================] - 0s 2ms/step - loss: 24.5336\n",
      "Epoch 237/250\n",
      "32/32 [==============================] - 0s 2ms/step - loss: 24.4611\n",
      "Epoch 238/250\n",
      "32/32 [==============================] - 0s 1ms/step - loss: 24.5363\n",
      "Epoch 239/250\n",
      "32/32 [==============================] - 0s 2ms/step - loss: 24.7209\n",
      "Epoch 240/250\n",
      "32/32 [==============================] - 0s 2ms/step - loss: 24.6843\n",
      "Epoch 241/250\n",
      "32/32 [==============================] - 0s 2ms/step - loss: 24.8472\n",
      "Epoch 242/250\n",
      "32/32 [==============================] - 0s 2ms/step - loss: 24.7630\n",
      "Epoch 243/250\n",
      "32/32 [==============================] - 0s 2ms/step - loss: 24.5128\n",
      "Epoch 244/250\n",
      "32/32 [==============================] - 0s 2ms/step - loss: 24.6919\n",
      "Epoch 245/250\n",
      "32/32 [==============================] - 0s 2ms/step - loss: 24.5405\n",
      "Epoch 246/250\n",
      "32/32 [==============================] - 0s 2ms/step - loss: 24.2717\n",
      "Epoch 247/250\n",
      "32/32 [==============================] - 0s 1ms/step - loss: 24.6050\n",
      "Epoch 248/250\n",
      "32/32 [==============================] - 0s 1ms/step - loss: 24.6343\n",
      "Epoch 249/250\n",
      "32/32 [==============================] - 0s 1ms/step - loss: 24.4079\n",
      "Epoch 250/250\n",
      "32/32 [==============================] - 0s 1ms/step - loss: 24.5288\n"
     ]
    },
    {
     "data": {
      "text/plain": [
       "<keras.callbacks.History at 0x22f2de7e1f0>"
      ]
     },
     "execution_count": 90,
     "metadata": {},
     "output_type": "execute_result"
    }
   ],
   "source": [
    "final_model = Sequential()\n",
    "\n",
    "final_model.add(Dense(units=4, activation=\"relu\"))  # input_dim=2 or input_dim=X_train.shape[1]\n",
    "final_model.add(Dense(units=4, activation=\"relu\"))\n",
    "final_model.add(Dense(units=4, activation=\"relu\"))\n",
    "final_model.add(Dense(1))\n",
    "\n",
    "final_model.compile(optimizer=\"rmsprop\", loss=\"mse\")\n",
    "\n",
    "final_model.fit(x=X_scaled, y=y, batch_size=32, epochs=250)"
   ]
  },
  {
   "cell_type": "markdown",
   "metadata": {
    "id": "5Ncus4tsYGAT"
   },
   "source": [
    "### Saving a Model"
   ]
  },
  {
   "cell_type": "markdown",
   "metadata": {
    "id": "OkZlNOz_YGAT"
   },
   "source": [
    "You can save a TensorFlow/Keras model using the method [`model.save()`](https://www.tensorflow.org/tutorials/keras/save_and_load#save_the_entire_model).\n",
    "\n",
    "Keras saves models by inspecting their architectures. This technique saves everything:\n",
    "\n",
    "- The weight values\n",
    "- The model's architecture\n",
    "- The model's training configuration (what you pass to the .compile() method)\n",
    "- The optimizer and its state, if any (this enables you to restart training where you left off)\n",
    "\n",
    "There are two ways to save a model in TensorFlow:\n",
    "1. The [SavedModel format](https://www.tensorflow.org/tutorials/keras/save_and_load#savedmodel_format) (default).\n",
    "2. The [HDF5 format](https://www.tensorflow.org/tutorials/keras/save_and_load#hdf5_format).\n",
    "\n",
    "The main difference between the two is the SavedModel is automatically able to save custom objects (such as special layers) without additional modifications when loading the model back in.\n",
    "\n",
    "The key difference between HDF5 and SavedModel is that HDF5 uses object configs to save the model architecture, while SavedModel saves the execution graph. Thus, SavedModels are able to save custom objects like subclassed models and custom layers without requiring the original code."
   ]
  },
  {
   "cell_type": "code",
   "execution_count": 91,
   "metadata": {
    "id": "aemsr3lnYGAT"
   },
   "outputs": [],
   "source": [
    "final_model.save(\"model_fake_reg.h5\")  # creates a HDF5 file 'my_model.h5'"
   ]
  },
  {
   "cell_type": "code",
   "execution_count": 92,
   "metadata": {
    "id": "foxJ6r9DYGAU"
   },
   "outputs": [],
   "source": [
    "# final_model.save(\"model_fake_reg\")"
   ]
  },
  {
   "cell_type": "markdown",
   "metadata": {
    "id": "_kkX_nYHYGAU"
   },
   "source": [
    "### Loading Model"
   ]
  },
  {
   "cell_type": "code",
   "execution_count": 93,
   "metadata": {
    "id": "79HGbk3lYGAU"
   },
   "outputs": [],
   "source": [
    "from tensorflow.keras.models import load_model"
   ]
  },
  {
   "cell_type": "code",
   "execution_count": 94,
   "metadata": {
    "id": "67XRxNYEYGAU"
   },
   "outputs": [],
   "source": [
    "model_fake_reg = load_model(\"model_fake_reg.h5\")"
   ]
  },
  {
   "cell_type": "code",
   "execution_count": 95,
   "metadata": {
    "id": "QxqZLPXYYGAU"
   },
   "outputs": [],
   "source": [
    "scaler_fake_reg = pickle.load(open(\"scaler_fake_reg\", \"rb\"))"
   ]
  },
  {
   "cell_type": "markdown",
   "metadata": {
    "id": "y-YjBDtXYGAV"
   },
   "source": [
    "## Prediction-1"
   ]
  },
  {
   "cell_type": "code",
   "execution_count": 96,
   "metadata": {
    "id": "BTyJWjnCYGAV"
   },
   "outputs": [],
   "source": [
    "sample = [[998, 1000]]"
   ]
  },
  {
   "cell_type": "code",
   "execution_count": 97,
   "metadata": {
    "id": "VHYkTc51YGAV"
   },
   "outputs": [
    {
     "name": "stderr",
     "output_type": "stream",
     "text": [
      "C:\\Users\\Toshiba\\anaconda3\\lib\\site-packages\\sklearn\\base.py:439: UserWarning: X does not have valid feature names, but MinMaxScaler was fitted with feature names\n",
      "  warnings.warn(\n"
     ]
    }
   ],
   "source": [
    "sample_scaled = scaler_fake_reg.transform(sample)"
   ]
  },
  {
   "cell_type": "code",
   "execution_count": 98,
   "metadata": {
    "id": "NT9Tyvw2YGAW",
    "outputId": "2c4f821f-a780-4704-cfa6-fa6c96bcac8c"
   },
   "outputs": [
    {
     "name": "stdout",
     "output_type": "stream",
     "text": [
      "1/1 [==============================] - 0s 340ms/step\n"
     ]
    },
    {
     "data": {
      "text/plain": [
       "array([[420.97995]], dtype=float32)"
      ]
     },
     "execution_count": 98,
     "metadata": {},
     "output_type": "execute_result"
    }
   ],
   "source": [
    "model_fake_reg.predict(sample_scaled)"
   ]
  },
  {
   "cell_type": "markdown",
   "metadata": {
    "id": "OsxmtZE0YGAW"
   },
   "source": [
    "## Prediction-2"
   ]
  },
  {
   "cell_type": "code",
   "execution_count": 99,
   "metadata": {
    "id": "gMZwzU3_YGAX"
   },
   "outputs": [],
   "source": [
    "my_dict = {\n",
    "    \"feature1\": [997, 998, 999, 1000, 1001],\n",
    "    \"feature2\": [1000, 999, 998, 997, 996],\n",
    "}"
   ]
  },
  {
   "cell_type": "code",
   "execution_count": 100,
   "metadata": {
    "id": "_XbY1NOWYGAX",
    "outputId": "cb35570e-b2fb-4d3f-f8b6-c991fd467f0f"
   },
   "outputs": [
    {
     "data": {
      "text/html": [
       "<div>\n",
       "<style scoped>\n",
       "    .dataframe tbody tr th:only-of-type {\n",
       "        vertical-align: middle;\n",
       "    }\n",
       "\n",
       "    .dataframe tbody tr th {\n",
       "        vertical-align: top;\n",
       "    }\n",
       "\n",
       "    .dataframe thead th {\n",
       "        text-align: right;\n",
       "    }\n",
       "</style>\n",
       "<table border=\"1\" class=\"dataframe\">\n",
       "  <thead>\n",
       "    <tr style=\"text-align: right;\">\n",
       "      <th></th>\n",
       "      <th>feature1</th>\n",
       "      <th>feature2</th>\n",
       "    </tr>\n",
       "  </thead>\n",
       "  <tbody>\n",
       "    <tr>\n",
       "      <th>0</th>\n",
       "      <td>997</td>\n",
       "      <td>1000</td>\n",
       "    </tr>\n",
       "    <tr>\n",
       "      <th>1</th>\n",
       "      <td>998</td>\n",
       "      <td>999</td>\n",
       "    </tr>\n",
       "    <tr>\n",
       "      <th>2</th>\n",
       "      <td>999</td>\n",
       "      <td>998</td>\n",
       "    </tr>\n",
       "    <tr>\n",
       "      <th>3</th>\n",
       "      <td>1000</td>\n",
       "      <td>997</td>\n",
       "    </tr>\n",
       "    <tr>\n",
       "      <th>4</th>\n",
       "      <td>1001</td>\n",
       "      <td>996</td>\n",
       "    </tr>\n",
       "  </tbody>\n",
       "</table>\n",
       "</div>"
      ],
      "text/plain": [
       "   feature1  feature2\n",
       "0       997      1000\n",
       "1       998       999\n",
       "2       999       998\n",
       "3      1000       997\n",
       "4      1001       996"
      ]
     },
     "execution_count": 100,
     "metadata": {},
     "output_type": "execute_result"
    }
   ],
   "source": [
    "sample = pd.DataFrame(my_dict)\n",
    "sample"
   ]
  },
  {
   "cell_type": "code",
   "execution_count": 101,
   "metadata": {
    "id": "ag-dSyYwYGAX",
    "outputId": "9b05d4a0-21d4-495b-820f-5a150e86936e"
   },
   "outputs": [
    {
     "data": {
      "text/plain": [
       "array([[-0.00948799,  0.52980619],\n",
       "       [ 0.15312457,  0.35345977],\n",
       "       [ 0.31573713,  0.17711336],\n",
       "       [ 0.47834969,  0.00076694],\n",
       "       [ 0.64096225, -0.17557948]])"
      ]
     },
     "execution_count": 101,
     "metadata": {},
     "output_type": "execute_result"
    }
   ],
   "source": [
    "sample_scaled = scaler_fake_reg.transform(sample)\n",
    "sample_scaled"
   ]
  },
  {
   "cell_type": "code",
   "execution_count": 102,
   "metadata": {
    "id": "fkgEHtfuYGAX",
    "outputId": "2b416d1e-5942-40ff-e9ea-82e55bfc98d7"
   },
   "outputs": [
    {
     "name": "stdout",
     "output_type": "stream",
     "text": [
      "1/1 [==============================] - 0s 180ms/step\n"
     ]
    },
    {
     "data": {
      "text/plain": [
       "array([[380.7292 ],\n",
       "       [332.24963],\n",
       "       [283.77008],\n",
       "       [235.29059],\n",
       "       [186.81102]], dtype=float32)"
      ]
     },
     "execution_count": 102,
     "metadata": {},
     "output_type": "execute_result"
    }
   ],
   "source": [
    "model_fake_reg.predict(sample_scaled)"
   ]
  },
  {
   "cell_type": "markdown",
   "metadata": {
    "id": "A_JalkGuYGAY"
   },
   "source": [
    "___\n",
    "\n",
    "<p style=\"text-align: center;\"><img src=\"https://docs.google.com/uc?id=1lY0Uj5R04yMY3-ZppPWxqCr5pvBLYPnV\" class=\"img-fluid\" alt=\"CLRSWY\"></p>\n",
    "\n",
    "___"
   ]
  }
 ],
 "metadata": {
  "colab": {
   "name": "DL-S2 (Installing Tensorflow & Keras Syntext Basics-fake reg).ipynb",
   "provenance": []
  },
  "kernelspec": {
   "display_name": "Python 3 (ipykernel)",
   "language": "python",
   "name": "python3"
  },
  "language_info": {
   "codemirror_mode": {
    "name": "ipython",
    "version": 3
   },
   "file_extension": ".py",
   "mimetype": "text/x-python",
   "name": "python",
   "nbconvert_exporter": "python",
   "pygments_lexer": "ipython3",
   "version": "3.9.17"
  },
  "toc": {
   "base_numbering": 1,
   "nav_menu": {},
   "number_sections": false,
   "sideBar": true,
   "skip_h1_title": false,
   "title_cell": "Table of Contents",
   "title_sidebar": "Contents",
   "toc_cell": false,
   "toc_position": {
    "height": "calc(100% - 180px)",
    "left": "10px",
    "top": "150px",
    "width": "300.099px"
   },
   "toc_section_display": true,
   "toc_window_display": true
  }
 },
 "nbformat": 4,
 "nbformat_minor": 4
}
