{
 "cells": [
  {
   "cell_type": "markdown",
   "metadata": {
    "id": "4bW2sBAObr7M"
   },
   "source": [
    "# Logistic Regression"
   ]
  },
  {
   "cell_type": "code",
   "execution_count": 2,
   "metadata": {
    "id": "ed4n-0F8br7R"
   },
   "outputs": [],
   "source": [
    "import numpy as np\n",
    "import pandas as pd\n",
    "import seaborn as sns\n",
    "import matplotlib.pyplot as plt\n",
    "%matplotlib inline\n",
    "\n",
    "plt.rcParams[\"figure.figsize\"] = (10,6)\n",
    "import warnings\n",
    "warnings.filterwarnings(\"ignore\")\n",
    "warnings.warn(\"this will not show\")\n",
    "#pd.set_option('display.float_format', lambda x: '%.3f' % x)\n",
    "#pd.options.display.float_format = '{:.3f}'.format"
   ]
  },
  {
   "cell_type": "code",
   "execution_count": 3,
   "metadata": {
    "id": "8KCJu5lqbr7U"
   },
   "outputs": [],
   "source": [
    "df = pd.read_csv('hearing_test.csv')"
   ]
  },
  {
   "cell_type": "code",
   "execution_count": 4,
   "metadata": {
    "id": "EU3CjQXibr7U",
    "outputId": "822829aa-bc7d-4d2f-88cb-1f7111f460ab",
    "scrolled": true
   },
   "outputs": [
    {
     "data": {
      "text/html": [
       "<div>\n",
       "<style scoped>\n",
       "    .dataframe tbody tr th:only-of-type {\n",
       "        vertical-align: middle;\n",
       "    }\n",
       "\n",
       "    .dataframe tbody tr th {\n",
       "        vertical-align: top;\n",
       "    }\n",
       "\n",
       "    .dataframe thead th {\n",
       "        text-align: right;\n",
       "    }\n",
       "</style>\n",
       "<table border=\"1\" class=\"dataframe\">\n",
       "  <thead>\n",
       "    <tr style=\"text-align: right;\">\n",
       "      <th></th>\n",
       "      <th>age</th>\n",
       "      <th>physical_score</th>\n",
       "      <th>test_result</th>\n",
       "    </tr>\n",
       "  </thead>\n",
       "  <tbody>\n",
       "    <tr>\n",
       "      <th>0</th>\n",
       "      <td>33.0</td>\n",
       "      <td>40.7</td>\n",
       "      <td>1</td>\n",
       "    </tr>\n",
       "    <tr>\n",
       "      <th>1</th>\n",
       "      <td>50.0</td>\n",
       "      <td>37.2</td>\n",
       "      <td>1</td>\n",
       "    </tr>\n",
       "    <tr>\n",
       "      <th>2</th>\n",
       "      <td>52.0</td>\n",
       "      <td>24.7</td>\n",
       "      <td>0</td>\n",
       "    </tr>\n",
       "    <tr>\n",
       "      <th>3</th>\n",
       "      <td>56.0</td>\n",
       "      <td>31.0</td>\n",
       "      <td>0</td>\n",
       "    </tr>\n",
       "    <tr>\n",
       "      <th>4</th>\n",
       "      <td>35.0</td>\n",
       "      <td>42.9</td>\n",
       "      <td>1</td>\n",
       "    </tr>\n",
       "  </tbody>\n",
       "</table>\n",
       "</div>"
      ],
      "text/plain": [
       "    age  physical_score  test_result\n",
       "0  33.0            40.7            1\n",
       "1  50.0            37.2            1\n",
       "2  52.0            24.7            0\n",
       "3  56.0            31.0            0\n",
       "4  35.0            42.9            1"
      ]
     },
     "execution_count": 4,
     "metadata": {},
     "output_type": "execute_result"
    }
   ],
   "source": [
    "df.head()"
   ]
  },
  {
   "cell_type": "markdown",
   "metadata": {
    "id": "lPjPtubEbr7W"
   },
   "source": [
    "## Exploratory Data Analysis and Visualization"
   ]
  },
  {
   "cell_type": "code",
   "execution_count": 5,
   "metadata": {
    "id": "OcRBd0qybr7X",
    "outputId": "4b4f0a84-0f68-4c04-d53d-bf854783bcc3",
    "scrolled": true
   },
   "outputs": [
    {
     "name": "stdout",
     "output_type": "stream",
     "text": [
      "<class 'pandas.core.frame.DataFrame'>\n",
      "RangeIndex: 5000 entries, 0 to 4999\n",
      "Data columns (total 3 columns):\n",
      " #   Column          Non-Null Count  Dtype  \n",
      "---  ------          --------------  -----  \n",
      " 0   age             5000 non-null   float64\n",
      " 1   physical_score  5000 non-null   float64\n",
      " 2   test_result     5000 non-null   int64  \n",
      "dtypes: float64(2), int64(1)\n",
      "memory usage: 117.3 KB\n"
     ]
    }
   ],
   "source": [
    "df.info()"
   ]
  },
  {
   "cell_type": "code",
   "execution_count": 10,
   "metadata": {},
   "outputs": [
    {
     "data": {
      "text/plain": [
       "age               0\n",
       "physical_score    0\n",
       "test_result       0\n",
       "dtype: int64"
      ]
     },
     "execution_count": 10,
     "metadata": {},
     "output_type": "execute_result"
    }
   ],
   "source": [
    "# check if there is any missing value\n",
    "df.isnull().sum()"
   ]
  },
  {
   "cell_type": "code",
   "execution_count": 11,
   "metadata": {
    "id": "wjKwfPElbr7Y",
    "outputId": "5189ea68-18f7-4f77-f35c-207d03e7326a"
   },
   "outputs": [
    {
     "data": {
      "text/html": [
       "<div>\n",
       "<style scoped>\n",
       "    .dataframe tbody tr th:only-of-type {\n",
       "        vertical-align: middle;\n",
       "    }\n",
       "\n",
       "    .dataframe tbody tr th {\n",
       "        vertical-align: top;\n",
       "    }\n",
       "\n",
       "    .dataframe thead th {\n",
       "        text-align: right;\n",
       "    }\n",
       "</style>\n",
       "<table border=\"1\" class=\"dataframe\">\n",
       "  <thead>\n",
       "    <tr style=\"text-align: right;\">\n",
       "      <th></th>\n",
       "      <th>count</th>\n",
       "      <th>mean</th>\n",
       "      <th>std</th>\n",
       "      <th>min</th>\n",
       "      <th>25%</th>\n",
       "      <th>50%</th>\n",
       "      <th>75%</th>\n",
       "      <th>max</th>\n",
       "    </tr>\n",
       "  </thead>\n",
       "  <tbody>\n",
       "    <tr>\n",
       "      <th>age</th>\n",
       "      <td>5000.0</td>\n",
       "      <td>51.60900</td>\n",
       "      <td>11.287001</td>\n",
       "      <td>18.0</td>\n",
       "      <td>43.0</td>\n",
       "      <td>51.0</td>\n",
       "      <td>60.0</td>\n",
       "      <td>90.0</td>\n",
       "    </tr>\n",
       "    <tr>\n",
       "      <th>physical_score</th>\n",
       "      <td>5000.0</td>\n",
       "      <td>32.76026</td>\n",
       "      <td>8.169802</td>\n",
       "      <td>-0.0</td>\n",
       "      <td>26.7</td>\n",
       "      <td>35.3</td>\n",
       "      <td>38.9</td>\n",
       "      <td>50.0</td>\n",
       "    </tr>\n",
       "    <tr>\n",
       "      <th>test_result</th>\n",
       "      <td>5000.0</td>\n",
       "      <td>0.60000</td>\n",
       "      <td>0.489947</td>\n",
       "      <td>0.0</td>\n",
       "      <td>0.0</td>\n",
       "      <td>1.0</td>\n",
       "      <td>1.0</td>\n",
       "      <td>1.0</td>\n",
       "    </tr>\n",
       "  </tbody>\n",
       "</table>\n",
       "</div>"
      ],
      "text/plain": [
       "                 count      mean        std   min   25%   50%   75%   max\n",
       "age             5000.0  51.60900  11.287001  18.0  43.0  51.0  60.0  90.0\n",
       "physical_score  5000.0  32.76026   8.169802  -0.0  26.7  35.3  38.9  50.0\n",
       "test_result     5000.0   0.60000   0.489947   0.0   0.0   1.0   1.0   1.0"
      ]
     },
     "execution_count": 11,
     "metadata": {},
     "output_type": "execute_result"
    }
   ],
   "source": [
    "df.describe().T"
   ]
  },
  {
   "cell_type": "code",
   "execution_count": 12,
   "metadata": {
    "id": "t1hlReX-br7Z",
    "outputId": "41eadee9-8a6b-4665-d456-0ca4e12bb2a2"
   },
   "outputs": [
    {
     "data": {
      "text/plain": [
       "test_result\n",
       "1    3000\n",
       "0    2000\n",
       "Name: count, dtype: int64"
      ]
     },
     "execution_count": 12,
     "metadata": {},
     "output_type": "execute_result"
    }
   ],
   "source": [
    "df['test_result'].value_counts()"
   ]
  },
  {
   "cell_type": "code",
   "execution_count": 13,
   "metadata": {
    "id": "2pPp-cHrbr7a",
    "outputId": "9fa118db-8df8-435a-f23e-e4cd078a686f"
   },
   "outputs": [
    {
     "data": {
      "image/png": "[encoded data removed]",
      "text/plain": [
       "<Figure size 720x432 with 1 Axes>"
      ]
     },
     "metadata": {
      "needs_background": "light"
     },
     "output_type": "display_data"
    }
   ],
   "source": [
    "ax = sns.countplot(data=df, x=df['test_result'])\n",
    "ax.bar_label(ax.containers[0]);"
   ]
  },
  {
   "cell_type": "code",
   "execution_count": 14,
   "metadata": {
    "id": "slXBDlJebr7b",
    "outputId": "2e5b8908-bb2d-4aca-da69-1886b84f9871"
   },
   "outputs": [
    {
     "data": {
      "image/png": "[encoded data removed]",
      "text/plain": [
       "<Figure size 720x432 with 1 Axes>"
      ]
     },
     "metadata": {
      "needs_background": "light"
     },
     "output_type": "display_data"
    }
   ],
   "source": [
    "sns.boxplot(x='test_result',y='age',data=df);\n",
    "\n",
    "# When we look at the box plots by age, we can say that the average age of those who passed the hearing test is around 45, \n",
    "# while the average age of those who did not pass is around 60. In short, we can say that the probability of passing the test increases for younger people."
   ]
  },
  {
   "cell_type": "code",
   "execution_count": 15,
   "metadata": {
    "id": "zVJw-5uWbr7b",
    "outputId": "5712499c-4b20-4761-c062-99603f77d64c"
   },
   "outputs": [
    {
     "data": {
      "text/plain": [
       "<Axes: xlabel='test_result', ylabel='physical_score'>"
      ]
     },
     "execution_count": 15,
     "metadata": {},
     "output_type": "execute_result"
    },
    {
     "data": {
      "image/png": "[encoded data removed]",
      "text/plain": [
       "<Figure size 720x432 with 1 Axes>"
      ]
     },
     "metadata": {
      "needs_background": "light"
     },
     "output_type": "display_data"
    }
   ],
   "source": [
    "sns.boxplot(x='test_result',y='physical_score',data=df)\n",
    "\n",
    "# When we look at the box plots by physical scores, we can say that the average physical score of those who passed the \n",
    "# hearing test is around 37, while the average physical score of those who did not pass is around 25. In short, \n",
    "# we can say that as the physical score increases, the probability of passing the test also increases."
   ]
  },
  {
   "cell_type": "code",
   "execution_count": 16,
   "metadata": {
    "id": "MACKEBy9br7c",
    "outputId": "a9bfc8ab-9645-4731-95e7-14daf9d7d5c3"
   },
   "outputs": [
    {
     "data": {
      "image/png": "[encoded data removed]",
      "text/plain": [
       "<Figure size 720x432 with 1 Axes>"
      ]
     },
     "metadata": {
      "needs_background": "light"
     },
     "output_type": "display_data"
    }
   ],
   "source": [
    "sns.scatterplot(x='age', y='physical_score', data=df, hue='test_result', alpha=0.3);"
   ]
  },
  {
   "cell_type": "code",
   "execution_count": 17,
   "metadata": {
    "id": "21F4aMP5br7d",
    "outputId": "3ab3cce0-7654-47c9-d543-afb40f547dbf"
   },
   "outputs": [
    {
     "data": {
      "image/png": "[encoded data removed]",
      "text/plain": [
       "<Figure size 420.5x360 with 6 Axes>"
      ]
     },
     "metadata": {
      "needs_background": "light"
     },
     "output_type": "display_data"
    }
   ],
   "source": [
    "sns.pairplot(df,hue='test_result');"
   ]
  },
  {
   "cell_type": "code",
   "execution_count": 18,
   "metadata": {
    "id": "CPtn4a4mbr7d",
    "outputId": "cdc564f0-9fd2-4b98-d5af-53be0e4507c4"
   },
   "outputs": [
    {
     "data": {
      "image/png": "[encoded data removed]",
      "text/plain": [
       "<Figure size 720x432 with 2 Axes>"
      ]
     },
     "metadata": {
      "needs_background": "light"
     },
     "output_type": "display_data"
    }
   ],
   "source": [
    "sns.heatmap(df.corr(), annot=True);"
   ]
  },
  {
   "cell_type": "markdown",
   "metadata": {
    "id": "B3cXIu5dbr7d"
   },
   "source": [
    "## Train | Test Split"
   ]
  },
  {
   "cell_type": "code",
   "execution_count": 19,
   "metadata": {
    "id": "TNrpPYZUbr7e"
   },
   "outputs": [],
   "source": [
    "X = df.drop('test_result',axis=1)\n",
    "y = df['test_result']"
   ]
  },
  {
   "cell_type": "code",
   "execution_count": 20,
   "metadata": {
    "id": "2PiMWVnVbr7e"
   },
   "outputs": [],
   "source": [
    "from sklearn.model_selection import train_test_split\n",
    "from sklearn.preprocessing import StandardScaler"
   ]
  },
  {
   "cell_type": "code",
   "execution_count": 21,
   "metadata": {
    "id": "GMxjIv0pbr7e"
   },
   "outputs": [],
   "source": [
    "X_train, X_test, y_train, y_test = train_test_split(X, y, test_size=0.1, random_state=101)  # 42 ?"
   ]
  },
  {
   "cell_type": "code",
   "execution_count": 22,
   "metadata": {
    "id": "hmWjv9TLbr7f"
   },
   "outputs": [],
   "source": [
    "#scaler = StandardScaler()\n",
    "\n",
    "#X_train_scaled = scaler.fit_transform(X_train)\n",
    "#X_test_scaled = scaler.transform(X_test)"
   ]
  },
  {
   "cell_type": "markdown",
   "metadata": {
    "id": "oLKj9LhIbr7f"
   },
   "source": [
    "## Modelling"
   ]
  },
  {
   "cell_type": "code",
   "execution_count": 23,
   "metadata": {
    "id": "PWu6GGaebr7f"
   },
   "outputs": [],
   "source": [
    "from sklearn.linear_model import LogisticRegression"
   ]
  },
  {
   "cell_type": "markdown",
   "metadata": {
    "id": "UA_OhQbqbr7f"
   },
   "source": [
    "https://scikit-learn.org/stable/modules/generated/sklearn.linear_model.LogisticRegression.html"
   ]
  },
  {
   "cell_type": "code",
   "execution_count": 24,
   "metadata": {
    "id": "IQP9xHnZbr7g"
   },
   "outputs": [],
   "source": [
    "# help(LogisticRegression)"
   ]
  },
  {
   "cell_type": "code",
   "execution_count": 25,
   "metadata": {
    "id": "RnvqXjnYbr7g"
   },
   "outputs": [],
   "source": [
    "log_model = LogisticRegression()"
   ]
  },
  {
   "cell_type": "code",
   "execution_count": 26,
   "metadata": {
    "id": "q79U4e3Obr7g",
    "outputId": "1ee13248-8d02-4f5d-e41c-387f1b590858"
   },
   "outputs": [
    {
     "data": {
      "text/html": [
       "<style>#sk-container-id-1 {color: black;background-color: white;}#sk-container-id-1 pre{padding: 0;}#sk-container-id-1 div.sk-toggleable {background-color: white;}#sk-container-id-1 label.sk-toggleable__label {cursor: pointer;display: block;width: 100%;margin-bottom: 0;padding: 0.3em;box-sizing: border-box;text-align: center;}#sk-container-id-1 label.sk-toggleable__label-arrow:before {content: \"▸\";float: left;margin-right: 0.25em;color: #696969;}#sk-container-id-1 label.sk-toggleable__label-arrow:hover:before {color: black;}#sk-container-id-1 div.sk-estimator:hover label.sk-toggleable__label-arrow:before {color: black;}#sk-container-id-1 div.sk-toggleable__content {max-height: 0;max-width: 0;overflow: hidden;text-align: left;background-color: #f0f8ff;}#sk-container-id-1 div.sk-toggleable__content pre {margin: 0.2em;color: black;border-radius: 0.25em;background-color: #f0f8ff;}#sk-container-id-1 input.sk-toggleable__control:checked~div.sk-toggleable__content {max-height: 200px;max-width: 100%;overflow: auto;}#sk-container-id-1 input.sk-toggleable__control:checked~label.sk-toggleable__label-arrow:before {content: \"▾\";}#sk-container-id-1 div.sk-estimator input.sk-toggleable__control:checked~label.sk-toggleable__label {background-color: #d4ebff;}#sk-container-id-1 div.sk-label input.sk-toggleable__control:checked~label.sk-toggleable__label {background-color: #d4ebff;}#sk-container-id-1 input.sk-hidden--visually {border: 0;clip: rect(1px 1px 1px 1px);clip: rect(1px, 1px, 1px, 1px);height: 1px;margin: -1px;overflow: hidden;padding: 0;position: absolute;width: 1px;}#sk-container-id-1 div.sk-estimator {font-family: monospace;background-color: #f0f8ff;border: 1px dotted black;border-radius: 0.25em;box-sizing: border-box;margin-bottom: 0.5em;}#sk-container-id-1 div.sk-estimator:hover {background-color: #d4ebff;}#sk-container-id-1 div.sk-parallel-item::after {content: \"\";width: 100%;border-bottom: 1px solid gray;flex-grow: 1;}#sk-container-id-1 div.sk-label:hover label.sk-toggleable__label {background-color: #d4ebff;}#sk-container-id-1 div.sk-serial::before {content: \"\";position: absolute;border-left: 1px solid gray;box-sizing: border-box;top: 0;bottom: 0;left: 50%;z-index: 0;}#sk-container-id-1 div.sk-serial {display: flex;flex-direction: column;align-items: center;background-color: white;padding-right: 0.2em;padding-left: 0.2em;position: relative;}#sk-container-id-1 div.sk-item {position: relative;z-index: 1;}#sk-container-id-1 div.sk-parallel {display: flex;align-items: stretch;justify-content: center;background-color: white;position: relative;}#sk-container-id-1 div.sk-item::before, #sk-container-id-1 div.sk-parallel-item::before {content: \"\";position: absolute;border-left: 1px solid gray;box-sizing: border-box;top: 0;bottom: 0;left: 50%;z-index: -1;}#sk-container-id-1 div.sk-parallel-item {display: flex;flex-direction: column;z-index: 1;position: relative;background-color: white;}#sk-container-id-1 div.sk-parallel-item:first-child::after {align-self: flex-end;width: 50%;}#sk-container-id-1 div.sk-parallel-item:last-child::after {align-self: flex-start;width: 50%;}#sk-container-id-1 div.sk-parallel-item:only-child::after {width: 0;}#sk-container-id-1 div.sk-dashed-wrapped {border: 1px dashed gray;margin: 0 0.4em 0.5em 0.4em;box-sizing: border-box;padding-bottom: 0.4em;background-color: white;}#sk-container-id-1 div.sk-label label {font-family: monospace;font-weight: bold;display: inline-block;line-height: 1.2em;}#sk-container-id-1 div.sk-label-container {text-align: center;}#sk-container-id-1 div.sk-container {/* jupyter's `normalize.less` sets `[hidden] { display: none; }` but bootstrap.min.css set `[hidden] { display: none !important; }` so we also need the `!important` here to be able to override the default hidden behavior on the sphinx rendered scikit-learn.org. See: https://github.com/scikit-learn/scikit-learn/issues/21755 */display: inline-block !important;position: relative;}#sk-container-id-1 div.sk-text-repr-fallback {display: none;}</style><div id=\"sk-container-id-1\" class=\"sk-top-container\"><div class=\"sk-text-repr-fallback\"><pre>LogisticRegression()</pre><b>In a Jupyter environment, please rerun this cell to show the HTML representation or trust the notebook. <br />On GitHub, the HTML representation is unable to render, please try loading this page with nbviewer.org.</b></div><div class=\"sk-container\" hidden><div class=\"sk-item\"><div class=\"sk-estimator sk-toggleable\"><input class=\"sk-toggleable__control sk-hidden--visually\" id=\"sk-estimator-id-1\" type=\"checkbox\" checked><label for=\"sk-estimator-id-1\" class=\"sk-toggleable__label sk-toggleable__label-arrow\">LogisticRegression</label><div class=\"sk-toggleable__content\"><pre>LogisticRegression()</pre></div></div></div></div></div>"
      ],
      "text/plain": [
       "LogisticRegression()"
      ]
     },
     "execution_count": 26,
     "metadata": {},
     "output_type": "execute_result"
    }
   ],
   "source": [
    "log_model.fit(X_train, y_train)"
   ]
  },
  {
   "cell_type": "code",
   "execution_count": 27,
   "metadata": {
    "id": "ioqCWDZqbr7h",
    "outputId": "175990c8-15b2-4f36-9b93-8d2348c1c754"
   },
   "outputs": [
    {
     "data": {
      "text/plain": [
       "Index(['age', 'physical_score', 'test_result'], dtype='object')"
      ]
     },
     "execution_count": 27,
     "metadata": {},
     "output_type": "execute_result"
    }
   ],
   "source": [
    "df.columns"
   ]
  },
  {
   "cell_type": "markdown",
   "metadata": {
    "id": "eplMQTurbr7h"
   },
   "source": [
    "## Interpretation of coefficients"
   ]
  },
  {
   "cell_type": "code",
   "execution_count": 28,
   "metadata": {
    "id": "dIeKkLLmbr7h",
    "outputId": "1eeeb7bd-9142-44a2-bf7a-eeaa7a8edb0b"
   },
   "outputs": [
    {
     "data": {
      "text/plain": [
       "array([[-0.08365972,  0.43251827]])"
      ]
     },
     "execution_count": 28,
     "metadata": {},
     "output_type": "execute_result"
    }
   ],
   "source": [
    "log_model.coef_\n",
    "\n",
    "# we will see coefficient interpretation in the following steps"
   ]
  },
  {
   "cell_type": "code",
   "execution_count": 29,
   "metadata": {
    "id": "dUYtpdQDbr7h",
    "outputId": "0a9c4971-2a00-4c96-a15d-5b8a5a4cd3c9"
   },
   "outputs": [
    {
     "data": {
      "text/plain": [
       "array([-9.35047287])"
      ]
     },
     "execution_count": 29,
     "metadata": {},
     "output_type": "execute_result"
    }
   ],
   "source": [
    "log_model.intercept_"
   ]
  },
  {
   "cell_type": "code",
   "execution_count": 30,
   "metadata": {
    "id": "7TrAfRw5br7i",
    "outputId": "be27c636-b524-4673-91af-1bc53974c44a"
   },
   "outputs": [
    {
     "name": "stdout",
     "output_type": "stream",
     "text": [
      "b2 (age coef)       : -0.0836597213408333\n",
      "b1 (physical_score) : 0.4325182652459208\n"
     ]
    }
   ],
   "source": [
    "b2, b1 = log_model.coef_[0]\n",
    "print(\"b2 (age coef)       :\", b2)\n",
    "print(\"b1 (physical_score) :\", b1)"
   ]
  },
  {
   "cell_type": "code",
   "execution_count": 31,
   "metadata": {
    "id": "wctSZD9Kbr7i",
    "outputId": "e9b25868-70d9-400a-c2df-fc6590f1325b",
    "scrolled": true
   },
   "outputs": [
    {
     "name": "stdout",
     "output_type": "stream",
     "text": [
      "b0 (intercept) : -9.350472872727675\n"
     ]
    }
   ],
   "source": [
    "b0 = log_model.intercept_[0]\n",
    "print(\"b0 (intercept) :\", b0)"
   ]
  },
  {
   "cell_type": "markdown",
   "metadata": {
    "id": "k0EbYv6abr7i"
   },
   "source": [
    "## Linear to Sigmoid Conversion"
   ]
  },
  {
   "cell_type": "markdown",
   "metadata": {
    "id": "vGtdYFegbr7j"
   },
   "source": [
    "**The probability** that an event will occur is the possibility you expect to see that event in many trials. \n",
    "\n",
    "**Probabilities** always range between 0 and 1. \n",
    "\n",
    "**The odds** are defined as the probability that the event will occur divided by the probability that the event will not occur."
   ]
  },
  {
   "cell_type": "markdown",
   "metadata": {
    "id": "vcS1X94Gbr7j"
   },
   "source": [
    "https://towardsdatascience.com/a-simple-interpretation-of-logistic-regression-coefficients-e3a40a62e8cf"
   ]
  },
  {
   "cell_type": "code",
   "execution_count": 26,
   "metadata": {
    "id": "Ia6WrI-0br7j"
   },
   "outputs": [],
   "source": [
    "def sigmoid(age, physical_score):\n",
    "\n",
    "    log_odds = b2*age + b1*physical_score + b0 # b2*X2 + b1*X1 + b0\n",
    "    probability = 1 / (1+np.exp(-log_odds))\n",
    "    return probability\n",
    "\n",
    "# Logistic regression converts the classic linear regression equation (b2X2 + b1X1 + b0) into \n",
    "# a probability using the function above."
   ]
  },
  {
   "cell_type": "raw",
   "metadata": {
    "id": "28gVDdJPbr7j"
   },
   "source": [
    "probability      : the probability that an event will occur\n",
    "    \n",
    "1 - probability  : the probability that an event will not occur\n",
    "\n",
    "odds = probability / (1 - probability)\n",
    "\n",
    "Interpretation of coefficients in logistic regression is done through **odds. \n",
    "\n",
    "probabilty : We call the expected probability of an event occurring in many attempts. It always occurs between 0-1.\n",
    "\n",
    "odds : The ratio of the probability of an event (success) occurring to the probability of not occurring (failure) (1-probability) is called odds. It can take values greater than 1.\n",
    "\n",
    "Example: Lille and Real Madrid have played against each other 10 times in their history. Lille won once and lost 9 times to their opponent.\n",
    "\n",
    "1. The probability of Lille winning (success) against RM is 1/10, while the probability of losing (failure) is 9/10.\n",
    "\n",
    "2. odds : 0.1 / (1-0.1) = 0.111 (The probability of Lille winning against RM is 0.111 greater than the probability of losing. Therefore, the probability of winning (success) is very low)\n",
    "\n",
    "Let's look at the same example from the perspective of RM.\n",
    "\n",
    "1. The probability of RM winning (success) against Lille is 9/10, while the probability of losing (failure) is 1/10.\n",
    "\n",
    "2. odds : 0.9 / (1-0.9) = 9 (The probability of RM winning against Lille is 9 greater than the probability of losing. Therefore, the probability of winning is very high)\n",
    "\n",
    "If the odds value is greater than 1, it indicates that the probability of success is higher."
   ]
  },
  {
   "cell_type": "markdown",
   "metadata": {
    "id": "a8Eb7NXVbr7k"
   },
   "source": [
    "### The probability and odds of passing the hearing test for age = 33, physical_score= 40"
   ]
  },
  {
   "cell_type": "code",
   "execution_count": 27,
   "metadata": {
    "id": "-ibmipSCbr7k",
    "outputId": "2794014f-8e39-445f-b7f2-cc4ac093961c"
   },
   "outputs": [
    {
     "data": {
      "text/plain": [
       "0.9944560404714694"
      ]
     },
     "execution_count": 27,
     "metadata": {},
     "output_type": "execute_result"
    }
   ],
   "source": [
    "probability_age_33 = sigmoid(33, 40)\n",
    "probability_age_33\n",
    "\n",
    "# A person who is 33 years old and has a physical score of 40 has a probability of passing the hearing test of 99.45%."
   ]
  },
  {
   "cell_type": "markdown",
   "metadata": {
    "id": "g7lzgML6br7p"
   },
   "source": [
    "## Modeling with Scaling Data"
   ]
  },
  {
   "cell_type": "raw",
   "metadata": {
    "id": "3l4g_Z3Ubr7p"
   },
   "source": [
    "What happens can be described as follows:\n",
    "\n",
    "Step 1: The data are split into TRAINING data and TEST data according to ratio of train_test_split\n",
    "\n",
    "Step 2: the scaler is fitted on the numeric features of TRAINING data\n",
    "    \n",
    "Step 3: the scaler transforms the numeric features of TRAINING data\n",
    "\n",
    "Step 4: the models are fitted/trained using the transformed TRAINING data\n",
    "\n",
    "Step 5: the scaler transforms the numeric features of TEST data according to TRAINING data\n",
    "\n",
    "Step 6: the trained models predict using the transformed TEST data\n",
    "\n",
    "\n",
    "\n",
    "pipe_model.fit(X_train, y_train) --> scaler.fit(X_train)     \n",
    "                                 --> scaler.transform(X_train)\n",
    "                                 --> lojistic.fit(X_train_scaled, y_train)\n",
    "\n",
    "pipe_model.predict(X_test)       --> scaler.transform(X_test) \n",
    "                                 --> lojistic.predict(X_test_scaled)\n",
    "                                 \n",
    "Transform algorithms that perform the fit and transform operations are first added to the pipeline, followed by machine learning algorithms that perform the fit and predict operations."
   ]
  },
  {
   "cell_type": "code",
   "execution_count": 46,
   "metadata": {
    "id": "vcOMipgUbr7p",
    "outputId": "d2794544-7dcc-406e-a8ca-5f7e33d67f7d"
   },
   "outputs": [
    {
     "data": {
      "text/html": [
       "<style>#sk-container-id-3 {color: black;background-color: white;}#sk-container-id-3 pre{padding: 0;}#sk-container-id-3 div.sk-toggleable {background-color: white;}#sk-container-id-3 label.sk-toggleable__label {cursor: pointer;display: block;width: 100%;margin-bottom: 0;padding: 0.3em;box-sizing: border-box;text-align: center;}#sk-container-id-3 label.sk-toggleable__label-arrow:before {content: \"▸\";float: left;margin-right: 0.25em;color: #696969;}#sk-container-id-3 label.sk-toggleable__label-arrow:hover:before {color: black;}#sk-container-id-3 div.sk-estimator:hover label.sk-toggleable__label-arrow:before {color: black;}#sk-container-id-3 div.sk-toggleable__content {max-height: 0;max-width: 0;overflow: hidden;text-align: left;background-color: #f0f8ff;}#sk-container-id-3 div.sk-toggleable__content pre {margin: 0.2em;color: black;border-radius: 0.25em;background-color: #f0f8ff;}#sk-container-id-3 input.sk-toggleable__control:checked~div.sk-toggleable__content {max-height: 200px;max-width: 100%;overflow: auto;}#sk-container-id-3 input.sk-toggleable__control:checked~label.sk-toggleable__label-arrow:before {content: \"▾\";}#sk-container-id-3 div.sk-estimator input.sk-toggleable__control:checked~label.sk-toggleable__label {background-color: #d4ebff;}#sk-container-id-3 div.sk-label input.sk-toggleable__control:checked~label.sk-toggleable__label {background-color: #d4ebff;}#sk-container-id-3 input.sk-hidden--visually {border: 0;clip: rect(1px 1px 1px 1px);clip: rect(1px, 1px, 1px, 1px);height: 1px;margin: -1px;overflow: hidden;padding: 0;position: absolute;width: 1px;}#sk-container-id-3 div.sk-estimator {font-family: monospace;background-color: #f0f8ff;border: 1px dotted black;border-radius: 0.25em;box-sizing: border-box;margin-bottom: 0.5em;}#sk-container-id-3 div.sk-estimator:hover {background-color: #d4ebff;}#sk-container-id-3 div.sk-parallel-item::after {content: \"\";width: 100%;border-bottom: 1px solid gray;flex-grow: 1;}#sk-container-id-3 div.sk-label:hover label.sk-toggleable__label {background-color: #d4ebff;}#sk-container-id-3 div.sk-serial::before {content: \"\";position: absolute;border-left: 1px solid gray;box-sizing: border-box;top: 0;bottom: 0;left: 50%;z-index: 0;}#sk-container-id-3 div.sk-serial {display: flex;flex-direction: column;align-items: center;background-color: white;padding-right: 0.2em;padding-left: 0.2em;position: relative;}#sk-container-id-3 div.sk-item {position: relative;z-index: 1;}#sk-container-id-3 div.sk-parallel {display: flex;align-items: stretch;justify-content: center;background-color: white;position: relative;}#sk-container-id-3 div.sk-item::before, #sk-container-id-3 div.sk-parallel-item::before {content: \"\";position: absolute;border-left: 1px solid gray;box-sizing: border-box;top: 0;bottom: 0;left: 50%;z-index: -1;}#sk-container-id-3 div.sk-parallel-item {display: flex;flex-direction: column;z-index: 1;position: relative;background-color: white;}#sk-container-id-3 div.sk-parallel-item:first-child::after {align-self: flex-end;width: 50%;}#sk-container-id-3 div.sk-parallel-item:last-child::after {align-self: flex-start;width: 50%;}#sk-container-id-3 div.sk-parallel-item:only-child::after {width: 0;}#sk-container-id-3 div.sk-dashed-wrapped {border: 1px dashed gray;margin: 0 0.4em 0.5em 0.4em;box-sizing: border-box;padding-bottom: 0.4em;background-color: white;}#sk-container-id-3 div.sk-label label {font-family: monospace;font-weight: bold;display: inline-block;line-height: 1.2em;}#sk-container-id-3 div.sk-label-container {text-align: center;}#sk-container-id-3 div.sk-container {/* jupyter's `normalize.less` sets `[hidden] { display: none; }` but bootstrap.min.css set `[hidden] { display: none !important; }` so we also need the `!important` here to be able to override the default hidden behavior on the sphinx rendered scikit-learn.org. See: https://github.com/scikit-learn/scikit-learn/issues/21755 */display: inline-block !important;position: relative;}#sk-container-id-3 div.sk-text-repr-fallback {display: none;}</style><div id=\"sk-container-id-3\" class=\"sk-top-container\"><div class=\"sk-text-repr-fallback\"><pre>Pipeline(steps=[(&#x27;scaler&#x27;, StandardScaler()),\n",
       "                (&#x27;logistic&#x27;, LogisticRegression())])</pre><b>In a Jupyter environment, please rerun this cell to show the HTML representation or trust the notebook. <br />On GitHub, the HTML representation is unable to render, please try loading this page with nbviewer.org.</b></div><div class=\"sk-container\" hidden><div class=\"sk-item sk-dashed-wrapped\"><div class=\"sk-label-container\"><div class=\"sk-label sk-toggleable\"><input class=\"sk-toggleable__control sk-hidden--visually\" id=\"sk-estimator-id-5\" type=\"checkbox\" ><label for=\"sk-estimator-id-5\" class=\"sk-toggleable__label sk-toggleable__label-arrow\">Pipeline</label><div class=\"sk-toggleable__content\"><pre>Pipeline(steps=[(&#x27;scaler&#x27;, StandardScaler()),\n",
       "                (&#x27;logistic&#x27;, LogisticRegression())])</pre></div></div></div><div class=\"sk-serial\"><div class=\"sk-item\"><div class=\"sk-estimator sk-toggleable\"><input class=\"sk-toggleable__control sk-hidden--visually\" id=\"sk-estimator-id-6\" type=\"checkbox\" ><label for=\"sk-estimator-id-6\" class=\"sk-toggleable__label sk-toggleable__label-arrow\">StandardScaler</label><div class=\"sk-toggleable__content\"><pre>StandardScaler()</pre></div></div></div><div class=\"sk-item\"><div class=\"sk-estimator sk-toggleable\"><input class=\"sk-toggleable__control sk-hidden--visually\" id=\"sk-estimator-id-7\" type=\"checkbox\" ><label for=\"sk-estimator-id-7\" class=\"sk-toggleable__label sk-toggleable__label-arrow\">LogisticRegression</label><div class=\"sk-toggleable__content\"><pre>LogisticRegression()</pre></div></div></div></div></div></div></div>"
      ],
      "text/plain": [
       "Pipeline(steps=[('scaler', StandardScaler()),\n",
       "                ('logistic', LogisticRegression())])"
      ]
     },
     "execution_count": 46,
     "metadata": {},
     "output_type": "execute_result"
    }
   ],
   "source": [
    "from sklearn.pipeline import Pipeline\n",
    "\n",
    "operations = [(\"scaler\", StandardScaler()), (\"logistic\", LogisticRegression())]\n",
    "\n",
    "pipe_model = Pipeline(steps=operations)\n",
    "\n",
    "pipe_model.fit(X_train, y_train)"
   ]
  },
  {
   "cell_type": "code",
   "execution_count": 47,
   "metadata": {
    "id": "rzqJqEg0br7p",
    "outputId": "3ae3fe37-5d4f-459e-e118-17dfe67fea61"
   },
   "outputs": [
    {
     "data": {
      "text/plain": [
       "array([[-0.94953524,  3.45991194]])"
      ]
     },
     "execution_count": 47,
     "metadata": {},
     "output_type": "execute_result"
    }
   ],
   "source": [
    "pipe_model[\"logistic\"].coef_\n",
    "\n",
    "# We could have interpreted based on these coefficients, but in that case, our interpretations would have been \n",
    "# about the 1 stanz-score increase/decrease in age or physical score, and it would naturally have been \n",
    "# more difficult to understand."
   ]
  },
  {
   "cell_type": "code",
   "execution_count": 48,
   "metadata": {
    "id": "oSx10jLRbr7p",
    "outputId": "0ac55c9b-6701-4c5e-f6fd-88301391d376"
   },
   "outputs": [
    {
     "data": {
      "text/plain": [
       "array([0.48867341])"
      ]
     },
     "execution_count": 48,
     "metadata": {},
     "output_type": "execute_result"
    }
   ],
   "source": [
    "pipe_model[\"logistic\"].intercept_"
   ]
  },
  {
   "cell_type": "code",
   "execution_count": 49,
   "metadata": {
    "id": "Y9AE6QGMbr7q"
   },
   "outputs": [],
   "source": [
    "#scaler = StandardScaler()\n",
    "\n",
    "#X_train_scaled = scaler.fit_transform(X_train)\n",
    "#X_test_scaled = scaler.transform(X_test)"
   ]
  },
  {
   "cell_type": "code",
   "execution_count": 50,
   "metadata": {
    "id": "LR7FEZZvbr7q"
   },
   "outputs": [],
   "source": [
    "#log_model = LogisticRegression()\n",
    "#log_model.fit(X_train_scaled, y_train)"
   ]
  },
  {
   "cell_type": "code",
   "execution_count": 51,
   "metadata": {
    "id": "cRYeEOHpbr7r",
    "outputId": "3a38db3f-67ea-4600-8a18-673e1f08e263"
   },
   "outputs": [
    {
     "data": {
      "text/html": [
       "<div>\n",
       "<style scoped>\n",
       "    .dataframe tbody tr th:only-of-type {\n",
       "        vertical-align: middle;\n",
       "    }\n",
       "\n",
       "    .dataframe tbody tr th {\n",
       "        vertical-align: top;\n",
       "    }\n",
       "\n",
       "    .dataframe thead th {\n",
       "        text-align: right;\n",
       "    }\n",
       "</style>\n",
       "<table border=\"1\" class=\"dataframe\">\n",
       "  <thead>\n",
       "    <tr style=\"text-align: right;\">\n",
       "      <th></th>\n",
       "      <th>age</th>\n",
       "      <th>physical_score</th>\n",
       "      <th>test_result</th>\n",
       "    </tr>\n",
       "  </thead>\n",
       "  <tbody>\n",
       "    <tr>\n",
       "      <th>0</th>\n",
       "      <td>33.0</td>\n",
       "      <td>40.7</td>\n",
       "      <td>1</td>\n",
       "    </tr>\n",
       "    <tr>\n",
       "      <th>1</th>\n",
       "      <td>50.0</td>\n",
       "      <td>37.2</td>\n",
       "      <td>1</td>\n",
       "    </tr>\n",
       "    <tr>\n",
       "      <th>2</th>\n",
       "      <td>52.0</td>\n",
       "      <td>24.7</td>\n",
       "      <td>0</td>\n",
       "    </tr>\n",
       "    <tr>\n",
       "      <th>3</th>\n",
       "      <td>56.0</td>\n",
       "      <td>31.0</td>\n",
       "      <td>0</td>\n",
       "    </tr>\n",
       "    <tr>\n",
       "      <th>4</th>\n",
       "      <td>35.0</td>\n",
       "      <td>42.9</td>\n",
       "      <td>1</td>\n",
       "    </tr>\n",
       "  </tbody>\n",
       "</table>\n",
       "</div>"
      ],
      "text/plain": [
       "    age  physical_score  test_result\n",
       "0  33.0            40.7            1\n",
       "1  50.0            37.2            1\n",
       "2  52.0            24.7            0\n",
       "3  56.0            31.0            0\n",
       "4  35.0            42.9            1"
      ]
     },
     "execution_count": 51,
     "metadata": {},
     "output_type": "execute_result"
    }
   ],
   "source": [
    "df.head()"
   ]
  },
  {
   "cell_type": "code",
   "execution_count": 52,
   "metadata": {
    "id": "0Li16NJWbr7r",
    "outputId": "e348ca89-6ecb-4241-a84f-6bfaf77e84c9"
   },
   "outputs": [
    {
     "data": {
      "text/plain": [
       "array([1, 1, 0, 1, 0, 0, 1, 1, 0, 1, 1, 1, 1, 0, 1, 1, 0, 1, 1, 0, 0, 1,\n",
       "       0, 1, 1, 0, 1, 1, 0, 1, 1, 1, 1, 1, 1, 0, 1, 1, 0, 1, 1, 1, 1, 0,\n",
       "       0, 1, 1, 1, 1, 1, 1, 0, 0, 0, 1, 0, 1, 1, 1, 1, 1, 0, 1, 0, 1, 1,\n",
       "       0, 1, 1, 1, 1, 1, 1, 0, 1, 1, 1, 0, 0, 1, 1, 1, 1, 1, 0, 0, 1, 0,\n",
       "       0, 1, 1, 1, 0, 1, 0, 0, 0, 1, 1, 1, 1, 0, 0, 0, 1, 0, 1, 0, 0, 1,\n",
       "       1, 0, 0, 1, 0, 0, 0, 1, 1, 0, 1, 0, 0, 1, 1, 0, 1, 0, 1, 0, 1, 1,\n",
       "       1, 1, 0, 1, 1, 0, 0, 0, 0, 1, 0, 1, 1, 1, 0, 0, 0, 0, 1, 1, 0, 1,\n",
       "       1, 1, 0, 1, 0, 1, 1, 0, 1, 0, 1, 0, 1, 1, 0, 0, 1, 1, 0, 1, 1, 1,\n",
       "       1, 1, 0, 1, 0, 0, 1, 1, 1, 0, 1, 1, 0, 1, 1, 0, 0, 0, 1, 1, 1, 1,\n",
       "       0, 1, 1, 0, 1, 0, 1, 1, 1, 0, 1, 0, 1, 1, 0, 1, 0, 1, 1, 0, 0, 0,\n",
       "       1, 1, 0, 1, 1, 0, 0, 0, 1, 0, 0, 1, 0, 0, 1, 1, 1, 1, 1, 0, 1, 1,\n",
       "       1, 0, 0, 1, 0, 1, 1, 1, 0, 1, 1, 0, 1, 0, 1, 1, 1, 1, 1, 0, 0, 1,\n",
       "       1, 0, 1, 1, 0, 0, 1, 0, 1, 1, 1, 1, 0, 1, 1, 1, 1, 1, 1, 1, 0, 1,\n",
       "       1, 0, 0, 0, 0, 0, 1, 1, 1, 0, 1, 0, 1, 1, 1, 1, 0, 1, 0, 0, 1, 1,\n",
       "       1, 1, 1, 1, 0, 1, 1, 1, 1, 1, 0, 0, 0, 1, 0, 1, 1, 1, 0, 1, 1, 1,\n",
       "       0, 0, 0, 1, 0, 1, 1, 1, 1, 1, 0, 0, 1, 1, 1, 1, 1, 0, 1, 1, 0, 0,\n",
       "       1, 1, 1, 0, 1, 1, 0, 1, 0, 1, 0, 1, 1, 1, 1, 0, 1, 1, 1, 0, 0, 1,\n",
       "       1, 0, 1, 1, 1, 0, 1, 1, 1, 1, 0, 1, 1, 1, 1, 0, 1, 1, 1, 1, 1, 1,\n",
       "       0, 0, 1, 1, 1, 0, 0, 0, 1, 1, 0, 1, 0, 0, 1, 1, 0, 1, 1, 1, 1, 1,\n",
       "       0, 1, 1, 1, 0, 1, 1, 0, 0, 1, 0, 0, 0, 0, 1, 1, 1, 1, 1, 1, 0, 0,\n",
       "       1, 0, 1, 1, 1, 1, 1, 0, 1, 0, 1, 0, 0, 1, 1, 1, 0, 0, 1, 1, 0, 1,\n",
       "       1, 1, 1, 1, 1, 1, 0, 1, 0, 1, 1, 1, 1, 1, 1, 0, 1, 0, 1, 1, 0, 0,\n",
       "       1, 0, 1, 1, 0, 1, 0, 0, 1, 1, 1, 1, 1, 0, 0, 0])"
      ]
     },
     "execution_count": 52,
     "metadata": {},
     "output_type": "execute_result"
    }
   ],
   "source": [
    "y_pred = pipe_model.predict(X_test)\n",
    "y_pred\n",
    "\n",
    "# predict estimates which test data belongs to which class."
   ]
  },
  {
   "cell_type": "code",
   "execution_count": 53,
   "metadata": {
    "id": "41ljcePlbr7r",
    "outputId": "043cd086-5077-426b-e7d3-226c3fe6af0a"
   },
   "outputs": [
    {
     "data": {
      "text/plain": [
       "array([[2.38434328e-02, 9.76156567e-01],\n",
       "       [2.69240761e-02, 9.73075924e-01],\n",
       "       [9.89194168e-01, 1.08058325e-02],\n",
       "       [1.90768955e-03, 9.98092310e-01],\n",
       "       [9.75012619e-01, 2.49873806e-02],\n",
       "       [9.89652504e-01, 1.03474957e-02],\n",
       "       [7.40226674e-02, 9.25977333e-01],\n",
       "       [1.70943342e-02, 9.82905666e-01],\n",
       "       [9.97066033e-01, 2.93396692e-03],\n",
       "       [3.30521615e-02, 9.66947839e-01],\n",
       "       [8.31035903e-02, 9.16896410e-01],\n",
       "       [9.92865306e-03, 9.90071347e-01],\n",
       "       [7.08965218e-03, 9.92910348e-01],\n",
       "       [9.34236379e-01, 6.57636209e-02],\n",
       "       [1.16594927e-04, 9.99883405e-01],\n",
       "       [6.58904151e-02, 9.34109585e-01],\n",
       "       [9.89126706e-01, 1.08732938e-02],\n",
       "       [2.80051357e-03, 9.97199486e-01],\n",
       "       [5.58920624e-04, 9.99441079e-01],\n",
       "       [9.96523291e-01, 3.47670946e-03],\n",
       "       [8.81757060e-01, 1.18242940e-01],\n",
       "       [1.31030473e-01, 8.68969527e-01],\n",
       "       [5.45646751e-01, 4.54353249e-01],\n",
       "       [3.44064171e-02, 9.65593583e-01],\n",
       "       [3.98386430e-01, 6.01613570e-01],\n",
       "       [5.35437626e-01, 4.64562374e-01],\n",
       "       [3.89992054e-02, 9.61000795e-01],\n",
       "       [1.92947037e-02, 9.80705296e-01],\n",
       "       [9.12948170e-01, 8.70518303e-02],\n",
       "       [2.96787891e-04, 9.99703212e-01],\n",
       "       [4.58669888e-02, 9.54133011e-01],\n",
       "       [2.17209875e-03, 9.97827901e-01],\n",
       "       [1.77753726e-02, 9.82224627e-01],\n",
       "       [6.24150798e-03, 9.93758492e-01],\n",
       "       [4.40443721e-02, 9.55955628e-01],\n",
       "       [9.69351517e-01, 3.06484833e-02],\n",
       "       [6.57522444e-02, 9.34247756e-01],\n",
       "       [2.80712850e-02, 9.71928715e-01],\n",
       "       [9.88216425e-01, 1.17835749e-02],\n",
       "       [4.58080211e-02, 9.54191979e-01],\n",
       "       [6.24708551e-03, 9.93752914e-01],\n",
       "       [3.89217026e-01, 6.10782974e-01],\n",
       "       [3.68916971e-01, 6.31083029e-01],\n",
       "       [5.77657072e-01, 4.22342928e-01],\n",
       "       [9.99689730e-01, 3.10270210e-04],\n",
       "       [6.31385917e-02, 9.36861408e-01],\n",
       "       [6.58351145e-02, 9.34164886e-01],\n",
       "       [1.63736814e-02, 9.83626319e-01],\n",
       "       [5.60582137e-02, 9.43941786e-01],\n",
       "       [1.35624393e-01, 8.64375607e-01],\n",
       "       [1.80906316e-01, 8.19093684e-01],\n",
       "       [6.18665447e-01, 3.81334553e-01],\n",
       "       [5.89720471e-01, 4.10279529e-01],\n",
       "       [8.73012100e-01, 1.26987900e-01],\n",
       "       [4.62974157e-03, 9.95370258e-01],\n",
       "       [7.98118309e-01, 2.01881691e-01],\n",
       "       [3.73094351e-02, 9.62690565e-01],\n",
       "       [4.28310202e-03, 9.95716898e-01],\n",
       "       [1.91025841e-03, 9.98089742e-01],\n",
       "       [1.94393517e-01, 8.05606483e-01],\n",
       "       [3.02976809e-01, 6.97023191e-01],\n",
       "       [8.11179160e-01, 1.88820840e-01],\n",
       "       [7.66989976e-02, 9.23301002e-01],\n",
       "       [9.97999524e-01, 2.00047597e-03],\n",
       "       [2.26812376e-03, 9.97731876e-01],\n",
       "       [5.83970402e-02, 9.41602960e-01],\n",
       "       [9.96400556e-01, 3.59944447e-03],\n",
       "       [3.44512376e-02, 9.65548762e-01],\n",
       "       [1.30877036e-01, 8.69122964e-01],\n",
       "       [4.40443721e-02, 9.55955628e-01],\n",
       "       [5.05150750e-03, 9.94948493e-01],\n",
       "       [2.92148778e-02, 9.70785122e-01],\n",
       "       [3.30809000e-02, 9.66919100e-01],\n",
       "       [9.86583741e-01, 1.34162586e-02],\n",
       "       [1.07654969e-02, 9.89234503e-01],\n",
       "       [1.57176506e-02, 9.84282349e-01],\n",
       "       [1.68474104e-01, 8.31525896e-01],\n",
       "       [9.96382782e-01, 3.61721817e-03],\n",
       "       [9.65392767e-01, 3.46072328e-02],\n",
       "       [1.64026590e-02, 9.83597341e-01],\n",
       "       [1.36210935e-03, 9.98637891e-01],\n",
       "       [1.21883276e-02, 9.87811672e-01],\n",
       "       [1.17522686e-01, 8.82477314e-01],\n",
       "       [4.73410477e-01, 5.26589523e-01],\n",
       "       [9.85470136e-01, 1.45298643e-02],\n",
       "       [9.87191203e-01, 1.28087967e-02],\n",
       "       [1.75024379e-01, 8.24975621e-01],\n",
       "       [8.24494120e-01, 1.75505880e-01],\n",
       "       [9.91148707e-01, 8.85129287e-03],\n",
       "       [3.92348277e-03, 9.96076517e-01],\n",
       "       [3.79490149e-01, 6.20509851e-01],\n",
       "       [2.91769389e-03, 9.97082306e-01],\n",
       "       [9.99965861e-01, 3.41387033e-05],\n",
       "       [8.55830979e-04, 9.99144169e-01],\n",
       "       [8.47674108e-01, 1.52325892e-01],\n",
       "       [5.87544000e-01, 4.12456000e-01],\n",
       "       [9.60858860e-01, 3.91411398e-02],\n",
       "       [3.61493171e-03, 9.96385068e-01],\n",
       "       [8.98805096e-02, 9.10119490e-01],\n",
       "       [1.09041894e-01, 8.90958106e-01],\n",
       "       [3.05204476e-03, 9.96947955e-01],\n",
       "       [8.94064679e-01, 1.05935321e-01],\n",
       "       [9.97522039e-01, 2.47796116e-03],\n",
       "       [9.74880892e-01, 2.51191075e-02],\n",
       "       [1.87556689e-01, 8.12443311e-01],\n",
       "       [9.55796177e-01, 4.42038234e-02],\n",
       "       [3.73578910e-02, 9.62642109e-01],\n",
       "       [9.99647123e-01, 3.52876685e-04],\n",
       "       [9.95338230e-01, 4.66177048e-03],\n",
       "       [2.01235552e-02, 9.79876445e-01],\n",
       "       [1.37965852e-02, 9.86203415e-01],\n",
       "       [9.99893212e-01, 1.06787605e-04],\n",
       "       [9.76026390e-01, 2.39736101e-02],\n",
       "       [3.60330651e-01, 6.39669349e-01],\n",
       "       [9.47906266e-01, 5.20937344e-02],\n",
       "       [8.41332362e-01, 1.58667638e-01],\n",
       "       [9.98742212e-01, 1.25778815e-03],\n",
       "       [4.51412104e-01, 5.48587896e-01],\n",
       "       [1.51202826e-01, 8.48797174e-01],\n",
       "       [9.86625318e-01, 1.33746821e-02],\n",
       "       [1.50674796e-02, 9.84932520e-01],\n",
       "       [9.99887626e-01, 1.12373898e-04],\n",
       "       [9.98312205e-01, 1.68779513e-03],\n",
       "       [2.86083953e-01, 7.13916047e-01],\n",
       "       [1.70415563e-02, 9.82958444e-01],\n",
       "       [7.46763431e-01, 2.53236569e-01],\n",
       "       [2.27015871e-03, 9.97729841e-01],\n",
       "       [9.96683708e-01, 3.31629163e-03],\n",
       "       [1.51607018e-01, 8.48392982e-01],\n",
       "       [7.70165018e-01, 2.29834982e-01],\n",
       "       [1.10484619e-03, 9.98895154e-01],\n",
       "       [1.76054154e-03, 9.98239458e-01],\n",
       "       [4.57883813e-02, 9.54211619e-01],\n",
       "       [3.03261610e-01, 6.96738390e-01],\n",
       "       [9.19763138e-01, 8.02368616e-02],\n",
       "       [2.29007733e-01, 7.70992267e-01],\n",
       "       [1.61600076e-03, 9.98383999e-01],\n",
       "       [6.07957466e-01, 3.92042534e-01],\n",
       "       [7.76659879e-01, 2.23340121e-01],\n",
       "       [9.92275147e-01, 7.72485268e-03],\n",
       "       [9.99676714e-01, 3.23286453e-04],\n",
       "       [4.58276690e-02, 9.54172331e-01],\n",
       "       [7.54125008e-01, 2.45874992e-01],\n",
       "       [1.17292094e-02, 9.88270791e-01],\n",
       "       [1.36272081e-03, 9.98637279e-01],\n",
       "       [1.87488216e-01, 8.12511784e-01],\n",
       "       [9.93729401e-01, 6.27059905e-03],\n",
       "       [9.38879189e-01, 6.11208108e-02],\n",
       "       [9.99912895e-01, 8.71053253e-05],\n",
       "       [5.03991755e-01, 4.96008245e-01],\n",
       "       [4.72066236e-01, 5.27933764e-01],\n",
       "       [1.21805470e-01, 8.78194530e-01],\n",
       "       [9.76939330e-01, 2.30606703e-02],\n",
       "       [3.09377673e-04, 9.99690622e-01],\n",
       "       [1.75154200e-01, 8.24845800e-01],\n",
       "       [4.58276690e-02, 9.54172331e-01],\n",
       "       [5.35996531e-01, 4.64003469e-01],\n",
       "       [5.16646179e-02, 9.48335382e-01],\n",
       "       [9.99485769e-01, 5.14231028e-04],\n",
       "       [5.38993026e-02, 9.46100697e-01],\n",
       "       [2.80345237e-02, 9.71965476e-01],\n",
       "       [9.94729589e-01, 5.27041098e-03],\n",
       "       [8.72829908e-03, 9.91271701e-01],\n",
       "       [8.03528074e-01, 1.96471926e-01],\n",
       "       [4.40699870e-01, 5.59300130e-01],\n",
       "       [9.78804794e-01, 2.11952062e-02],\n",
       "       [1.41168696e-01, 8.58831304e-01],\n",
       "       [7.07700890e-03, 9.92922991e-01],\n",
       "       [5.67486919e-01, 4.32513081e-01],\n",
       "       [9.98171126e-01, 1.82887405e-03],\n",
       "       [1.78067860e-02, 9.82193214e-01],\n",
       "       [4.22545805e-02, 9.57745419e-01],\n",
       "       [9.77080653e-01, 2.29193469e-02],\n",
       "       [4.38555348e-02, 9.56144465e-01],\n",
       "       [1.50275146e-02, 9.84972485e-01],\n",
       "       [6.34850665e-02, 9.36514933e-01],\n",
       "       [2.47306474e-03, 9.97526935e-01],\n",
       "       [3.04699141e-02, 9.69530086e-01],\n",
       "       [9.55510483e-01, 4.44895171e-02],\n",
       "       [4.94164462e-01, 5.05835538e-01],\n",
       "       [6.48329969e-01, 3.51670031e-01],\n",
       "       [9.91964337e-01, 8.03566260e-03],\n",
       "       [1.07463693e-02, 9.89253631e-01],\n",
       "       [1.12171879e-02, 9.88782812e-01],\n",
       "       [2.35884617e-03, 9.97641154e-01],\n",
       "       [9.83543512e-01, 1.64564884e-02],\n",
       "       [3.77112243e-03, 9.96228878e-01],\n",
       "       [1.57246049e-02, 9.84275395e-01],\n",
       "       [5.98549265e-01, 4.01450735e-01],\n",
       "       [1.38701564e-02, 9.86129844e-01],\n",
       "       [1.94182462e-01, 8.05817538e-01],\n",
       "       [9.99897605e-01, 1.02395133e-04],\n",
       "       [7.98045887e-01, 2.01954113e-01],\n",
       "       [6.77776043e-01, 3.22223957e-01],\n",
       "       [1.57446875e-01, 8.42553125e-01],\n",
       "       [3.30529956e-03, 9.96694700e-01],\n",
       "       [1.01408343e-03, 9.98985917e-01],\n",
       "       [2.16820601e-03, 9.97831794e-01],\n",
       "       [6.38382621e-01, 3.61617379e-01],\n",
       "       [9.09935194e-03, 9.90900648e-01],\n",
       "       [1.46338809e-01, 8.53661191e-01],\n",
       "       [9.86096536e-01, 1.39034638e-02],\n",
       "       [2.20797623e-04, 9.99779202e-01],\n",
       "       [9.99389822e-01, 6.10178074e-04],\n",
       "       [1.21469354e-01, 8.78530646e-01],\n",
       "       [1.87488216e-01, 8.12511784e-01],\n",
       "       [2.69594217e-02, 9.73040578e-01],\n",
       "       [9.99677004e-01, 3.22996097e-04],\n",
       "       [8.00575462e-02, 9.19942454e-01],\n",
       "       [9.91238931e-01, 8.76106937e-03],\n",
       "       [6.10339228e-04, 9.99389661e-01],\n",
       "       [2.10242182e-02, 9.78975782e-01],\n",
       "       [8.47325602e-01, 1.52674398e-01],\n",
       "       [4.09365143e-01, 5.90634857e-01],\n",
       "       [5.56261410e-01, 4.43738590e-01],\n",
       "       [3.99571875e-01, 6.00428125e-01],\n",
       "       [1.21517322e-01, 8.78482678e-01],\n",
       "       [9.53670338e-01, 4.63296618e-02],\n",
       "       [8.77789554e-01, 1.22210446e-01],\n",
       "       [9.99305437e-01, 6.94563056e-04],\n",
       "       [1.57385225e-02, 9.84261477e-01],\n",
       "       [1.12621385e-02, 9.88737861e-01],\n",
       "       [9.90423126e-01, 9.57687351e-03],\n",
       "       [1.63038602e-01, 8.36961398e-01],\n",
       "       [1.07750734e-02, 9.89224927e-01],\n",
       "       [9.81407299e-01, 1.85927006e-02],\n",
       "       [7.61993640e-01, 2.38006360e-01],\n",
       "       [9.88195473e-01, 1.18045266e-02],\n",
       "       [2.93554114e-02, 9.70644589e-01],\n",
       "       [9.96952858e-01, 3.04714233e-03],\n",
       "       [9.88237340e-01, 1.17626599e-02],\n",
       "       [2.38120725e-02, 9.76187927e-01],\n",
       "       [7.84166052e-01, 2.15833948e-01],\n",
       "       [9.06035486e-01, 9.39645139e-02],\n",
       "       [1.38173500e-04, 9.99861826e-01],\n",
       "       [1.94323146e-01, 8.05676854e-01],\n",
       "       [5.36181414e-04, 9.99463819e-01],\n",
       "       [2.79978092e-02, 9.72002191e-01],\n",
       "       [7.13729033e-02, 9.28627097e-01],\n",
       "       [9.41369934e-01, 5.86300658e-02],\n",
       "       [5.98094199e-03, 9.94019058e-01],\n",
       "       [6.85235323e-02, 9.31476468e-01],\n",
       "       [1.32894815e-02, 9.86710519e-01],\n",
       "       [5.25310785e-01, 4.74689215e-01],\n",
       "       [9.98562600e-01, 1.43740038e-03],\n",
       "       [3.03356578e-01, 6.96643422e-01],\n",
       "       [9.97304237e-01, 2.69576306e-03],\n",
       "       [1.27158654e-02, 9.87284135e-01],\n",
       "       [3.45588848e-03, 9.96544112e-01],\n",
       "       [1.44822442e-02, 9.85517756e-01],\n",
       "       [9.99969836e-01, 3.01643745e-05],\n",
       "       [5.16646179e-02, 9.48335382e-01],\n",
       "       [2.37494726e-02, 9.76250527e-01],\n",
       "       [9.50091356e-01, 4.99086439e-02],\n",
       "       [4.64426155e-03, 9.95355738e-01],\n",
       "       [9.96386020e-01, 3.61398010e-03],\n",
       "       [2.57773444e-03, 9.97422266e-01],\n",
       "       [2.68354277e-01, 7.31645723e-01],\n",
       "       [1.75089280e-01, 8.24910720e-01],\n",
       "       [2.38016280e-02, 9.76198372e-01],\n",
       "       [5.27651203e-03, 9.94723488e-01],\n",
       "       [8.41452313e-01, 1.58547687e-01],\n",
       "       [9.99360796e-01, 6.39203607e-04],\n",
       "       [1.51722664e-01, 8.48277336e-01],\n",
       "       [1.44566094e-02, 9.85543391e-01],\n",
       "       [9.96801121e-01, 3.19887864e-03],\n",
       "       [2.38225215e-02, 9.76177479e-01],\n",
       "       [3.31325168e-01, 6.68674832e-01],\n",
       "       [9.90837983e-01, 9.16201735e-03],\n",
       "       [9.94452902e-01, 5.54709840e-03],\n",
       "       [3.43616528e-02, 9.65638347e-01],\n",
       "       [9.90038548e-01, 9.96145154e-03],\n",
       "       [8.63255322e-02, 9.13674468e-01],\n",
       "       [1.17240011e-02, 9.88275999e-01],\n",
       "       [6.56143432e-02, 9.34385657e-01],\n",
       "       [6.30323394e-02, 9.36967661e-01],\n",
       "       [9.28435866e-01, 7.15641339e-02],\n",
       "       [1.84911882e-02, 9.81508812e-01],\n",
       "       [5.74401008e-03, 9.94255990e-01],\n",
       "       [2.28348383e-02, 9.77165162e-01],\n",
       "       [1.17396329e-02, 9.88260367e-01],\n",
       "       [2.92021344e-02, 9.70797866e-01],\n",
       "       [5.60819997e-02, 9.43918000e-01],\n",
       "       [1.22262619e-02, 9.87773738e-01],\n",
       "       [9.97305445e-01, 2.69455507e-03],\n",
       "       [3.79913551e-01, 6.20086449e-01],\n",
       "       [2.37807525e-02, 9.76219248e-01],\n",
       "       [9.93977738e-01, 6.02226205e-03],\n",
       "       [9.99564880e-01, 4.35120206e-04],\n",
       "       [9.99770413e-01, 2.29587471e-04],\n",
       "       [9.47928453e-01, 5.20715467e-02],\n",
       "       [7.21026823e-01, 2.78973177e-01],\n",
       "       [8.02702642e-03, 9.91972974e-01],\n",
       "       [1.36333254e-03, 9.98636667e-01],\n",
       "       [1.63038602e-01, 8.36961398e-01],\n",
       "       [5.67155967e-01, 4.32844033e-01],\n",
       "       [2.68441479e-03, 9.97315585e-01],\n",
       "       [9.95501052e-01, 4.49894823e-03],\n",
       "       [6.50753770e-03, 9.93492462e-01],\n",
       "       [4.26970634e-03, 9.95730294e-01],\n",
       "       [1.41059757e-01, 8.58940243e-01],\n",
       "       [1.21469354e-01, 8.78530646e-01],\n",
       "       [5.04553485e-01, 4.95446515e-01],\n",
       "       [1.40842088e-01, 8.59157912e-01],\n",
       "       [9.25748684e-01, 7.42513163e-02],\n",
       "       [9.99674528e-01, 3.25472460e-04],\n",
       "       [3.12017112e-01, 6.87982888e-01],\n",
       "       [2.56735591e-03, 9.97432644e-01],\n",
       "       [9.50293373e-03, 9.90497066e-01],\n",
       "       [1.17240011e-02, 9.88275999e-01],\n",
       "       [2.18871864e-02, 9.78112814e-01],\n",
       "       [1.93620498e-01, 8.06379502e-01],\n",
       "       [9.99544792e-01, 4.55208348e-04],\n",
       "       [5.26237785e-03, 9.94737622e-01],\n",
       "       [2.77582080e-01, 7.22417920e-01],\n",
       "       [1.12122044e-02, 9.88787796e-01],\n",
       "       [1.21565306e-01, 8.78434694e-01],\n",
       "       [2.01324190e-02, 9.79867581e-01],\n",
       "       [6.84653443e-01, 3.15346557e-01],\n",
       "       [9.99912777e-01, 8.72228341e-05],\n",
       "       [9.99480662e-01, 5.19337882e-04],\n",
       "       [9.36431525e-02, 9.06356847e-01],\n",
       "       [9.97994133e-01, 2.00586670e-03],\n",
       "       [3.59398893e-01, 6.40601107e-01],\n",
       "       [3.80231222e-01, 6.19768778e-01],\n",
       "       [8.97335652e-02, 9.10266435e-01],\n",
       "       [7.22200490e-01, 2.77799510e-01],\n",
       "       [1.63447540e-02, 9.83655246e-01],\n",
       "       [2.67240981e-03, 9.97327590e-01],\n",
       "       [1.51722664e-01, 8.48277336e-01],\n",
       "       [9.45815534e-01, 5.41844663e-02],\n",
       "       [9.66479117e-01, 3.35208832e-02],\n",
       "       [9.93180522e-01, 6.81947820e-03],\n",
       "       [7.39303069e-02, 9.26069693e-01],\n",
       "       [9.97919485e-01, 2.08051509e-03],\n",
       "       [5.59869128e-02, 9.44013087e-01],\n",
       "       [4.09256485e-01, 5.90743515e-01],\n",
       "       [2.57886109e-02, 9.74211389e-01],\n",
       "       [1.80706619e-01, 8.19293381e-01],\n",
       "       [6.30323394e-02, 9.36967661e-01],\n",
       "       [9.99909117e-01, 9.08827972e-05],\n",
       "       [9.99066547e-01, 9.33453396e-04],\n",
       "       [2.28348383e-02, 9.77165162e-01],\n",
       "       [2.52352689e-01, 7.47647311e-01],\n",
       "       [8.01272498e-03, 9.91987275e-01],\n",
       "       [1.27045862e-02, 9.87295414e-01],\n",
       "       [3.89318877e-02, 9.61068112e-01],\n",
       "       [9.93444602e-01, 6.55539798e-03],\n",
       "       [4.85121496e-03, 9.95148785e-01],\n",
       "       [4.41011744e-02, 9.55898826e-01],\n",
       "       [6.76400399e-01, 3.23599601e-01],\n",
       "       [9.82857180e-01, 1.71428200e-02],\n",
       "       [9.28682621e-04, 9.99071317e-01],\n",
       "       [3.44661903e-02, 9.65533810e-01],\n",
       "       [1.17344200e-02, 9.88265580e-01],\n",
       "       [9.99981048e-01, 1.89517921e-05],\n",
       "       [2.56620532e-03, 9.97433795e-01],\n",
       "       [4.30593428e-01, 5.69406572e-01],\n",
       "       [9.99892972e-01, 1.07027810e-04],\n",
       "       [7.40843001e-02, 9.25915700e-01],\n",
       "       [9.99169928e-01, 8.30071811e-04],\n",
       "       [3.44362912e-02, 9.65563709e-01],\n",
       "       [8.77209840e-01, 1.22790160e-01],\n",
       "       [2.94646574e-01, 7.05353426e-01],\n",
       "       [6.34794303e-04, 9.99365206e-01],\n",
       "       [5.51148322e-03, 9.94488517e-01],\n",
       "       [3.76268976e-03, 9.96237310e-01],\n",
       "       [7.13235218e-01, 2.86764782e-01],\n",
       "       [5.39910467e-02, 9.46008953e-01],\n",
       "       [8.70499951e-03, 9.91295000e-01],\n",
       "       [2.86543118e-01, 7.13456882e-01],\n",
       "       [9.84216775e-01, 1.57832245e-02],\n",
       "       [9.96812565e-01, 3.18743484e-03],\n",
       "       [2.76951670e-01, 7.23048330e-01],\n",
       "       [6.83516200e-02, 9.31648380e-01],\n",
       "       [9.85444373e-01, 1.45556272e-02],\n",
       "       [1.50608115e-02, 9.84939188e-01],\n",
       "       [1.38640107e-02, 9.86135989e-01],\n",
       "       [2.44426913e-01, 7.55573087e-01],\n",
       "       [9.99905176e-01, 9.48240701e-05],\n",
       "       [4.93265771e-01, 5.06734229e-01],\n",
       "       [9.72407644e-04, 9.99027592e-01],\n",
       "       [4.51078247e-01, 5.48921753e-01],\n",
       "       [3.59228978e-02, 9.64077102e-01],\n",
       "       [9.99872421e-01, 1.27579095e-04],\n",
       "       [1.92777030e-02, 9.80722297e-01],\n",
       "       [2.69149168e-01, 7.30850832e-01],\n",
       "       [1.85401913e-02, 9.81459809e-01],\n",
       "       [4.76387719e-02, 9.52361228e-01],\n",
       "       [9.85521527e-01, 1.44784734e-02],\n",
       "       [4.58669888e-02, 9.54133011e-01],\n",
       "       [3.16804514e-02, 9.68319549e-01],\n",
       "       [1.46002273e-01, 8.53997727e-01],\n",
       "       [1.15270886e-03, 9.98847291e-01],\n",
       "       [3.04566404e-02, 9.69543360e-01],\n",
       "       [1.01021328e-01, 8.98978672e-01],\n",
       "       [9.16194733e-01, 8.38052671e-02],\n",
       "       [9.09588248e-01, 9.04117520e-02],\n",
       "       [3.18827450e-03, 9.96811725e-01],\n",
       "       [1.69814348e-02, 9.83018565e-01],\n",
       "       [5.04699197e-03, 9.94953008e-01],\n",
       "       [7.98118309e-01, 2.01881691e-01],\n",
       "       [9.72917555e-01, 2.70824454e-02],\n",
       "       [9.81333351e-01, 1.86666491e-02],\n",
       "       [5.59674275e-04, 9.99440326e-01],\n",
       "       [4.39309768e-02, 9.56069023e-01],\n",
       "       [9.33598454e-01, 6.64015458e-02],\n",
       "       [7.09866431e-02, 9.29013357e-01],\n",
       "       [9.30917525e-01, 6.90824753e-02],\n",
       "       [9.99926499e-01, 7.35014895e-05],\n",
       "       [1.63881639e-02, 9.83611836e-01],\n",
       "       [1.17292094e-02, 9.88270791e-01],\n",
       "       [8.86565146e-01, 1.13434854e-01],\n",
       "       [3.51115679e-01, 6.48884321e-01],\n",
       "       [6.84948525e-02, 9.31505148e-01],\n",
       "       [2.29563660e-01, 7.70436340e-01],\n",
       "       [3.58141058e-02, 9.64185894e-01],\n",
       "       [2.28147909e-02, 9.77185209e-01],\n",
       "       [9.19597149e-01, 8.04028505e-02],\n",
       "       [5.59869128e-02, 9.44013087e-01],\n",
       "       [1.17336376e-01, 8.82663624e-01],\n",
       "       [4.58080211e-02, 9.54191979e-01],\n",
       "       [9.97727385e-01, 2.27261534e-03],\n",
       "       [1.40950887e-01, 8.59049113e-01],\n",
       "       [3.83204593e-04, 9.99616795e-01],\n",
       "       [9.99580705e-01, 4.19294977e-04],\n",
       "       [9.99748268e-01, 2.51732142e-04],\n",
       "       [2.92531403e-02, 9.70746860e-01],\n",
       "       [9.99872936e-01, 1.27064177e-04],\n",
       "       [9.99211872e-01, 7.88127556e-04],\n",
       "       [5.26207233e-01, 4.73792767e-01],\n",
       "       [9.94904455e-01, 5.09554462e-03],\n",
       "       [2.86175751e-01, 7.13824249e-01],\n",
       "       [1.40679021e-01, 8.59320979e-01],\n",
       "       [3.31716512e-03, 9.96682835e-01],\n",
       "       [3.58451568e-02, 9.64154843e-01],\n",
       "       [7.39610820e-02, 9.26038918e-01],\n",
       "       [1.15270886e-03, 9.98847291e-01],\n",
       "       [9.98299283e-01, 1.70071741e-03],\n",
       "       [6.76990336e-01, 3.23009664e-01],\n",
       "       [1.68672621e-03, 9.98313274e-01],\n",
       "       [9.95152229e-01, 4.84777089e-03],\n",
       "       [2.84892191e-01, 7.15107809e-01],\n",
       "       [5.72863082e-03, 9.94271369e-01],\n",
       "       [3.75763918e-03, 9.96242361e-01],\n",
       "       [3.04964782e-02, 9.69503522e-01],\n",
       "       [1.87009450e-01, 8.12990550e-01],\n",
       "       [9.99888029e-01, 1.11970647e-04],\n",
       "       [3.93051449e-03, 9.96069486e-01],\n",
       "       [9.96947392e-01, 3.05260827e-03],\n",
       "       [3.04566404e-02, 9.69543360e-01],\n",
       "       [8.90852748e-01, 1.09147252e-01],\n",
       "       [7.04286393e-01, 2.95713607e-01],\n",
       "       [4.27735590e-03, 9.95722644e-01],\n",
       "       [1.57037512e-02, 9.84296249e-01],\n",
       "       [2.44343923e-01, 7.55656077e-01],\n",
       "       [9.97820670e-01, 2.17933050e-03],\n",
       "       [9.97908258e-01, 2.09174209e-03],\n",
       "       [7.70966860e-03, 9.92290331e-01],\n",
       "       [1.85565540e-02, 9.81443446e-01],\n",
       "       [9.99023474e-01, 9.76525550e-04],\n",
       "       [3.91997162e-03, 9.96080028e-01],\n",
       "       [2.47974405e-02, 9.75202560e-01],\n",
       "       [4.72066236e-01, 5.27933764e-01],\n",
       "       [3.58762338e-02, 9.64123766e-01],\n",
       "       [9.08720341e-03, 9.90912797e-01],\n",
       "       [1.27497622e-02, 9.87250238e-01],\n",
       "       [1.27328027e-02, 9.87267197e-01],\n",
       "       [9.80513777e-01, 1.94862227e-02],\n",
       "       [6.51044391e-03, 9.93489556e-01],\n",
       "       [7.20574604e-01, 2.79425396e-01],\n",
       "       [1.30877036e-01, 8.69122964e-01],\n",
       "       [1.17344200e-02, 9.88265580e-01],\n",
       "       [1.93543222e-02, 9.80645678e-01],\n",
       "       [1.12785106e-01, 8.87214894e-01],\n",
       "       [6.77272553e-03, 9.93227274e-01],\n",
       "       [4.08928814e-03, 9.95910712e-01],\n",
       "       [9.70498098e-01, 2.95019021e-02],\n",
       "       [7.53896333e-04, 9.99246104e-01],\n",
       "       [9.55720163e-01, 4.42798369e-02],\n",
       "       [1.17522686e-01, 8.82477314e-01],\n",
       "       [8.76726912e-03, 9.91232731e-01],\n",
       "       [7.20845989e-01, 2.79154011e-01],\n",
       "       [8.47848116e-01, 1.52151884e-01],\n",
       "       [1.93628539e-02, 9.80637146e-01],\n",
       "       [9.99788719e-01, 2.11280597e-04],\n",
       "       [2.68770188e-02, 9.73122981e-01],\n",
       "       [2.10149702e-02, 9.78985030e-01],\n",
       "       [9.98515084e-01, 1.48491558e-03],\n",
       "       [1.81239526e-01, 8.18760474e-01],\n",
       "       [9.38879189e-01, 6.11208108e-02],\n",
       "       [7.76425926e-01, 2.23574074e-01],\n",
       "       [5.16426030e-02, 9.48357397e-01],\n",
       "       [1.83593337e-03, 9.98164067e-01],\n",
       "       [7.38826658e-03, 9.92611733e-01],\n",
       "       [4.40065427e-02, 9.55993457e-01],\n",
       "       [1.86804552e-01, 8.13195448e-01],\n",
       "       [9.80608008e-01, 1.93919921e-02],\n",
       "       [9.94715433e-01, 5.28456663e-03],\n",
       "       [9.31493331e-01, 6.85066687e-02]])"
      ]
     },
     "execution_count": 53,
     "metadata": {},
     "output_type": "execute_result"
    }
   ],
   "source": [
    "y_pred_proba = pipe_model.predict_proba(X_test)\n",
    "y_pred_proba\n",
    "\n",
    "# \"predict_proba\" shows the probability of test observations belonging to which class. \n",
    "# The first value represents the probability of belonging to class 0, while the second value represents \n",
    "# the probability of belonging to class 1. The observation is assigned to the class with the larger \n",
    "# probability value."
   ]
  },
  {
   "cell_type": "markdown",
   "metadata": {
    "id": "mfqsS59_br7r"
   },
   "source": [
    "## X_test + y_yest + y_pred + y_pred_proba"
   ]
  },
  {
   "cell_type": "code",
   "execution_count": 54,
   "metadata": {
    "id": "90TUx7k_br7s",
    "outputId": "88b08f0c-8a71-4c35-b24b-d98777796e61"
   },
   "outputs": [
    {
     "data": {
      "text/html": [
       "<div>\n",
       "<style scoped>\n",
       "    .dataframe tbody tr th:only-of-type {\n",
       "        vertical-align: middle;\n",
       "    }\n",
       "\n",
       "    .dataframe tbody tr th {\n",
       "        vertical-align: top;\n",
       "    }\n",
       "\n",
       "    .dataframe thead th {\n",
       "        text-align: right;\n",
       "    }\n",
       "</style>\n",
       "<table border=\"1\" class=\"dataframe\">\n",
       "  <thead>\n",
       "    <tr style=\"text-align: right;\">\n",
       "      <th></th>\n",
       "      <th>age</th>\n",
       "      <th>physical_score</th>\n",
       "      <th>test_result</th>\n",
       "    </tr>\n",
       "  </thead>\n",
       "  <tbody>\n",
       "    <tr>\n",
       "      <th>1718</th>\n",
       "      <td>39.0</td>\n",
       "      <td>37.8</td>\n",
       "      <td>1</td>\n",
       "    </tr>\n",
       "    <tr>\n",
       "      <th>2511</th>\n",
       "      <td>45.0</td>\n",
       "      <td>38.7</td>\n",
       "      <td>1</td>\n",
       "    </tr>\n",
       "    <tr>\n",
       "      <th>345</th>\n",
       "      <td>56.0</td>\n",
       "      <td>21.8</td>\n",
       "      <td>0</td>\n",
       "    </tr>\n",
       "    <tr>\n",
       "      <th>2521</th>\n",
       "      <td>40.0</td>\n",
       "      <td>44.0</td>\n",
       "      <td>1</td>\n",
       "    </tr>\n",
       "    <tr>\n",
       "      <th>54</th>\n",
       "      <td>64.0</td>\n",
       "      <td>25.4</td>\n",
       "      <td>0</td>\n",
       "    </tr>\n",
       "    <tr>\n",
       "      <th>...</th>\n",
       "      <td>...</td>\n",
       "      <td>...</td>\n",
       "      <td>...</td>\n",
       "    </tr>\n",
       "    <tr>\n",
       "      <th>4770</th>\n",
       "      <td>46.0</td>\n",
       "      <td>37.7</td>\n",
       "      <td>1</td>\n",
       "    </tr>\n",
       "    <tr>\n",
       "      <th>188</th>\n",
       "      <td>59.0</td>\n",
       "      <td>36.5</td>\n",
       "      <td>1</td>\n",
       "    </tr>\n",
       "    <tr>\n",
       "      <th>3335</th>\n",
       "      <td>54.0</td>\n",
       "      <td>22.8</td>\n",
       "      <td>0</td>\n",
       "    </tr>\n",
       "    <tr>\n",
       "      <th>4583</th>\n",
       "      <td>58.0</td>\n",
       "      <td>20.5</td>\n",
       "      <td>0</td>\n",
       "    </tr>\n",
       "    <tr>\n",
       "      <th>3208</th>\n",
       "      <td>48.0</td>\n",
       "      <td>24.7</td>\n",
       "      <td>0</td>\n",
       "    </tr>\n",
       "  </tbody>\n",
       "</table>\n",
       "<p>500 rows × 3 columns</p>\n",
       "</div>"
      ],
      "text/plain": [
       "       age  physical_score  test_result\n",
       "1718  39.0            37.8            1\n",
       "2511  45.0            38.7            1\n",
       "345   56.0            21.8            0\n",
       "2521  40.0            44.0            1\n",
       "54    64.0            25.4            0\n",
       "...    ...             ...          ...\n",
       "4770  46.0            37.7            1\n",
       "188   59.0            36.5            1\n",
       "3335  54.0            22.8            0\n",
       "4583  58.0            20.5            0\n",
       "3208  48.0            24.7            0\n",
       "\n",
       "[500 rows x 3 columns]"
      ]
     },
     "execution_count": 54,
     "metadata": {},
     "output_type": "execute_result"
    }
   ],
   "source": [
    "test_data = pd.concat([X_test, y_test], axis=1)\n",
    "test_data\n"
   ]
  },
  {
   "cell_type": "code",
   "execution_count": 55,
   "metadata": {
    "id": "vx17HY0_br7s",
    "outputId": "05b5b345-f554-4bc6-b000-fab59f5ecbd2"
   },
   "outputs": [
    {
     "data": {
      "text/html": [
       "<div>\n",
       "<style scoped>\n",
       "    .dataframe tbody tr th:only-of-type {\n",
       "        vertical-align: middle;\n",
       "    }\n",
       "\n",
       "    .dataframe tbody tr th {\n",
       "        vertical-align: top;\n",
       "    }\n",
       "\n",
       "    .dataframe thead th {\n",
       "        text-align: right;\n",
       "    }\n",
       "</style>\n",
       "<table border=\"1\" class=\"dataframe\">\n",
       "  <thead>\n",
       "    <tr style=\"text-align: right;\">\n",
       "      <th></th>\n",
       "      <th>age</th>\n",
       "      <th>physical_score</th>\n",
       "      <th>test_result</th>\n",
       "      <th>pred_proba</th>\n",
       "    </tr>\n",
       "  </thead>\n",
       "  <tbody>\n",
       "    <tr>\n",
       "      <th>1718</th>\n",
       "      <td>39.0</td>\n",
       "      <td>37.8</td>\n",
       "      <td>1</td>\n",
       "      <td>0.976157</td>\n",
       "    </tr>\n",
       "    <tr>\n",
       "      <th>2511</th>\n",
       "      <td>45.0</td>\n",
       "      <td>38.7</td>\n",
       "      <td>1</td>\n",
       "      <td>0.973076</td>\n",
       "    </tr>\n",
       "    <tr>\n",
       "      <th>345</th>\n",
       "      <td>56.0</td>\n",
       "      <td>21.8</td>\n",
       "      <td>0</td>\n",
       "      <td>0.010806</td>\n",
       "    </tr>\n",
       "    <tr>\n",
       "      <th>2521</th>\n",
       "      <td>40.0</td>\n",
       "      <td>44.0</td>\n",
       "      <td>1</td>\n",
       "      <td>0.998092</td>\n",
       "    </tr>\n",
       "    <tr>\n",
       "      <th>54</th>\n",
       "      <td>64.0</td>\n",
       "      <td>25.4</td>\n",
       "      <td>0</td>\n",
       "      <td>0.024987</td>\n",
       "    </tr>\n",
       "    <tr>\n",
       "      <th>...</th>\n",
       "      <td>...</td>\n",
       "      <td>...</td>\n",
       "      <td>...</td>\n",
       "      <td>...</td>\n",
       "    </tr>\n",
       "    <tr>\n",
       "      <th>4770</th>\n",
       "      <td>46.0</td>\n",
       "      <td>37.7</td>\n",
       "      <td>1</td>\n",
       "      <td>0.955993</td>\n",
       "    </tr>\n",
       "    <tr>\n",
       "      <th>188</th>\n",
       "      <td>59.0</td>\n",
       "      <td>36.5</td>\n",
       "      <td>1</td>\n",
       "      <td>0.813195</td>\n",
       "    </tr>\n",
       "    <tr>\n",
       "      <th>3335</th>\n",
       "      <td>54.0</td>\n",
       "      <td>22.8</td>\n",
       "      <td>0</td>\n",
       "      <td>0.019392</td>\n",
       "    </tr>\n",
       "    <tr>\n",
       "      <th>4583</th>\n",
       "      <td>58.0</td>\n",
       "      <td>20.5</td>\n",
       "      <td>0</td>\n",
       "      <td>0.005285</td>\n",
       "    </tr>\n",
       "    <tr>\n",
       "      <th>3208</th>\n",
       "      <td>48.0</td>\n",
       "      <td>24.7</td>\n",
       "      <td>0</td>\n",
       "      <td>0.068507</td>\n",
       "    </tr>\n",
       "  </tbody>\n",
       "</table>\n",
       "<p>500 rows × 4 columns</p>\n",
       "</div>"
      ],
      "text/plain": [
       "       age  physical_score  test_result  pred_proba\n",
       "1718  39.0            37.8            1    0.976157\n",
       "2511  45.0            38.7            1    0.973076\n",
       "345   56.0            21.8            0    0.010806\n",
       "2521  40.0            44.0            1    0.998092\n",
       "54    64.0            25.4            0    0.024987\n",
       "...    ...             ...          ...         ...\n",
       "4770  46.0            37.7            1    0.955993\n",
       "188   59.0            36.5            1    0.813195\n",
       "3335  54.0            22.8            0    0.019392\n",
       "4583  58.0            20.5            0    0.005285\n",
       "3208  48.0            24.7            0    0.068507\n",
       "\n",
       "[500 rows x 4 columns]"
      ]
     },
     "execution_count": 55,
     "metadata": {},
     "output_type": "execute_result"
    }
   ],
   "source": [
    "test_data[\"pred_proba\"] = y_pred_proba[:,1]\n",
    "test_data\n",
    "\n",
    "# We are adding the pred_proba column/feature to the test_data dataframe, which shows the probability of belonging to the class 1."
   ]
  },
  {
   "cell_type": "code",
   "execution_count": 56,
   "metadata": {
    "id": "yZPfdhcvbr7t",
    "outputId": "d3714d87-c6dc-41eb-8052-eac210b3f8c6"
   },
   "outputs": [
    {
     "data": {
      "text/html": [
       "<div>\n",
       "<style scoped>\n",
       "    .dataframe tbody tr th:only-of-type {\n",
       "        vertical-align: middle;\n",
       "    }\n",
       "\n",
       "    .dataframe tbody tr th {\n",
       "        vertical-align: top;\n",
       "    }\n",
       "\n",
       "    .dataframe thead th {\n",
       "        text-align: right;\n",
       "    }\n",
       "</style>\n",
       "<table border=\"1\" class=\"dataframe\">\n",
       "  <thead>\n",
       "    <tr style=\"text-align: right;\">\n",
       "      <th></th>\n",
       "      <th>age</th>\n",
       "      <th>physical_score</th>\n",
       "      <th>test_result</th>\n",
       "      <th>pred_proba</th>\n",
       "      <th>pred</th>\n",
       "    </tr>\n",
       "  </thead>\n",
       "  <tbody>\n",
       "    <tr>\n",
       "      <th>1718</th>\n",
       "      <td>39.0</td>\n",
       "      <td>37.8</td>\n",
       "      <td>1</td>\n",
       "      <td>0.976157</td>\n",
       "      <td>1</td>\n",
       "    </tr>\n",
       "    <tr>\n",
       "      <th>2511</th>\n",
       "      <td>45.0</td>\n",
       "      <td>38.7</td>\n",
       "      <td>1</td>\n",
       "      <td>0.973076</td>\n",
       "      <td>1</td>\n",
       "    </tr>\n",
       "    <tr>\n",
       "      <th>345</th>\n",
       "      <td>56.0</td>\n",
       "      <td>21.8</td>\n",
       "      <td>0</td>\n",
       "      <td>0.010806</td>\n",
       "      <td>0</td>\n",
       "    </tr>\n",
       "    <tr>\n",
       "      <th>2521</th>\n",
       "      <td>40.0</td>\n",
       "      <td>44.0</td>\n",
       "      <td>1</td>\n",
       "      <td>0.998092</td>\n",
       "      <td>1</td>\n",
       "    </tr>\n",
       "    <tr>\n",
       "      <th>54</th>\n",
       "      <td>64.0</td>\n",
       "      <td>25.4</td>\n",
       "      <td>0</td>\n",
       "      <td>0.024987</td>\n",
       "      <td>0</td>\n",
       "    </tr>\n",
       "    <tr>\n",
       "      <th>...</th>\n",
       "      <td>...</td>\n",
       "      <td>...</td>\n",
       "      <td>...</td>\n",
       "      <td>...</td>\n",
       "      <td>...</td>\n",
       "    </tr>\n",
       "    <tr>\n",
       "      <th>4770</th>\n",
       "      <td>46.0</td>\n",
       "      <td>37.7</td>\n",
       "      <td>1</td>\n",
       "      <td>0.955993</td>\n",
       "      <td>1</td>\n",
       "    </tr>\n",
       "    <tr>\n",
       "      <th>188</th>\n",
       "      <td>59.0</td>\n",
       "      <td>36.5</td>\n",
       "      <td>1</td>\n",
       "      <td>0.813195</td>\n",
       "      <td>1</td>\n",
       "    </tr>\n",
       "    <tr>\n",
       "      <th>3335</th>\n",
       "      <td>54.0</td>\n",
       "      <td>22.8</td>\n",
       "      <td>0</td>\n",
       "      <td>0.019392</td>\n",
       "      <td>0</td>\n",
       "    </tr>\n",
       "    <tr>\n",
       "      <th>4583</th>\n",
       "      <td>58.0</td>\n",
       "      <td>20.5</td>\n",
       "      <td>0</td>\n",
       "      <td>0.005285</td>\n",
       "      <td>0</td>\n",
       "    </tr>\n",
       "    <tr>\n",
       "      <th>3208</th>\n",
       "      <td>48.0</td>\n",
       "      <td>24.7</td>\n",
       "      <td>0</td>\n",
       "      <td>0.068507</td>\n",
       "      <td>0</td>\n",
       "    </tr>\n",
       "  </tbody>\n",
       "</table>\n",
       "<p>500 rows × 5 columns</p>\n",
       "</div>"
      ],
      "text/plain": [
       "       age  physical_score  test_result  pred_proba  pred\n",
       "1718  39.0            37.8            1    0.976157     1\n",
       "2511  45.0            38.7            1    0.973076     1\n",
       "345   56.0            21.8            0    0.010806     0\n",
       "2521  40.0            44.0            1    0.998092     1\n",
       "54    64.0            25.4            0    0.024987     0\n",
       "...    ...             ...          ...         ...   ...\n",
       "4770  46.0            37.7            1    0.955993     1\n",
       "188   59.0            36.5            1    0.813195     1\n",
       "3335  54.0            22.8            0    0.019392     0\n",
       "4583  58.0            20.5            0    0.005285     0\n",
       "3208  48.0            24.7            0    0.068507     0\n",
       "\n",
       "[500 rows x 5 columns]"
      ]
     },
     "execution_count": 56,
     "metadata": {},
     "output_type": "execute_result"
    }
   ],
   "source": [
    "test_data[\"pred\"] = y_pred\n",
    "test_data\n",
    "\n",
    "#When making predictions with the model, probabilities greater than 0.5 are assigned to class 1, and \n",
    "# probabilities less than 0.5 are assigned to class 0. The model's predictions are added as a \n",
    "# feature named 'pred' to the test_data dataframe"
   ]
  },
  {
   "cell_type": "markdown",
   "metadata": {
    "id": "ewwnjizrbr7t"
   },
   "source": [
    "## Model Performance on Classification Tasks"
   ]
  },
  {
   "cell_type": "code",
   "execution_count": 57,
   "metadata": {
    "id": "5Da__JXIbr76"
   },
   "outputs": [],
   "source": [
    "from sklearn.metrics import precision_score, recall_score, accuracy_score, f1_score"
   ]
  },
  {
   "cell_type": "code",
   "execution_count": 58,
   "metadata": {
    "id": "rH2vhCsLbr77",
    "outputId": "525c7f28-e13e-4394-b2ae-7482fc7d95d6"
   },
   "outputs": [
    {
     "data": {
      "text/plain": [
       "0.93"
      ]
     },
     "execution_count": 58,
     "metadata": {},
     "output_type": "execute_result"
    }
   ],
   "source": [
    "accuracy_score(y_test,y_pred)"
   ]
  },
  {
   "cell_type": "code",
   "execution_count": 59,
   "metadata": {
    "id": "m1MEImIHbr77",
    "outputId": "6fe2dc4f-0413-49e9-e61b-b09911999a45"
   },
   "outputs": [
    {
     "data": {
      "text/plain": [
       "0.93"
      ]
     },
     "execution_count": 59,
     "metadata": {},
     "output_type": "execute_result"
    }
   ],
   "source": [
    "pipe_model.score(X_test, y_test)\n",
    "\n",
    "# when we give X_test and y_test as parameters to the score function, it returns the accuracy score."
   ]
  },
  {
   "cell_type": "code",
   "execution_count": 60,
   "metadata": {
    "id": "1UVYao7zbr77",
    "outputId": "a150f70c-4a3f-4d2a-d7d7-77eab1e4f20f"
   },
   "outputs": [
    {
     "data": {
      "text/plain": [
       "0.9331210191082803"
      ]
     },
     "execution_count": 60,
     "metadata": {},
     "output_type": "execute_result"
    }
   ],
   "source": [
    "precision_score(y_test, y_pred, pos_label=1)\n",
    "\n",
    "# The precision_score function, by default, returns the precision score for class 1. It shows how many of \n",
    "# the correct predictions were made for predicting class 1. \n",
    "# A precision of 0.1 means that the model correctly predicted 10% of the predictions it made.\n",
    "\n",
    "# for class 0, pos_label=0."
   ]
  },
  {
   "cell_type": "code",
   "execution_count": 61,
   "metadata": {
    "id": "V5PitcY8br78",
    "outputId": "c4155ed7-4e65-461b-a230-939a7755249b"
   },
   "outputs": [
    {
     "data": {
      "text/plain": [
       "0.9543973941368078"
      ]
     },
     "execution_count": 61,
     "metadata": {},
     "output_type": "execute_result"
    }
   ],
   "source": [
    "recall_score(y_test, y_pred,  pos_label=1)\n",
    "\n",
    "# By default, it returns the recall score of class 1. It shows how much of the class 1 the model can correctly detect\n",
    "# A recall of 0.1 means the model can only detect 10% of class 1.\n",
    "\n",
    "# for class 0, pos_label=0."
   ]
  },
  {
   "cell_type": "code",
   "execution_count": 62,
   "metadata": {
    "id": "dzLGaf0fbr78",
    "outputId": "eefecea0-a79f-408d-8b9f-59dc0aad70de"
   },
   "outputs": [
    {
     "data": {
      "text/plain": [
       "0.9436392914653785"
      ]
     },
     "execution_count": 62,
     "metadata": {},
     "output_type": "execute_result"
    }
   ],
   "source": [
    "f1_score(y_test,y_pred)\n",
    "\n",
    "# The function returns the harmonic mean of precision and recall scores. There is always a trade-off between precision and recall scores.\n",
    "# If precision increases/decreases, recall decreases/increases"
   ]
  },
  {
   "cell_type": "code",
   "execution_count": 63,
   "metadata": {
    "id": "kV6PBn94br79"
   },
   "outputs": [],
   "source": [
    "from sklearn.metrics import confusion_matrix, classification_report,ConfusionMatrixDisplay #plot_confusion_matrix\n"
   ]
  },
  {
   "cell_type": "code",
   "execution_count": 64,
   "metadata": {
    "id": "M441_2kkbr79",
    "outputId": "621cf809-ba7e-4307-f9f8-79bbc5a2e398"
   },
   "outputs": [
    {
     "data": {
      "text/plain": [
       "array([[172,  21],\n",
       "       [ 14, 293]])"
      ]
     },
     "execution_count": 64,
     "metadata": {},
     "output_type": "execute_result"
    }
   ],
   "source": [
    "confusion_matrix(y_test,y_pred)"
   ]
  },
  {
   "cell_type": "code",
   "execution_count": 66,
   "metadata": {
    "id": "Rei33hzYbr79",
    "outputId": "29c93bc8-b5f5-4868-9320-1ad899adef8d"
   },
   "outputs": [
    {
     "data": {
      "text/plain": [
       "<sklearn.metrics._plot.confusion_matrix.ConfusionMatrixDisplay at 0x7fa28ae8c160>"
      ]
     },
     "execution_count": 66,
     "metadata": {},
     "output_type": "execute_result"
    },
    {
     "data": {
      "image/png": "[encoded data removed]",
      "text/plain": [
       "<Figure size 720x432 with 2 Axes>"
      ]
     },
     "metadata": {
      "needs_background": "light"
     },
     "output_type": "display_data"
    }
   ],
   "source": [
    "ConfusionMatrixDisplay.from_estimator(pipe_model,X_test, y_test,normalize='all')\n",
    "#plot_confusion_matrix(pipe_model, X_test, y_test, normalize='all');\n",
    "\n",
    "# Comparing to the previous display, it is more understandable since it contains labels.\n",
    "\n",
    "# normalizing can be based on true, pred or all\n",
    "# normalize=\"true\"\n",
    "# normalize=\"pred\" \n",
    "# normalize=\"all\""
   ]
  },
  {
   "cell_type": "code",
   "execution_count": 67,
   "metadata": {
    "id": "KlZ19f5Ebr7-"
   },
   "outputs": [],
   "source": [
    "def eval_metric(model, X_train, y_train, X_test, y_test):\n",
    "    y_train_pred = model.predict(X_train)\n",
    "    y_pred = model.predict(X_test)\n",
    "    \n",
    "    print(\"Test_Set\")\n",
    "    print(confusion_matrix(y_test, y_pred))\n",
    "    print(classification_report(y_test, y_pred))\n",
    "    print()\n",
    "    print(\"Train_Set\")\n",
    "    print(confusion_matrix(y_train, y_train_pred))\n",
    "    print(classification_report(y_train, y_train_pred))\n",
    "    "
   ]
  },
  {
   "cell_type": "code",
   "execution_count": 76,
   "metadata": {
    "id": "VzDRSHu6br7-",
    "outputId": "981ca19c-9bcf-4ff5-b5a0-d2efddc0eb02"
   },
   "outputs": [
    {
     "name": "stdout",
     "output_type": "stream",
     "text": [
      "Test_Set\n",
      "[[172  21]\n",
      " [ 14 293]]\n",
      "              precision    recall  f1-score   support\n",
      "\n",
      "           0       0.92      0.89      0.91       193\n",
      "           1       0.93      0.95      0.94       307\n",
      "\n",
      "    accuracy                           0.93       500\n",
      "   macro avg       0.93      0.92      0.93       500\n",
      "weighted avg       0.93      0.93      0.93       500\n",
      "\n",
      "\n",
      "Train_Set\n",
      "[[1567  240]\n",
      " [ 147 2546]]\n",
      "              precision    recall  f1-score   support\n",
      "\n",
      "           0       0.91      0.87      0.89      1807\n",
      "           1       0.91      0.95      0.93      2693\n",
      "\n",
      "    accuracy                           0.91      4500\n",
      "   macro avg       0.91      0.91      0.91      4500\n",
      "weighted avg       0.91      0.91      0.91      4500\n",
      "\n"
     ]
    }
   ],
   "source": [
    "eval_metric(pipe_model, X_train, y_train, X_test, y_test)\n",
    "\n",
    "# for the label 1\n",
    "# precision = 0.93 means that among all positive predicitions, 93% of them are true.\n",
    "# recall = 0.95 means that we detected 95% of actually positive classes.\n",
    "# f1 score is an harmonic mean of precision and recall. You should interpret with recall and precision, not alone.\n",
    "\n",
    "# Compare the train and test scores to see if the model is overfitting.\n",
    "\n",
    "# But we will be sure about the overfitting after we implement cross-validation."
   ]
  },
  {
   "cell_type": "markdown",
   "metadata": {
    "id": "njyk9pypbr7_"
   },
   "source": [
    "## Cross Validate"
   ]
  },
  {
   "cell_type": "code",
   "execution_count": 77,
   "metadata": {
    "id": "ks3D3mBebr7_"
   },
   "outputs": [],
   "source": [
    "from sklearn.model_selection import cross_validate"
   ]
  },
  {
   "cell_type": "code",
   "execution_count": 78,
   "metadata": {
    "id": "94DIouyhbr7_",
    "outputId": "3468380f-2102-4f00-c95f-ee2b2f5f6b1d"
   },
   "outputs": [
    {
     "data": {
      "text/plain": [
       "dict_keys(['explained_variance', 'r2', 'max_error', 'matthews_corrcoef', 'neg_median_absolute_error', 'neg_mean_absolute_error', 'neg_mean_absolute_percentage_error', 'neg_mean_squared_error', 'neg_mean_squared_log_error', 'neg_root_mean_squared_error', 'neg_mean_poisson_deviance', 'neg_mean_gamma_deviance', 'accuracy', 'top_k_accuracy', 'roc_auc', 'roc_auc_ovr', 'roc_auc_ovo', 'roc_auc_ovr_weighted', 'roc_auc_ovo_weighted', 'balanced_accuracy', 'average_precision', 'neg_log_loss', 'neg_brier_score', 'positive_likelihood_ratio', 'neg_negative_likelihood_ratio', 'adjusted_rand_score', 'rand_score', 'homogeneity_score', 'completeness_score', 'v_measure_score', 'mutual_info_score', 'adjusted_mutual_info_score', 'normalized_mutual_info_score', 'fowlkes_mallows_score', 'precision', 'precision_macro', 'precision_micro', 'precision_samples', 'precision_weighted', 'recall', 'recall_macro', 'recall_micro', 'recall_samples', 'recall_weighted', 'f1', 'f1_macro', 'f1_micro', 'f1_samples', 'f1_weighted', 'jaccard', 'jaccard_macro', 'jaccard_micro', 'jaccard_samples', 'jaccard_weighted'])"
      ]
     },
     "execution_count": 78,
     "metadata": {},
     "output_type": "execute_result"
    }
   ],
   "source": [
    "import sklearn\n",
    "sklearn.metrics.SCORERS.keys()\n",
    "\n",
    "# list of scores(metrics) which can be used in cross-validatoin and gridsearchcv. \n",
    "# we will select \"accuracy\", \"precision\", \"recall\" and \"f1\""
   ]
  },
  {
   "cell_type": "code",
   "execution_count": 79,
   "metadata": {
    "id": "nMGHfrfFbr7_"
   },
   "outputs": [],
   "source": [
    "model = Pipeline(steps=operations)\n",
    "\n",
    "scores = cross_validate(model, X_train, y_train, scoring = ['accuracy', 'precision','recall','f1'], cv = 10,\n",
    "                        return_train_score=True)\n",
    "df_scores = pd.DataFrame(scores, index = range(1, 11))\n",
    "\n",
    "\n",
    "# o determine definite overfitting/underfitting through cross-validation,\n",
    "# we set return_train_score=True in each iteration to compare the train and validation set scores.\n",
    "\n",
    "# If we have applied scaling to our data, we do not forget to use pipeline in CV and gridsearch processes to prevent data leakage.\n",
    "\n",
    "# The scores returned below are always for class 1. We need to perform additional operations for the CV scores of class 0 metrics. \n",
    "# An example will be shown in the next lesson."
   ]
  },
  {
   "cell_type": "code",
   "execution_count": 80,
   "metadata": {
    "id": "nYDKhjXhbr8A",
    "outputId": "385b09d8-463d-457b-ca50-6a44b33458d2"
   },
   "outputs": [
    {
     "data": {
      "text/plain": [
       "test_accuracy      0.914667\n",
       "train_accuracy     0.914000\n",
       "test_precision     0.914709\n",
       "train_precision    0.913790\n",
       "test_recall        0.946138\n",
       "train_recall       0.945496\n",
       "test_f1            0.929875\n",
       "train_f1           0.929373\n",
       "dtype: float64"
      ]
     },
     "execution_count": 80,
     "metadata": {},
     "output_type": "execute_result"
    }
   ],
   "source": [
    "df_scores.mean()[2:]\n",
    "\n",
    "# now, we can be sure about overfitting/underfitting with these results. -> No overfitting and underfitting"
   ]
  },
  {
   "cell_type": "code",
   "execution_count": 81,
   "metadata": {
    "id": "eOOg0jcLbr8A",
    "outputId": "ae39fb68-833a-488c-b236-a9e241d6b5de"
   },
   "outputs": [
    {
     "name": "stdout",
     "output_type": "stream",
     "text": [
      "Test_Set\n",
      "[[172  21]\n",
      " [ 14 293]]\n",
      "              precision    recall  f1-score   support\n",
      "\n",
      "           0       0.92      0.89      0.91       193\n",
      "           1       0.93      0.95      0.94       307\n",
      "\n",
      "    accuracy                           0.93       500\n",
      "   macro avg       0.93      0.92      0.93       500\n",
      "weighted avg       0.93      0.93      0.93       500\n",
      "\n",
      "\n",
      "Train_Set\n",
      "[[1567  240]\n",
      " [ 147 2546]]\n",
      "              precision    recall  f1-score   support\n",
      "\n",
      "           0       0.91      0.87      0.89      1807\n",
      "           1       0.91      0.95      0.93      2693\n",
      "\n",
      "    accuracy                           0.91      4500\n",
      "   macro avg       0.91      0.91      0.91      4500\n",
      "weighted avg       0.91      0.91      0.91      4500\n",
      "\n"
     ]
    }
   ],
   "source": [
    "eval_metric(model, X_train, y_train, X_test, y_test)\n",
    "\n",
    "# These are the final results\n",
    "# We can report these results to customer, stakeholders etc.\n",
    "# We can compare the reliability and consistency of these results by comparing validation scores of CV. \n",
    "# If they are close, then we can conclude that these are consistent."
   ]
  },
  {
   "cell_type": "markdown",
   "metadata": {
    "id": "kfgXWFDybr8B"
   },
   "source": [
    "## ROC (Receiver Operating Curve) and AUC (Area Under Curve)"
   ]
  },
  {
   "cell_type": "markdown",
   "metadata": {
    "id": "9e2sxBulbr8B"
   },
   "source": [
    "Purpose of ROC Curve:\n",
    "\n",
    "    1. Analysing the strength/predictive power of a classifier.\n",
    "    \n",
    "    2. Determining optimal threshold.\n",
    "    \n",
    "    3. Comparing two models (using Area Under the Curve)."
   ]
  },
  {
   "cell_type": "markdown",
   "metadata": {
    "id": "VdZoLsw-br8B"
   },
   "source": [
    "AUC represents a degree or measure of separability. It tells us how much the model is capable of distinguishing between classes."
   ]
  },
  {
   "cell_type": "markdown",
   "metadata": {
    "id": "GvKOtT2Pbr8B"
   },
   "source": [
    "The ROC Curve was first used during World War II for the analysis of radar signals. After the attack on Pearl Harbor, the US army began new research to improve the rate of detection of Japanese aircraft from their radar signals. Needless to say, they did not want to miss any of them. Neither did they wish to waste their resources on false alarms. They measured the ability of a radar receiver operator to make these predictions called the Receiver Operating Characteristic. That is the origin of the name. The purpose of the curve was similar to how we use it to improve our machine learning models now. The aim was to analyse the predictive power of the predictor in ensuring the detection of as many true positives as possible while minimizing false positives.\n",
    "\n",
    "https://towardsdatascience.com/demystifying-roc-curves-df809474529a"
   ]
  },
  {
   "cell_type": "markdown",
   "metadata": {
    "id": "sjQm1iWqbr8C"
   },
   "source": [
    "## ROC AUC Curve\n",
    "\n",
    "![ROC.gif](attachment:ROC.gif)"
   ]
  },
  {
   "cell_type": "markdown",
   "metadata": {
    "id": "ZOnuUMaSbr8C"
   },
   "source": [
    "## ROC AUC and Precision Recall Curve\n",
    "\n",
    "![PR.gif](attachment:PR.gif)"
   ]
  },
  {
   "cell_type": "markdown",
   "metadata": {
    "id": "AnvXtwh4br8C"
   },
   "source": [
    "## For Imbalanced Data ROC AUC and Precsion-Recall Curve\n",
    "\n",
    "![imbalance.gif](attachment:imbalance.gif)"
   ]
  },
  {
   "cell_type": "code",
   "execution_count": 55,
   "metadata": {
    "id": "O2LWlNbGbr8C"
   },
   "outputs": [],
   "source": [
    "from sklearn.metrics import roc_auc_score, auc, roc_curve, RocCurveDisplay, PrecisionRecallDisplay\n",
    "#plot_roc_curve, plot_precision_recall_curve\n",
    "\n",
    "# in classification problems, we can observe ROC-AUC score when data set is balanced,\n",
    "# average precision score when unbalanced.\n",
    "\n",
    "# AUC will produce too optimistic(misleading) scores with unbalanaced data set.\n",
    "\n",
    "# These scores indicate the general performance of the model and how the model is successful at distinguishing the target class from others.\n"
   ]
  },
  {
   "cell_type": "code",
   "execution_count": 56,
   "metadata": {
    "id": "hvCVVzDHbr8C",
    "outputId": "4b4f4a8e-d491-4ad1-bbe4-44dfb2defd1b"
   },
   "outputs": [
    {
     "data": {
      "text/plain": [
       "<sklearn.metrics._plot.roc_curve.RocCurveDisplay at 0x7f9dc120e160>"
      ]
     },
     "execution_count": 56,
     "metadata": {},
     "output_type": "execute_result"
    },
    {
     "data": {
      "image/png": "[encoded data removed]",
      "text/plain": [
       "<Figure size 720x432 with 1 Axes>"
      ]
     },
     "metadata": {
      "needs_background": "light"
     },
     "output_type": "display_data"
    }
   ],
   "source": [
    "#plot_roc_curve(pipe_model, X_test, y_test);\n",
    "RocCurveDisplay.from_estimator(pipe_model, X_test, y_test)\n",
    "\n",
    "# since the data is balanced, we are observing AUC. AUC = 0.96 ==> the model can distinguish class 1 from class 0 with a 96% success."
   ]
  },
  {
   "cell_type": "code",
   "execution_count": 57,
   "metadata": {
    "id": "0Rxq05xVbr8D",
    "outputId": "0f56eaa0-8e3e-457b-8fe3-0771a83c3999"
   },
   "outputs": [
    {
     "data": {
      "text/plain": [
       "0.9630132824762451"
      ]
     },
     "execution_count": 57,
     "metadata": {},
     "output_type": "execute_result"
    }
   ],
   "source": [
    "roc_auc_score(y_test, y_pred_proba[:,1])\n",
    "\n",
    "# for AUC score, give probabilities of class 1 with y_test to roc_auc_score function."
   ]
  },
  {
   "cell_type": "code",
   "execution_count": 58,
   "metadata": {
    "id": "WTzv-zsEbr8D",
    "outputId": "ba516ec2-c9d3-46c9-e879-4d599fd37847"
   },
   "outputs": [
    {
     "data": {
      "text/plain": [
       "0.9227945519906837"
      ]
     },
     "execution_count": 58,
     "metadata": {},
     "output_type": "execute_result"
    }
   ],
   "source": [
    "roc_auc_score(y_test, y_pred)\n",
    "\n",
    "# don't give y_pred! use y_pred_proba!"
   ]
  },
  {
   "cell_type": "code",
   "execution_count": 59,
   "metadata": {
    "id": "m8BsbLUvbr8D",
    "outputId": "054de5d0-f0eb-4f1c-def8-e3df1df9338f"
   },
   "outputs": [
    {
     "data": {
      "text/plain": [
       "<sklearn.metrics._plot.precision_recall_curve.PrecisionRecallDisplay at 0x7f9dc134ce80>"
      ]
     },
     "execution_count": 59,
     "metadata": {},
     "output_type": "execute_result"
    },
    {
     "data": {
      "image/png": "[encoded data removed]",
      "text/plain": [
       "<Figure size 720x432 with 1 Axes>"
      ]
     },
     "metadata": {
      "needs_background": "light"
     },
     "output_type": "display_data"
    }
   ],
   "source": [
    "#plot_precision_recall_curve(pipe_model, X_test, y_test);\n",
    "PrecisionRecallDisplay.from_estimator(pipe_model, X_test, y_test)\n",
    "\n",
    "# for balanced datasets, both AUC score and average precision score con return similar values, but\n",
    "# it's better to consider AUC for balanced dataset\n",
    "# and average precision for unbalanced one when negative dominates "
   ]
  },
  {
   "cell_type": "markdown",
   "metadata": {
    "id": "qJH3QRP6br8D"
   },
   "source": [
    "## Final Model and Model Deployment without Pipeline"
   ]
  },
  {
   "cell_type": "code",
   "execution_count": 60,
   "metadata": {
    "id": "M-sYn8Bkbr8E"
   },
   "outputs": [],
   "source": [
    "scaler = StandardScaler().fit(X)"
   ]
  },
  {
   "cell_type": "code",
   "execution_count": 61,
   "metadata": {
    "id": "uxSnsnZobr8E"
   },
   "outputs": [],
   "source": [
    "import pickle\n",
    "pickle.dump(scaler, open(\"scaler_hearing\", 'wb'))"
   ]
  },
  {
   "cell_type": "code",
   "execution_count": 62,
   "metadata": {
    "id": "FYWApYg2br8E"
   },
   "outputs": [],
   "source": [
    "X_scaled = scaler.transform(X)"
   ]
  },
  {
   "cell_type": "code",
   "execution_count": 63,
   "metadata": {
    "id": "nfxncDkZbr8E"
   },
   "outputs": [],
   "source": [
    "final_model = LogisticRegression().fit(X_scaled, y)"
   ]
  },
  {
   "cell_type": "code",
   "execution_count": 64,
   "metadata": {
    "id": "_TSG0Afsbr8E"
   },
   "outputs": [],
   "source": [
    "pickle.dump(final_model, open(\"final_model_hearing\", 'wb'))"
   ]
  },
  {
   "cell_type": "code",
   "execution_count": 65,
   "metadata": {
    "id": "zZQqh_Eebr8E"
   },
   "outputs": [],
   "source": [
    "my_dict = {\"age\": [20, 30, 40, 50, 60],\n",
    "           \"physical_score\": [50, 30, 20, 10, 5]}"
   ]
  },
  {
   "cell_type": "code",
   "execution_count": 66,
   "metadata": {
    "id": "4EJRYO9fbr8E",
    "outputId": "9bf48851-57e2-4b63-ecd1-b80a79e33ad7"
   },
   "outputs": [
    {
     "data": {
      "text/html": [
       "<div>\n",
       "<style scoped>\n",
       "    .dataframe tbody tr th:only-of-type {\n",
       "        vertical-align: middle;\n",
       "    }\n",
       "\n",
       "    .dataframe tbody tr th {\n",
       "        vertical-align: top;\n",
       "    }\n",
       "\n",
       "    .dataframe thead th {\n",
       "        text-align: right;\n",
       "    }\n",
       "</style>\n",
       "<table border=\"1\" class=\"dataframe\">\n",
       "  <thead>\n",
       "    <tr style=\"text-align: right;\">\n",
       "      <th></th>\n",
       "      <th>age</th>\n",
       "      <th>physical_score</th>\n",
       "    </tr>\n",
       "  </thead>\n",
       "  <tbody>\n",
       "    <tr>\n",
       "      <th>0</th>\n",
       "      <td>20</td>\n",
       "      <td>50</td>\n",
       "    </tr>\n",
       "    <tr>\n",
       "      <th>1</th>\n",
       "      <td>30</td>\n",
       "      <td>30</td>\n",
       "    </tr>\n",
       "    <tr>\n",
       "      <th>2</th>\n",
       "      <td>40</td>\n",
       "      <td>20</td>\n",
       "    </tr>\n",
       "    <tr>\n",
       "      <th>3</th>\n",
       "      <td>50</td>\n",
       "      <td>10</td>\n",
       "    </tr>\n",
       "    <tr>\n",
       "      <th>4</th>\n",
       "      <td>60</td>\n",
       "      <td>5</td>\n",
       "    </tr>\n",
       "  </tbody>\n",
       "</table>\n",
       "</div>"
      ],
      "text/plain": [
       "   age  physical_score\n",
       "0   20              50\n",
       "1   30              30\n",
       "2   40              20\n",
       "3   50              10\n",
       "4   60               5"
      ]
     },
     "execution_count": 66,
     "metadata": {},
     "output_type": "execute_result"
    }
   ],
   "source": [
    "sample = pd.DataFrame(my_dict)\n",
    "sample"
   ]
  },
  {
   "cell_type": "code",
   "execution_count": 67,
   "metadata": {
    "id": "nahEBRyybr8F"
   },
   "outputs": [],
   "source": [
    "scaler_hearing = pickle.load(open(\"scaler_hearing\", \"rb\"))"
   ]
  },
  {
   "cell_type": "code",
   "execution_count": 68,
   "metadata": {
    "id": "xJiVn46mbr8F",
    "outputId": "fcde6047-b2d7-4450-874f-5e0be482d3fd"
   },
   "outputs": [
    {
     "data": {
      "text/plain": [
       "array([[-2.80075819,  2.11038956],\n",
       "       [-1.91469467, -0.33789511],\n",
       "       [-1.02863115, -1.56203745],\n",
       "       [-0.14256762, -2.78617979],\n",
       "       [ 0.7434959 , -3.39825096]])"
      ]
     },
     "execution_count": 68,
     "metadata": {},
     "output_type": "execute_result"
    }
   ],
   "source": [
    "sample_scaled = scaler_hearing.transform(sample)\n",
    "sample_scaled"
   ]
  },
  {
   "cell_type": "code",
   "execution_count": 69,
   "metadata": {
    "id": "v4c3tQmibr8F"
   },
   "outputs": [],
   "source": [
    "final_model = pickle.load(open(\"final_model_hearing\", \"rb\"))"
   ]
  },
  {
   "cell_type": "code",
   "execution_count": 70,
   "metadata": {
    "id": "sNR7locubr8F"
   },
   "outputs": [],
   "source": [
    "predictions = final_model.predict(sample_scaled)\n",
    "predictions_proba = final_model.predict_proba(sample_scaled)"
   ]
  },
  {
   "cell_type": "code",
   "execution_count": 71,
   "metadata": {
    "id": "ooNMDOLKbr8G",
    "outputId": "97c98c84-032f-4052-dee7-bf34c9611c9b"
   },
   "outputs": [
    {
     "data": {
      "text/plain": [
       "array([1, 1, 0, 0, 0])"
      ]
     },
     "execution_count": 71,
     "metadata": {},
     "output_type": "execute_result"
    }
   ],
   "source": [
    "predictions"
   ]
  },
  {
   "cell_type": "code",
   "execution_count": 72,
   "metadata": {
    "id": "72OaWWGYbr8H",
    "outputId": "a1505d4e-16d4-4153-dc36-ac121868d36a"
   },
   "outputs": [
    {
     "data": {
      "text/plain": [
       "array([9.99970203e-01, 7.30358070e-01, 1.61805230e-02, 9.98533190e-05,\n",
       "       5.25930939e-06])"
      ]
     },
     "execution_count": 72,
     "metadata": {},
     "output_type": "execute_result"
    }
   ],
   "source": [
    "predictions_proba[:,1]"
   ]
  },
  {
   "cell_type": "markdown",
   "metadata": {
    "id": "xYqhEmDpbr8H"
   },
   "source": [
    "## Final Model and Model Deployment with Pipeline"
   ]
  },
  {
   "cell_type": "code",
   "execution_count": 73,
   "metadata": {
    "id": "CZknjqfBbr8H",
    "outputId": "5f6eb36b-4169-4d1e-8dfa-cfe44b40a1cd"
   },
   "outputs": [
    {
     "data": {
      "text/html": [
       "<style>#sk-container-id-3 {color: black;background-color: white;}#sk-container-id-3 pre{padding: 0;}#sk-container-id-3 div.sk-toggleable {background-color: white;}#sk-container-id-3 label.sk-toggleable__label {cursor: pointer;display: block;width: 100%;margin-bottom: 0;padding: 0.3em;box-sizing: border-box;text-align: center;}#sk-container-id-3 label.sk-toggleable__label-arrow:before {content: \"▸\";float: left;margin-right: 0.25em;color: #696969;}#sk-container-id-3 label.sk-toggleable__label-arrow:hover:before {color: black;}#sk-container-id-3 div.sk-estimator:hover label.sk-toggleable__label-arrow:before {color: black;}#sk-container-id-3 div.sk-toggleable__content {max-height: 0;max-width: 0;overflow: hidden;text-align: left;background-color: #f0f8ff;}#sk-container-id-3 div.sk-toggleable__content pre {margin: 0.2em;color: black;border-radius: 0.25em;background-color: #f0f8ff;}#sk-container-id-3 input.sk-toggleable__control:checked~div.sk-toggleable__content {max-height: 200px;max-width: 100%;overflow: auto;}#sk-container-id-3 input.sk-toggleable__control:checked~label.sk-toggleable__label-arrow:before {content: \"▾\";}#sk-container-id-3 div.sk-estimator input.sk-toggleable__control:checked~label.sk-toggleable__label {background-color: #d4ebff;}#sk-container-id-3 div.sk-label input.sk-toggleable__control:checked~label.sk-toggleable__label {background-color: #d4ebff;}#sk-container-id-3 input.sk-hidden--visually {border: 0;clip: rect(1px 1px 1px 1px);clip: rect(1px, 1px, 1px, 1px);height: 1px;margin: -1px;overflow: hidden;padding: 0;position: absolute;width: 1px;}#sk-container-id-3 div.sk-estimator {font-family: monospace;background-color: #f0f8ff;border: 1px dotted black;border-radius: 0.25em;box-sizing: border-box;margin-bottom: 0.5em;}#sk-container-id-3 div.sk-estimator:hover {background-color: #d4ebff;}#sk-container-id-3 div.sk-parallel-item::after {content: \"\";width: 100%;border-bottom: 1px solid gray;flex-grow: 1;}#sk-container-id-3 div.sk-label:hover label.sk-toggleable__label {background-color: #d4ebff;}#sk-container-id-3 div.sk-serial::before {content: \"\";position: absolute;border-left: 1px solid gray;box-sizing: border-box;top: 0;bottom: 0;left: 50%;z-index: 0;}#sk-container-id-3 div.sk-serial {display: flex;flex-direction: column;align-items: center;background-color: white;padding-right: 0.2em;padding-left: 0.2em;position: relative;}#sk-container-id-3 div.sk-item {position: relative;z-index: 1;}#sk-container-id-3 div.sk-parallel {display: flex;align-items: stretch;justify-content: center;background-color: white;position: relative;}#sk-container-id-3 div.sk-item::before, #sk-container-id-3 div.sk-parallel-item::before {content: \"\";position: absolute;border-left: 1px solid gray;box-sizing: border-box;top: 0;bottom: 0;left: 50%;z-index: -1;}#sk-container-id-3 div.sk-parallel-item {display: flex;flex-direction: column;z-index: 1;position: relative;background-color: white;}#sk-container-id-3 div.sk-parallel-item:first-child::after {align-self: flex-end;width: 50%;}#sk-container-id-3 div.sk-parallel-item:last-child::after {align-self: flex-start;width: 50%;}#sk-container-id-3 div.sk-parallel-item:only-child::after {width: 0;}#sk-container-id-3 div.sk-dashed-wrapped {border: 1px dashed gray;margin: 0 0.4em 0.5em 0.4em;box-sizing: border-box;padding-bottom: 0.4em;background-color: white;}#sk-container-id-3 div.sk-label label {font-family: monospace;font-weight: bold;display: inline-block;line-height: 1.2em;}#sk-container-id-3 div.sk-label-container {text-align: center;}#sk-container-id-3 div.sk-container {/* jupyter's `normalize.less` sets `[hidden] { display: none; }` but bootstrap.min.css set `[hidden] { display: none !important; }` so we also need the `!important` here to be able to override the default hidden behavior on the sphinx rendered scikit-learn.org. See: https://github.com/scikit-learn/scikit-learn/issues/21755 */display: inline-block !important;position: relative;}#sk-container-id-3 div.sk-text-repr-fallback {display: none;}</style><div id=\"sk-container-id-3\" class=\"sk-top-container\"><div class=\"sk-text-repr-fallback\"><pre>Pipeline(steps=[(&#x27;scaler&#x27;, StandardScaler()),\n",
       "                (&#x27;logistic&#x27;, LogisticRegression())])</pre><b>In a Jupyter environment, please rerun this cell to show the HTML representation or trust the notebook. <br />On GitHub, the HTML representation is unable to render, please try loading this page with nbviewer.org.</b></div><div class=\"sk-container\" hidden><div class=\"sk-item sk-dashed-wrapped\"><div class=\"sk-label-container\"><div class=\"sk-label sk-toggleable\"><input class=\"sk-toggleable__control sk-hidden--visually\" id=\"sk-estimator-id-5\" type=\"checkbox\" ><label for=\"sk-estimator-id-5\" class=\"sk-toggleable__label sk-toggleable__label-arrow\">Pipeline</label><div class=\"sk-toggleable__content\"><pre>Pipeline(steps=[(&#x27;scaler&#x27;, StandardScaler()),\n",
       "                (&#x27;logistic&#x27;, LogisticRegression())])</pre></div></div></div><div class=\"sk-serial\"><div class=\"sk-item\"><div class=\"sk-estimator sk-toggleable\"><input class=\"sk-toggleable__control sk-hidden--visually\" id=\"sk-estimator-id-6\" type=\"checkbox\" ><label for=\"sk-estimator-id-6\" class=\"sk-toggleable__label sk-toggleable__label-arrow\">StandardScaler</label><div class=\"sk-toggleable__content\"><pre>StandardScaler()</pre></div></div></div><div class=\"sk-item\"><div class=\"sk-estimator sk-toggleable\"><input class=\"sk-toggleable__control sk-hidden--visually\" id=\"sk-estimator-id-7\" type=\"checkbox\" ><label for=\"sk-estimator-id-7\" class=\"sk-toggleable__label sk-toggleable__label-arrow\">LogisticRegression</label><div class=\"sk-toggleable__content\"><pre>LogisticRegression()</pre></div></div></div></div></div></div></div>"
      ],
      "text/plain": [
       "Pipeline(steps=[('scaler', StandardScaler()),\n",
       "                ('logistic', LogisticRegression())])"
      ]
     },
     "execution_count": 73,
     "metadata": {},
     "output_type": "execute_result"
    }
   ],
   "source": [
    "operations = [(\"scaler\", StandardScaler()), (\"logistic\", LogisticRegression())]\n",
    "\n",
    "final_model = Pipeline(steps=operations)\n",
    "\n",
    "final_model.fit(X, y)"
   ]
  },
  {
   "cell_type": "code",
   "execution_count": 74,
   "metadata": {
    "id": "fcB4uzhEbr8I"
   },
   "outputs": [],
   "source": [
    "import pickle\n",
    "pickle.dump(final_model, open(\"final_pipe_model\", 'wb'))\n",
    "# wb, rb are modes\n",
    "# wb: write binary\n",
    "# rb: read binary\n",
    "# instead of w and r, we should use wb and rb to serialize and de-serialize the ML model pickle"
   ]
  },
  {
   "cell_type": "code",
   "execution_count": 75,
   "metadata": {
    "id": "_3VWrou5br8J"
   },
   "outputs": [],
   "source": [
    "new_model = pickle.load(open(\"final_pipe_model\", \"rb\"))"
   ]
  },
  {
   "cell_type": "code",
   "execution_count": 76,
   "metadata": {
    "id": "3QlajilVbr8J",
    "outputId": "bdf1a5ce-83d8-4935-c9eb-f09e8052dd31"
   },
   "outputs": [
    {
     "data": {
      "text/plain": [
       "array([1, 1, 0, 0, 0])"
      ]
     },
     "execution_count": 76,
     "metadata": {},
     "output_type": "execute_result"
    }
   ],
   "source": [
    "new_model.predict(sample)"
   ]
  },
  {
   "cell_type": "code",
   "execution_count": 77,
   "metadata": {
    "id": "XBVpFb_3br8J",
    "outputId": "f3092142-9097-46c0-f5c2-f7b9d211f82d"
   },
   "outputs": [
    {
     "data": {
      "text/plain": [
       "array([9.99970203e-01, 7.30358070e-01, 1.61805230e-02, 9.98533190e-05,\n",
       "       5.25930939e-06])"
      ]
     },
     "execution_count": 77,
     "metadata": {},
     "output_type": "execute_result"
    }
   ],
   "source": [
    "new_model.predict_proba(sample)[:,1]"
   ]
  },
  {
   "cell_type": "code",
   "execution_count": 78,
   "metadata": {
    "id": "qSCKio4Bbr8J",
    "outputId": "c18687d7-5f06-4442-e12d-1d61cd1dcc15"
   },
   "outputs": [
    {
     "data": {
      "text/html": [
       "<div>\n",
       "<style scoped>\n",
       "    .dataframe tbody tr th:only-of-type {\n",
       "        vertical-align: middle;\n",
       "    }\n",
       "\n",
       "    .dataframe tbody tr th {\n",
       "        vertical-align: top;\n",
       "    }\n",
       "\n",
       "    .dataframe thead th {\n",
       "        text-align: right;\n",
       "    }\n",
       "</style>\n",
       "<table border=\"1\" class=\"dataframe\">\n",
       "  <thead>\n",
       "    <tr style=\"text-align: right;\">\n",
       "      <th></th>\n",
       "      <th>age</th>\n",
       "      <th>physical_score</th>\n",
       "      <th>pred</th>\n",
       "      <th>pred_proba</th>\n",
       "    </tr>\n",
       "  </thead>\n",
       "  <tbody>\n",
       "    <tr>\n",
       "      <th>0</th>\n",
       "      <td>20</td>\n",
       "      <td>50</td>\n",
       "      <td>1</td>\n",
       "      <td>0.999970</td>\n",
       "    </tr>\n",
       "    <tr>\n",
       "      <th>1</th>\n",
       "      <td>30</td>\n",
       "      <td>30</td>\n",
       "      <td>1</td>\n",
       "      <td>0.730358</td>\n",
       "    </tr>\n",
       "    <tr>\n",
       "      <th>2</th>\n",
       "      <td>40</td>\n",
       "      <td>20</td>\n",
       "      <td>0</td>\n",
       "      <td>0.016181</td>\n",
       "    </tr>\n",
       "    <tr>\n",
       "      <th>3</th>\n",
       "      <td>50</td>\n",
       "      <td>10</td>\n",
       "      <td>0</td>\n",
       "      <td>0.000100</td>\n",
       "    </tr>\n",
       "    <tr>\n",
       "      <th>4</th>\n",
       "      <td>60</td>\n",
       "      <td>5</td>\n",
       "      <td>0</td>\n",
       "      <td>0.000005</td>\n",
       "    </tr>\n",
       "  </tbody>\n",
       "</table>\n",
       "</div>"
      ],
      "text/plain": [
       "   age  physical_score  pred  pred_proba\n",
       "0   20              50     1    0.999970\n",
       "1   30              30     1    0.730358\n",
       "2   40              20     0    0.016181\n",
       "3   50              10     0    0.000100\n",
       "4   60               5     0    0.000005"
      ]
     },
     "execution_count": 78,
     "metadata": {},
     "output_type": "execute_result"
    }
   ],
   "source": [
    "sample[\"pred\"] = predictions\n",
    "sample[\"pred_proba\"] = predictions_proba[:,1]\n",
    "sample"
   ]
  },
  {
   "cell_type": "code",
   "execution_count": null,
   "metadata": {
    "id": "dIOela5Mbr8J"
   },
   "outputs": [],
   "source": []
  }
 ],
 "metadata": {
  "colab": {
   "provenance": []
  },
  "kernelspec": {
   "display_name": "Python 3 (ipykernel)",
   "language": "python",
   "name": "python3"
  },
  "language_info": {
   "codemirror_mode": {
    "name": "ipython",
    "version": 3
   },
   "file_extension": ".py",
   "mimetype": "text/x-python",
   "name": "python",
   "nbconvert_exporter": "python",
   "pygments_lexer": "ipython3",
   "version": "3.9.7"
  }
 },
 "nbformat": 4,
 "nbformat_minor": 1
}
